{
 "cells": [
  {
   "cell_type": "markdown",
   "id": "98904bbb",
   "metadata": {},
   "source": [
    "# Example of using the DSLM algorithm"
   ]
  },
  {
   "cell_type": "markdown",
   "id": "be4a250d",
   "metadata": {},
   "source": [
    "## About this document\n",
    "\n",
    "The purpose of this document is to show an example of using the DSLM algorithm.\n",
    "\n",
    "In the following sections, an introduction of the this algorithm will be presented, followed by instructions to install the `subgroups` library. Then, the execution process of the DSLM algorithm will be described, including the necessary steps to consider. Finally, the results obtained from the application of this algorithm will be presented, highlighting the information obtained in the output file."
   ]
  },
  {
   "cell_type": "markdown",
   "id": "1cb330ae",
   "metadata": {},
   "source": [
    "## DSLM algorithm"
   ]
  },
  {
   "cell_type": "markdown",
   "id": "d67aec24",
   "metadata": {},
   "source": [
    "DSLM (Diverse Subgroup Lists Miner) [[1]](#1) is an algorithm that generates diverse top-k subgroup lists. This algorithm combines the subgroup discovery (SD) technique and the Minimum Description Length (MDL) principle and uses the Subgroup List model."
   ]
  },
  {
   "cell_type": "markdown",
   "id": "e9b05c3d",
   "metadata": {},
   "source": [
    "## Installing the `subgroups` library\n",
    "\n",
    "To install the `subgroups` library, you have to execute the following cell:"
   ]
  },
  {
   "cell_type": "code",
   "execution_count": 1,
   "id": "18984cdb",
   "metadata": {},
   "outputs": [
    {
     "name": "stdout",
     "output_type": "stream",
     "text": [
      "Requirement already satisfied: subgroups in c:\\users\\anlopezmc\\anaconda3\\lib\\site-packages (0.1.7)\n",
      "Requirement already satisfied: pandas>=2.0.3 in c:\\users\\anlopezmc\\anaconda3\\lib\\site-packages (from subgroups) (2.0.3)\n",
      "Requirement already satisfied: bitarray>=2.7.6 in c:\\users\\anlopezmc\\anaconda3\\lib\\site-packages (from subgroups) (2.9.2)\n",
      "Requirement already satisfied: statsmodels>=0.14.0 in c:\\users\\anlopezmc\\anaconda3\\lib\\site-packages (from subgroups) (0.14.0)\n",
      "Requirement already satisfied: python-dateutil>=2.8.2 in c:\\users\\anlopezmc\\anaconda3\\lib\\site-packages (from pandas>=2.0.3->subgroups) (2.8.2)\n",
      "Requirement already satisfied: pytz>=2020.1 in c:\\users\\anlopezmc\\anaconda3\\lib\\site-packages (from pandas>=2.0.3->subgroups) (2023.3.post1)\n",
      "Requirement already satisfied: tzdata>=2022.1 in c:\\users\\anlopezmc\\anaconda3\\lib\\site-packages (from pandas>=2.0.3->subgroups) (2023.3)\n",
      "Requirement already satisfied: numpy>=1.21.0 in c:\\users\\anlopezmc\\anaconda3\\lib\\site-packages (from pandas>=2.0.3->subgroups) (1.24.3)\n",
      "Requirement already satisfied: scipy!=1.9.2,>=1.4 in c:\\users\\anlopezmc\\anaconda3\\lib\\site-packages (from statsmodels>=0.14.0->subgroups) (1.11.1)\n",
      "Requirement already satisfied: patsy>=0.5.2 in c:\\users\\anlopezmc\\anaconda3\\lib\\site-packages (from statsmodels>=0.14.0->subgroups) (0.5.3)\n",
      "Requirement already satisfied: packaging>=21.3 in c:\\users\\anlopezmc\\anaconda3\\lib\\site-packages (from statsmodels>=0.14.0->subgroups) (23.1)\n",
      "Requirement already satisfied: six in c:\\users\\anlopezmc\\anaconda3\\lib\\site-packages (from patsy>=0.5.2->statsmodels>=0.14.0->subgroups) (1.16.0)\n"
     ]
    }
   ],
   "source": [
    "!pip install subgroups"
   ]
  },
  {
   "cell_type": "markdown",
   "id": "76d4c1a7",
   "metadata": {},
   "source": [
    "After that, to verify that the installation was successful, yo can run the following cell:"
   ]
  },
  {
   "cell_type": "code",
   "execution_count": 2,
   "id": "bd85041c",
   "metadata": {},
   "outputs": [
    {
     "name": "stderr",
     "output_type": "stream",
     "text": [
      "test_Operator_evaluate_method (tests.core.test_operator.TestOperator.test_Operator_evaluate_method) ... ok\n",
      "test_Operator_evaluate_method_with_pandasSeries (tests.core.test_operator.TestOperator.test_Operator_evaluate_method_with_pandasSeries) ... ok\n",
      "test_Operator_generate_from_str_method (tests.core.test_operator.TestOperator.test_Operator_generate_from_str_method) ... ok\n",
      "test_Operator_string_representation (tests.core.test_operator.TestOperator.test_Operator_string_representation) ... ok\n",
      "test_Pattern_contains_method (tests.core.test_pattern.TestPattern.test_Pattern_contains_method) ... ok\n",
      "test_Pattern_general (tests.core.test_pattern.TestPattern.test_Pattern_general) ... ok\n",
      "test_Pattern_is_contained_method (tests.core.test_pattern.TestPattern.test_Pattern_is_contained_method) ... ok\n",
      "test_Pattern_is_refinement_method (tests.core.test_pattern.TestPattern.test_Pattern_is_refinement_method) ... ok\n",
      "test_Selector_attributes (tests.core.test_selector.TestSelector.test_Selector_attributes) ... ok\n",
      "test_Selector_comparisons (tests.core.test_selector.TestSelector.test_Selector_comparisons) ... ok\n",
      "test_Selector_creation_process (tests.core.test_selector.TestSelector.test_Selector_creation_process) ... ok\n",
      "test_Selector_deletion_process (tests.core.test_selector.TestSelector.test_Selector_deletion_process) ... ok\n",
      "test_Selector_generate_from_str_method (tests.core.test_selector.TestSelector.test_Selector_generate_from_str_method) ... ok\n",
      "test_Selector_match_method (tests.core.test_selector.TestSelector.test_Selector_match_method) ... ok\n",
      "test_Selector_same_value_different_type (tests.core.test_selector.TestSelector.test_Selector_same_value_different_type) ... ok\n",
      "test_Subgroup_filter (tests.core.test_subgroup.TestSubgroup.test_Subgroup_filter) ... ok\n",
      "test_Subgroup_general (tests.core.test_subgroup.TestSubgroup.test_Subgroup_general) ... ok\n",
      "test_Subgroup_is_refinement_method (tests.core.test_subgroup.TestSubgroup.test_Subgroup_is_refinement_method) ... ok\n",
      "\n",
      "----------------------------------------------------------------------\n",
      "Ran 18 tests in 0.036s\n",
      "\n",
      "OK\n",
      "test_quality_measures_compute (tests.quality_measures.test_quality_measures.TestQualityMeasures.test_quality_measures_compute) ... ok\n",
      "test_quality_measures_general (tests.quality_measures.test_quality_measures.TestQualityMeasures.test_quality_measures_general) ... ok\n",
      "test_quality_measures_value_of_class_variables (tests.quality_measures.test_quality_measures.TestQualityMeasures.test_quality_measures_value_of_class_variables) ... ok\n",
      "\n",
      "----------------------------------------------------------------------\n",
      "Ran 3 tests in 0.004s\n",
      "\n",
      "OK\n",
      "test_FPTreeForSDMap_build_tree_1 (tests.data_structures.test_fp_tree_for_sdmap.TestFPTreeForSDMap.test_FPTreeForSDMap_build_tree_1) ... ok\n",
      "test_FPTreeForSDMap_build_tree_2 (tests.data_structures.test_fp_tree_for_sdmap.TestFPTreeForSDMap.test_FPTreeForSDMap_build_tree_2) ... ok\n",
      "test_FPTreeForSDMap_build_tree_3 (tests.data_structures.test_fp_tree_for_sdmap.TestFPTreeForSDMap.test_FPTreeForSDMap_build_tree_3) ... ok\n",
      "test_FPTreeForSDMap_build_tree_4 (tests.data_structures.test_fp_tree_for_sdmap.TestFPTreeForSDMap.test_FPTreeForSDMap_build_tree_4) ... ok\n",
      "test_FPTreeForSDMap_generate_conditional_fp_tree_1 (tests.data_structures.test_fp_tree_for_sdmap.TestFPTreeForSDMap.test_FPTreeForSDMap_generate_conditional_fp_tree_1) ... ok\n",
      "test_FPTreeForSDMap_generate_conditional_fp_tree_2 (tests.data_structures.test_fp_tree_for_sdmap.TestFPTreeForSDMap.test_FPTreeForSDMap_generate_conditional_fp_tree_2) ... ok\n",
      "test_FPTreeForSDMap_generate_set_of_frequent_selectors_1 (tests.data_structures.test_fp_tree_for_sdmap.TestFPTreeForSDMap.test_FPTreeForSDMap_generate_set_of_frequent_selectors_1) ... "
     ]
    },
    {
     "name": "stdout",
     "output_type": "stream",
     "text": [
      "\n",
      "\n",
      "##################################\n",
      "########## CORE PACKAGE ##########\n",
      "##################################\n",
      "\n",
      "\n",
      "##############################################\n",
      "########## QUALITY MEASURES PACKAGE ##########\n",
      "##############################################\n",
      "\n",
      "\n",
      "#############################################\n",
      "########## DATA STRUCTURES PACKAGE ##########\n",
      "#############################################\n"
     ]
    },
    {
     "name": "stderr",
     "output_type": "stream",
     "text": [
      "ok\n",
      "test_FPTreeForSDMap_generate_set_of_frequent_selectors_2 (tests.data_structures.test_fp_tree_for_sdmap.TestFPTreeForSDMap.test_FPTreeForSDMap_generate_set_of_frequent_selectors_2) ... ok\n",
      "test_FPTreeForSDMap_generate_set_of_frequent_selectors_3 (tests.data_structures.test_fp_tree_for_sdmap.TestFPTreeForSDMap.test_FPTreeForSDMap_generate_set_of_frequent_selectors_3) ... ok\n",
      "test_FPTreeNode_general (tests.data_structures.test_fp_tree_node.TestFPTreeNode.test_FPTreeNode_general) ... ok\n",
      "test_subgroup_list_1 (tests.data_structures.test_subgroup_list.TestSubgroupList.test_subgroup_list_1) ... ok\n",
      "test_subgroup_list_2 (tests.data_structures.test_subgroup_list.TestSubgroupList.test_subgroup_list_2) ... ok\n",
      "test_subgroup_list_3 (tests.data_structures.test_subgroup_list.TestSubgroupList.test_subgroup_list_3) ... ok\n",
      "test_subgroup_list_4 (tests.data_structures.test_subgroup_list.TestSubgroupList.test_subgroup_list_4) ... ok\n",
      "test_subgroup_list_5 (tests.data_structures.test_subgroup_list.TestSubgroupList.test_subgroup_list_5) ... ok\n",
      "test_vertical_list_1 (tests.data_structures.test_vertical_list_with_bitsets.TestVerticalListWithBitsets.test_vertical_list_1) ... ok\n",
      "test_vertical_list_2 (tests.data_structures.test_vertical_list_with_bitsets.TestVerticalListWithBitsets.test_vertical_list_2) ... ok\n",
      "test_vertical_list_3 (tests.data_structures.test_vertical_list_with_bitsets.TestVerticalListWithBitsets.test_vertical_list_3) ... ok\n",
      "test_vertical_list_str_method (tests.data_structures.test_vertical_list_with_bitsets.TestVerticalListWithBitsets.test_vertical_list_str_method) ... ok\n",
      "test_vertical_list_1 (tests.data_structures.test_vertical_list_with_sets.TestVerticalListWithSets.test_vertical_list_1) ... ok\n",
      "test_vertical_list_2 (tests.data_structures.test_vertical_list_with_sets.TestVerticalListWithSets.test_vertical_list_2) ... ok\n",
      "test_vertical_list_3 (tests.data_structures.test_vertical_list_with_sets.TestVerticalListWithSets.test_vertical_list_3) ... ok\n",
      "test_vertical_list_str_method (tests.data_structures.test_vertical_list_with_sets.TestVerticalListWithSets.test_vertical_list_str_method) ... ok\n",
      "\n",
      "----------------------------------------------------------------------\n",
      "Ran 23 tests in 0.197s\n",
      "\n",
      "OK\n",
      "test_DSLM_compute_overlap_factor_function_1 (tests.algorithms.subgroup_lists.test_dslm.TestDSLM.test_DSLM_compute_overlap_factor_function_1) ... ok\n",
      "test_DSLM_compute_overlap_factor_function_2 (tests.algorithms.subgroup_lists.test_dslm.TestDSLM.test_DSLM_compute_overlap_factor_function_2) ... ok\n",
      "test_DSLM_compute_overlap_factor_function_3 (tests.algorithms.subgroup_lists.test_dslm.TestDSLM.test_DSLM_compute_overlap_factor_function_3) ... ok\n",
      "test_DSLM_counter_of_subgroups_1 (tests.algorithms.subgroup_lists.test_dslm.TestDSLM.test_DSLM_counter_of_subgroups_1) ... ok\n",
      "test_DSLM_counter_of_subgroups_2 (tests.algorithms.subgroup_lists.test_dslm.TestDSLM.test_DSLM_counter_of_subgroups_2) ... ok\n",
      "test_GMSL_fit_method_1 (tests.algorithms.subgroup_lists.test_gmsl.TestGMSL.test_GMSL_fit_method_1) ... ok\n",
      "test_GMSL_load_candidates_method_1 (tests.algorithms.subgroup_lists.test_gmsl.TestGMSL.test_GMSL_load_candidates_method_1) ... ok\n",
      "test_GMSL_load_candidates_method_2 (tests.algorithms.subgroup_lists.test_gmsl.TestGMSL.test_GMSL_load_candidates_method_2) ... ok\n",
      "test_GMSL_load_candidates_method_3 (tests.algorithms.subgroup_lists.test_gmsl.TestGMSL.test_GMSL_load_candidates_method_3) ... ok\n",
      "test_GMSL_load_candidates_method_4 (tests.algorithms.subgroup_lists.test_gmsl.TestGMSL.test_GMSL_load_candidates_method_4) ... ok\n",
      "test_GMSL_load_candidates_method_5 (tests.algorithms.subgroup_lists.test_gmsl.TestGMSL.test_GMSL_load_candidates_method_5) ... ok\n",
      "test_GMSL_mdl_functions_1 (tests.algorithms.subgroup_lists.test_gmsl.TestGMSL.test_GMSL_mdl_functions_1) ... ok\n",
      "test_GMSL_mdl_functions_2 (tests.algorithms.subgroup_lists.test_gmsl.TestGMSL.test_GMSL_mdl_functions_2) ... ok\n",
      "test_GMSL_mdl_functions_3 (tests.algorithms.subgroup_lists.test_gmsl.TestGMSL.test_GMSL_mdl_functions_3) ... "
     ]
    },
    {
     "name": "stdout",
     "output_type": "stream",
     "text": [
      "\n",
      "\n",
      "########################################\n",
      "########## ALGORITHMS PACKAGE ##########\n",
      "########################################\n"
     ]
    },
    {
     "name": "stderr",
     "output_type": "stream",
     "text": [
      "ok\n",
      "test_BSD_cardinality (tests.algorithms.subgroup_sets.test_bsd.TestBSD.test_BSD_cardinality) ... ok\n",
      "test_BSD_checkRel (tests.algorithms.subgroup_sets.test_bsd.TestBSD.test_BSD_checkRel) ... ok\n",
      "test_BSD_checkRelevancies (tests.algorithms.subgroup_sets.test_bsd.TestBSD.test_BSD_checkRelevancies) ... ok\n",
      "test_BSD_fit1 (tests.algorithms.subgroup_sets.test_bsd.TestBSD.test_BSD_fit1) ... ok\n",
      "test_BSD_fit2 (tests.algorithms.subgroup_sets.test_bsd.TestBSD.test_BSD_fit2) ... ok\n",
      "test_BSD_fit3 (tests.algorithms.subgroup_sets.test_bsd.TestBSD.test_BSD_fit3) ... ok\n",
      "test_BSD_fit4 (tests.algorithms.subgroup_sets.test_bsd.TestBSD.test_BSD_fit4) ... ok\n",
      "test_BSD_init_method (tests.algorithms.subgroup_sets.test_bsd.TestBSD.test_BSD_init_method) ... ok\n",
      "test_BSD_logicalAnd (tests.algorithms.subgroup_sets.test_bsd.TestBSD.test_BSD_logicalAnd) ... ok\n",
      "test_CBSD_checkRel (tests.algorithms.subgroup_sets.test_cbsd.TestCBSD.test_CBSD_checkRel) ... ok\n",
      "test_CBSD_checkRelevancies (tests.algorithms.subgroup_sets.test_cbsd.TestCBSD.test_CBSD_checkRelevancies) ... ok\n",
      "test_CBSD_fit1 (tests.algorithms.subgroup_sets.test_cbsd.TestCBSD.test_CBSD_fit1) ... ok\n",
      "test_CBSD_fit2 (tests.algorithms.subgroup_sets.test_cbsd.TestCBSD.test_CBSD_fit2) ... ok\n",
      "test_CBSD_fit3 (tests.algorithms.subgroup_sets.test_cbsd.TestCBSD.test_CBSD_fit3) ... ok\n",
      "test_CBSD_fit4 (tests.algorithms.subgroup_sets.test_cbsd.TestCBSD.test_CBSD_fit4) ... ok\n",
      "test_CBSD_init_method (tests.algorithms.subgroup_sets.test_cbsd.TestCBSD.test_CBSD_init_method) ... ok\n",
      "test_CPBSD_checkRel (tests.algorithms.subgroup_sets.test_cpbsd.TestCPBSD.test_CPBSD_checkRel) ... ok\n",
      "test_CPBSD_checkRelevancies (tests.algorithms.subgroup_sets.test_cpbsd.TestCPBSD.test_CPBSD_checkRelevancies) ... ok\n",
      "test_CPBSD_fit1 (tests.algorithms.subgroup_sets.test_cpbsd.TestCPBSD.test_CPBSD_fit1) ... ok\n",
      "test_CPBSD_fit2 (tests.algorithms.subgroup_sets.test_cpbsd.TestCPBSD.test_CPBSD_fit2) ... ok\n",
      "test_CPBSD_fit3 (tests.algorithms.subgroup_sets.test_cpbsd.TestCPBSD.test_CPBSD_fit3) ... ok\n",
      "test_CPBSD_fit4 (tests.algorithms.subgroup_sets.test_cpbsd.TestCPBSD.test_CPBSD_fit4) ... ok\n",
      "test_CPBSD_init_method (tests.algorithms.subgroup_sets.test_cpbsd.TestCPBSD.test_CPBSD_init_method) ... ok\n",
      "test_QFinder_fit (tests.algorithms.subgroup_sets.test_qfinder.TestQFinder.test_QFinder_fit) ... ok\n",
      "test_QFinder_generate_candidate_patterns1 (tests.algorithms.subgroup_sets.test_qfinder.TestQFinder.test_QFinder_generate_candidate_patterns1) ... ok\n",
      "test_QFinder_generate_candidate_patterns2 (tests.algorithms.subgroup_sets.test_qfinder.TestQFinder.test_QFinder_generate_candidate_patterns2) ... ok\n",
      "test_QFinder_handle_individual_result (tests.algorithms.subgroup_sets.test_qfinder.TestQFinder.test_QFinder_handle_individual_result) ... ok\n",
      "test_QFinder_init_method1 (tests.algorithms.subgroup_sets.test_qfinder.TestQFinder.test_QFinder_init_method1) ... ok\n",
      "test_QFinder_init_method2 (tests.algorithms.subgroup_sets.test_qfinder.TestQFinder.test_QFinder_init_method2) ... ok\n",
      "test_SDMap_additional_parameters_in_fit_method (tests.algorithms.subgroup_sets.test_sdmap.TestSDMap.test_SDMap_additional_parameters_in_fit_method) ... ok\n",
      "test_SDMap_fit_method_1 (tests.algorithms.subgroup_sets.test_sdmap.TestSDMap.test_SDMap_fit_method_1) ... ok\n",
      "test_SDMap_fit_method_10 (tests.algorithms.subgroup_sets.test_sdmap.TestSDMap.test_SDMap_fit_method_10) ... ok\n",
      "test_SDMap_fit_method_11 (tests.algorithms.subgroup_sets.test_sdmap.TestSDMap.test_SDMap_fit_method_11) ... ok\n",
      "test_SDMap_fit_method_2 (tests.algorithms.subgroup_sets.test_sdmap.TestSDMap.test_SDMap_fit_method_2) ... ok\n",
      "test_SDMap_fit_method_3 (tests.algorithms.subgroup_sets.test_sdmap.TestSDMap.test_SDMap_fit_method_3) ... ok\n",
      "test_SDMap_fit_method_4 (tests.algorithms.subgroup_sets.test_sdmap.TestSDMap.test_SDMap_fit_method_4) ... ok\n",
      "test_SDMap_fit_method_5 (tests.algorithms.subgroup_sets.test_sdmap.TestSDMap.test_SDMap_fit_method_5) ... ok\n",
      "test_SDMap_fit_method_6 (tests.algorithms.subgroup_sets.test_sdmap.TestSDMap.test_SDMap_fit_method_6) ... ok\n",
      "test_SDMap_fit_method_7 (tests.algorithms.subgroup_sets.test_sdmap.TestSDMap.test_SDMap_fit_method_7) ... ok\n",
      "test_SDMap_fit_method_8 (tests.algorithms.subgroup_sets.test_sdmap.TestSDMap.test_SDMap_fit_method_8) ... ok\n",
      "test_SDMap_fit_method_9 (tests.algorithms.subgroup_sets.test_sdmap.TestSDMap.test_SDMap_fit_method_9) ... ok\n",
      "test_SDMap_fpgrowth_method_1 (tests.algorithms.subgroup_sets.test_sdmap.TestSDMap.test_SDMap_fpgrowth_method_1) ... ok\n",
      "test_SDMap_fpgrowth_method_2 (tests.algorithms.subgroup_sets.test_sdmap.TestSDMap.test_SDMap_fpgrowth_method_2) ... ok\n",
      "test_SDMap_fpgrowth_method_3 (tests.algorithms.subgroup_sets.test_sdmap.TestSDMap.test_SDMap_fpgrowth_method_3) ... ok\n",
      "test_SDMap_fpgrowth_method_4 (tests.algorithms.subgroup_sets.test_sdmap.TestSDMap.test_SDMap_fpgrowth_method_4) ... ok\n",
      "test_SDMap_init_method_1 (tests.algorithms.subgroup_sets.test_sdmap.TestSDMap.test_SDMap_init_method_1) ... ok\n",
      "test_SDMap_init_method_2 (tests.algorithms.subgroup_sets.test_sdmap.TestSDMap.test_SDMap_init_method_2) ... ok\n",
      "test_SDMap_unselected_and_selected_subgroups (tests.algorithms.subgroup_sets.test_sdmap.TestSDMap.test_SDMap_unselected_and_selected_subgroups) ... ok\n",
      "test_SDMapStar_additional_parameters_in_fit_method (tests.algorithms.subgroup_sets.test_sdmapstar.TestSDMapStar.test_SDMapStar_additional_parameters_in_fit_method) ... ok\n",
      "test_SDMapStar_fit_method_1 (tests.algorithms.subgroup_sets.test_sdmapstar.TestSDMapStar.test_SDMapStar_fit_method_1) ... ok\n",
      "test_SDMapStar_fit_method_10 (tests.algorithms.subgroup_sets.test_sdmapstar.TestSDMapStar.test_SDMapStar_fit_method_10) ... ok\n",
      "test_SDMapStar_fit_method_2 (tests.algorithms.subgroup_sets.test_sdmapstar.TestSDMapStar.test_SDMapStar_fit_method_2) ... ok\n",
      "test_SDMapStar_fit_method_3 (tests.algorithms.subgroup_sets.test_sdmapstar.TestSDMapStar.test_SDMapStar_fit_method_3) ... ok\n",
      "test_SDMapStar_fit_method_4 (tests.algorithms.subgroup_sets.test_sdmapstar.TestSDMapStar.test_SDMapStar_fit_method_4) ... ok\n",
      "test_SDMapStar_fit_method_5 (tests.algorithms.subgroup_sets.test_sdmapstar.TestSDMapStar.test_SDMapStar_fit_method_5) ... ok\n",
      "test_SDMapStar_fit_method_6 (tests.algorithms.subgroup_sets.test_sdmapstar.TestSDMapStar.test_SDMapStar_fit_method_6) ... ok\n",
      "test_SDMapStar_fit_method_7 (tests.algorithms.subgroup_sets.test_sdmapstar.TestSDMapStar.test_SDMapStar_fit_method_7) ... ok\n",
      "test_SDMapStar_fit_method_8 (tests.algorithms.subgroup_sets.test_sdmapstar.TestSDMapStar.test_SDMapStar_fit_method_8) ... ok\n",
      "test_SDMapStar_fit_method_9 (tests.algorithms.subgroup_sets.test_sdmapstar.TestSDMapStar.test_SDMapStar_fit_method_9) ... ok\n",
      "test_SDMapStar_fpgrowth_method_1 (tests.algorithms.subgroup_sets.test_sdmapstar.TestSDMapStar.test_SDMapStar_fpgrowth_method_1) ... ok\n",
      "test_SDMapStar_fpgrowth_method_2 (tests.algorithms.subgroup_sets.test_sdmapstar.TestSDMapStar.test_SDMapStar_fpgrowth_method_2) ... ok\n",
      "test_SDMapStar_fpgrowth_method_3 (tests.algorithms.subgroup_sets.test_sdmapstar.TestSDMapStar.test_SDMapStar_fpgrowth_method_3) ... ok\n",
      "test_SDMapStar_fpgrowth_method_4 (tests.algorithms.subgroup_sets.test_sdmapstar.TestSDMapStar.test_SDMapStar_fpgrowth_method_4) ... ok\n",
      "test_SDMapStar_init_method_1 (tests.algorithms.subgroup_sets.test_sdmapstar.TestSDMapStar.test_SDMapStar_init_method_1) ... ok\n",
      "test_SDMapStar_init_method_2 (tests.algorithms.subgroup_sets.test_sdmapstar.TestSDMapStar.test_SDMapStar_init_method_2) ... ok\n",
      "test_SDMapStar_unselected_and_selected_subgroups_1 (tests.algorithms.subgroup_sets.test_sdmapstar.TestSDMapStar.test_SDMapStar_unselected_and_selected_subgroups_1) ... ok\n",
      "test_SDMapStar_unselected_and_selected_subgroups_2 (tests.algorithms.subgroup_sets.test_sdmapstar.TestSDMapStar.test_SDMapStar_unselected_and_selected_subgroups_2) ... ok\n",
      "test_VLSD_additional_parameters_in_fit_method (tests.algorithms.subgroup_sets.test_vlsd.TestVLSD.test_VLSD_additional_parameters_in_fit_method) ... ok\n",
      "test_VLSD_fit_method_1 (tests.algorithms.subgroup_sets.test_vlsd.TestVLSD.test_VLSD_fit_method_1) ... ok\n",
      "test_VLSD_fit_method_2 (tests.algorithms.subgroup_sets.test_vlsd.TestVLSD.test_VLSD_fit_method_2) ... ok\n"
     ]
    },
    {
     "name": "stderr",
     "output_type": "stream",
     "text": [
      "test_VLSD_fit_method_3 (tests.algorithms.subgroup_sets.test_vlsd.TestVLSD.test_VLSD_fit_method_3) ... ok\n",
      "test_VLSD_fit_method_4 (tests.algorithms.subgroup_sets.test_vlsd.TestVLSD.test_VLSD_fit_method_4) ... ok\n",
      "test_VLSD_fit_method_5 (tests.algorithms.subgroup_sets.test_vlsd.TestVLSD.test_VLSD_fit_method_5) ... ok\n",
      "test_VLSD_fit_method_6 (tests.algorithms.subgroup_sets.test_vlsd.TestVLSD.test_VLSD_fit_method_6) ... ok\n",
      "test_VLSD_fit_method_7 (tests.algorithms.subgroup_sets.test_vlsd.TestVLSD.test_VLSD_fit_method_7) ... ok\n",
      "test_VLSD_init_method_1 (tests.algorithms.subgroup_sets.test_vlsd.TestVLSD.test_VLSD_init_method_1) ... ok\n",
      "test_VLSD_init_method_2 (tests.algorithms.subgroup_sets.test_vlsd.TestVLSD.test_VLSD_init_method_2) ... ok\n",
      "\n",
      "----------------------------------------------------------------------\n",
      "Ran 91 tests in 2.343s\n",
      "\n",
      "OK\n",
      "test_dataframe_filters_general (tests.utils.test_dataframe_filters.TestDataFrameFilter.test_dataframe_filters_general) ... ok\n",
      "test_to_input_format_for_subgroup_list_algorithms_1 (tests.utils.test_file_format_transformations.TestToInputFormatForSubgroupListAlgorithms.test_to_input_format_for_subgroup_list_algorithms_1) ... ok\n",
      "test_to_input_format_for_subgroup_list_algorithms_2 (tests.utils.test_file_format_transformations.TestToInputFormatForSubgroupListAlgorithms.test_to_input_format_for_subgroup_list_algorithms_2) ... ok\n",
      "test_to_input_format_for_subgroup_list_algorithms_3 (tests.utils.test_file_format_transformations.TestToInputFormatForSubgroupListAlgorithms.test_to_input_format_for_subgroup_list_algorithms_3) ... ok\n",
      "\n",
      "----------------------------------------------------------------------\n",
      "Ran 4 tests in 0.053s\n",
      "\n",
      "OK\n"
     ]
    },
    {
     "name": "stdout",
     "output_type": "stream",
     "text": [
      "\n",
      "\n",
      "###################################\n",
      "########## UTILS PACKAGE ##########\n",
      "###################################\n"
     ]
    }
   ],
   "source": [
    "import subgroups.tests as st\n",
    "st.run_all_tests()"
   ]
  },
  {
   "cell_type": "markdown",
   "id": "1eea6c54",
   "metadata": {},
   "source": [
    "## Running the DSLM algorithm\n",
    "\n",
    "To run the DSLM algorithm on a dataset, it is necessary to follow these steps:\n",
    "\n",
    "- Load the dataset into a Pandas `DataFrame` object.\n",
    "- Set the target, which must be a tuple of the form (column_name, value).\n",
    "- Execute an SD algorithm (for example, the VLSD algorithm) to mine the initial collection of candidates.\n",
    "- Create the DSLM model with the desired parameters and run it."
   ]
  },
  {
   "cell_type": "markdown",
   "id": "95b0c2f2",
   "metadata": {},
   "source": [
    "The following is an example of running this algorithm on a dataset:"
   ]
  },
  {
   "cell_type": "code",
   "execution_count": 3,
   "id": "6223f745",
   "metadata": {},
   "outputs": [],
   "source": [
    "import pandas as pd\n",
    "from subgroups import datasets\n",
    "\n",
    "dataset = datasets.load_car_evaluation_csv()\n",
    "target = ('class', 'acc')"
   ]
  },
  {
   "cell_type": "code",
   "execution_count": 4,
   "id": "9c3b097c",
   "metadata": {},
   "outputs": [],
   "source": [
    "from subgroups.quality_measures import WRAcc\n",
    "from subgroups.quality_measures import WRAccOptimisticEstimate1\n",
    "from subgroups.algorithms import VLSD\n",
    "\n",
    "# First, we execute the VLSD algorithm to mine the inicial collection of candidates.\n",
    "vlsd_model = VLSD(quality_measure = WRAcc(), q_minimum_threshold  = -1, optimistic_estimate = WRAccOptimisticEstimate1(), oe_minimum_threshold = -1, sort_criterion_in_s1 = VLSD.SORT_CRITERION_NO_ORDER, sort_criterion_in_other_sizes = VLSD.SORT_CRITERION_NO_ORDER, vertical_lists_implementation = VLSD.VERTICAL_LISTS_WITH_BITSETS, write_results_in_file = True, file_path = \"./vlsd_result.txt\")\n",
    "vlsd_model.fit(dataset, target)"
   ]
  },
  {
   "cell_type": "code",
   "execution_count": 5,
   "id": "16339c9d",
   "metadata": {},
   "outputs": [
    {
     "name": "stdout",
     "output_type": "stream",
     "text": [
      "Subgroups correctly read: 7999\n",
      "Subgroups not correctly read: 0\n"
     ]
    }
   ],
   "source": [
    "# The resulting file generated by the VLSD algorithm contains a lot of information (it is more verbose).\n",
    "# However, the input file of the DSLM algorithm need to have a specific format.\n",
    "# This means that we have to make a transformation.\n",
    "from subgroups.utils.file_format_transformations import to_input_format_for_subgroup_list_algorithms\n",
    "\n",
    "subgroups_correctly_read, subgroups_not_correctly_read = to_input_format_for_subgroup_list_algorithms(\"./vlsd_result.txt\", \"./vlsd_result_transformed.txt\")\n",
    "print(\"Subgroups correctly read: \" + str(subgroups_correctly_read))\n",
    "print(\"Subgroups not correctly read: \" + str(subgroups_not_correctly_read))"
   ]
  },
  {
   "cell_type": "code",
   "execution_count": 6,
   "id": "3ebdf839",
   "metadata": {},
   "outputs": [],
   "source": [
    "from subgroups.algorithms import DSLM\n",
    "\n",
    "# Now, we execute the DSLM algorithm to mine diverse top-k subgroup lists.\n",
    "dslm_model = DSLM(input_file_path = \"./vlsd_result_transformed.txt\",\n",
    "                  max_sl = 3,\n",
    "                  sl_max_size = 10,\n",
    "                  beta = 0.0,\n",
    "                  maximum_positive_overlap = 0.06,\n",
    "                  maximum_negative_overlap = 0.06,\n",
    "                  output_file_path = \"dslm_result.txt\")\n",
    "dslm_model.fit(dataset, target)"
   ]
  },
  {
   "cell_type": "markdown",
   "id": "e71ef7c6",
   "metadata": {},
   "source": [
    "## Results\n",
    "\n",
    "Running the following cell, we get the subgroup lists obtained by the algorithm:"
   ]
  },
  {
   "cell_type": "code",
   "execution_count": 7,
   "id": "9e8f0f8e",
   "metadata": {},
   "outputs": [
    {
     "name": "stdout",
     "output_type": "stream",
     "text": [
      "Dataset information:\n",
      "\t- Number of instances: 1728.\n",
      "\t- Number of positive instances: 384.\n",
      "\t- Number of negative instances: 1344.\n",
      "\t- Total number of attributes (including the target): 7.\n",
      "\n",
      "\n",
      "Reading input file.\n",
      "Read subgroups: 7999.\n",
      "Input file read.\n",
      "\n",
      "\n",
      "## Subgroup list (4 subgroups) ##\n",
      "s1: Description: [persons = '4', safety = 'high'], Target: class = 'acc'\n",
      "\tConsidering its position in the list:\n",
      "\t- positive instances covered: 108\n",
      "\t- negative instances covered: 84\n",
      "\t- total instances covered: 192\n",
      "\tConsidering it individually:\n",
      "\t- positive instances covered: 108\n",
      "\t- negative instances covered: 84\n",
      "\t- total instances covered: 192\n",
      "s2: Description: [persons = 'more', safety = 'high'], Target: class = 'acc'\n",
      "\tConsidering its position in the list:\n",
      "\t- positive instances covered: 96\n",
      "\t- negative instances covered: 96\n",
      "\t- total instances covered: 192\n",
      "\tConsidering it individually:\n",
      "\t- positive instances covered: 96\n",
      "\t- negative instances covered: 96\n",
      "\t- total instances covered: 192\n",
      "s3: Description: [persons = '4', safety = 'med'], Target: class = 'acc'\n",
      "\tConsidering its position in the list:\n",
      "\t- positive instances covered: 90\n",
      "\t- negative instances covered: 102\n",
      "\t- total instances covered: 192\n",
      "\tConsidering it individually:\n",
      "\t- positive instances covered: 90\n",
      "\t- negative instances covered: 102\n",
      "\t- total instances covered: 192\n",
      "s4: Description: [persons = 'more', safety = 'med'], Target: class = 'acc'\n",
      "\tConsidering its position in the list:\n",
      "\t- positive instances covered: 90\n",
      "\t- negative instances covered: 102\n",
      "\t- total instances covered: 192\n",
      "\tConsidering it individually:\n",
      "\t- positive instances covered: 90\n",
      "\t- negative instances covered: 102\n",
      "\t- total instances covered: 192\n",
      "default rule:\n",
      "\tpositive instances covered: 0\n",
      "\tnegative instances covered: 960\n",
      "\ttotal instances covered: 960\n",
      "\n",
      "## Subgroup list (7 subgroups) ##\n",
      "s1: Description: [buying = 'high', safety = 'high'], Target: class = 'acc'\n",
      "\tConsidering its position in the list:\n",
      "\t- positive instances covered: 69\n",
      "\t- negative instances covered: 75\n",
      "\t- total instances covered: 144\n",
      "\tConsidering it individually:\n",
      "\t- positive instances covered: 69\n",
      "\t- negative instances covered: 75\n",
      "\t- total instances covered: 144\n",
      "s2: Description: [lug_boot = 'big', safety = 'med'], Target: class = 'acc'\n",
      "\tConsidering its position in the list:\n",
      "\t- positive instances covered: 80\n",
      "\t- negative instances covered: 112\n",
      "\t- total instances covered: 192\n",
      "\tConsidering it individually:\n",
      "\t- positive instances covered: 80\n",
      "\t- negative instances covered: 112\n",
      "\t- total instances covered: 192\n",
      "s3: Description: [buying = 'low', maint = 'vhigh', safety = 'high'], Target: class = 'acc'\n",
      "\tConsidering its position in the list:\n",
      "\t- positive instances covered: 23\n",
      "\t- negative instances covered: 13\n",
      "\t- total instances covered: 36\n",
      "\tConsidering it individually:\n",
      "\t- positive instances covered: 23\n",
      "\t- negative instances covered: 13\n",
      "\t- total instances covered: 36\n",
      "s4: Description: [buying = 'med', maint = 'high', safety = 'high'], Target: class = 'acc'\n",
      "\tConsidering its position in the list:\n",
      "\t- positive instances covered: 23\n",
      "\t- negative instances covered: 13\n",
      "\t- total instances covered: 36\n",
      "\tConsidering it individually:\n",
      "\t- positive instances covered: 23\n",
      "\t- negative instances covered: 13\n",
      "\t- total instances covered: 36\n",
      "s5: Description: [buying = 'med', maint = 'vhigh', safety = 'high'], Target: class = 'acc'\n",
      "\tConsidering its position in the list:\n",
      "\t- positive instances covered: 23\n",
      "\t- negative instances covered: 13\n",
      "\t- total instances covered: 36\n",
      "\tConsidering it individually:\n",
      "\t- positive instances covered: 23\n",
      "\t- negative instances covered: 13\n",
      "\t- total instances covered: 36\n",
      "s6: Description: [buying = 'vhigh', maint = 'low', safety = 'high'], Target: class = 'acc'\n",
      "\tConsidering its position in the list:\n",
      "\t- positive instances covered: 23\n",
      "\t- negative instances covered: 13\n",
      "\t- total instances covered: 36\n",
      "\tConsidering it individually:\n",
      "\t- positive instances covered: 23\n",
      "\t- negative instances covered: 13\n",
      "\t- total instances covered: 36\n",
      "s7: Description: [buying = 'vhigh', lug_boot = 'small'], Target: class = 'acc'\n",
      "\tConsidering its position in the list:\n",
      "\t- positive instances covered: 7\n",
      "\t- negative instances covered: 125\n",
      "\t- total instances covered: 132\n",
      "\tConsidering it individually:\n",
      "\t- positive instances covered: 14\n",
      "\t- negative instances covered: 130\n",
      "\t- total instances covered: 144\n",
      "default rule:\n",
      "\tpositive instances covered: 136\n",
      "\tnegative instances covered: 980\n",
      "\ttotal instances covered: 1116\n",
      "\n",
      "## Subgroup list (3 subgroups) ##\n",
      "s1: Description: [buying = 'med', persons = '4'], Target: class = 'acc'\n",
      "\tConsidering its position in the list:\n",
      "\t- positive instances covered: 60\n",
      "\t- negative instances covered: 84\n",
      "\t- total instances covered: 144\n",
      "\tConsidering it individually:\n",
      "\t- positive instances covered: 60\n",
      "\t- negative instances covered: 84\n",
      "\t- total instances covered: 144\n",
      "s2: Description: [buying = 'low', maint = 'high', safety = 'med'], Target: class = 'acc'\n",
      "\tConsidering its position in the list:\n",
      "\t- positive instances covered: 23\n",
      "\t- negative instances covered: 13\n",
      "\t- total instances covered: 36\n",
      "\tConsidering it individually:\n",
      "\t- positive instances covered: 23\n",
      "\t- negative instances covered: 13\n",
      "\t- total instances covered: 36\n",
      "s3: Description: [buying = 'vhigh', maint = 'med', safety = 'high'], Target: class = 'acc'\n",
      "\tConsidering its position in the list:\n",
      "\t- positive instances covered: 23\n",
      "\t- negative instances covered: 13\n",
      "\t- total instances covered: 36\n",
      "\tConsidering it individually:\n",
      "\t- positive instances covered: 23\n",
      "\t- negative instances covered: 13\n",
      "\t- total instances covered: 36\n",
      "default rule:\n",
      "\tpositive instances covered: 278\n",
      "\tnegative instances covered: 1234\n",
      "\ttotal instances covered: 1512\n",
      "\n",
      "\n"
     ]
    }
   ],
   "source": [
    "file = open(\"./dslm_result.txt\", \"r\")\n",
    "print(file.read())\n",
    "file.close()"
   ]
  },
  {
   "cell_type": "code",
   "execution_count": 8,
   "id": "dcbd7cff",
   "metadata": {},
   "outputs": [],
   "source": [
    "import os\n",
    "os.remove(\"./vlsd_result.txt\")\n",
    "os.remove(\"./vlsd_result_transformed.txt\")\n",
    "os.remove(\"./dslm_result.txt\")"
   ]
  },
  {
   "cell_type": "markdown",
   "id": "b95be508",
   "metadata": {},
   "source": [
    "# References"
   ]
  },
  {
   "cell_type": "markdown",
   "id": "cf3143e2",
   "metadata": {},
   "source": [
    "<a id=\"1\">[1]</a>\n",
    "Lopez-Martinez-Carrasco, A., Proença, H.M., Juarez, J.M., Leeuwen, M.v., Campos, M. (2023). Novel Approach for Phenotyping Based on Diverse Top-K Subgroup Lists. In: Artificial Intelligence in Medicine. AIME 2023. Lecture Notes in Computer Science, vol 13897. https://doi.org/10.1007/978-3-031-34344-5_6"
   ]
  }
 ],
 "metadata": {
  "kernelspec": {
   "display_name": "Python 3 (ipykernel)",
   "language": "python",
   "name": "python3"
  },
  "language_info": {
   "codemirror_mode": {
    "name": "ipython",
    "version": 3
   },
   "file_extension": ".py",
   "mimetype": "text/x-python",
   "name": "python",
   "nbconvert_exporter": "python",
   "pygments_lexer": "ipython3",
   "version": "3.11.5"
  }
 },
 "nbformat": 4,
 "nbformat_minor": 5
}
