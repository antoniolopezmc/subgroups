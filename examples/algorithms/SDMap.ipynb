{
 "cells": [
  {
   "cell_type": "markdown",
   "id": "6190e0e8",
   "metadata": {},
   "source": [
    "# Example of using the SDMap algorithm"
   ]
  },
  {
   "cell_type": "markdown",
   "id": "6121a15c",
   "metadata": {},
   "source": [
    "## About this document\n",
    "\n",
    "The purpose of this document is to show an example of using the SDMap algorithm.\n",
    "\n",
    "In the following sections, an introduction of the this algorithm will be presented, followed by instructions to install the `subgroups` library. Then, the execution process of the SDMap algorithm will be described, including the necessary steps to consider. Finally, the results obtained from the application of this algorithm will be presented, highlighting the information obtained in the output file and the one that can be accessed through the model properties."
   ]
  },
  {
   "cell_type": "markdown",
   "id": "fd850c42",
   "metadata": {},
   "source": [
    "## SDMap algorithm\n",
    "\n",
    "SDMap [[1]](#1) is an exhaustive subgroup discovery algorithm based on the FP-Growth [[2]](#2) algorithm for frequent pattern mining. This algorithm uses the FPTree data structure in order to represent the complete dataset and to mine subgroups in two steps; a complete FPTree is first built from the input dataset, after which successive conditional FPTrees are built recursively in order to mine the subgroups."
   ]
  },
  {
   "cell_type": "markdown",
   "id": "cb19f209",
   "metadata": {},
   "source": [
    "## Installing the `subgroups` library\n",
    "\n",
    "To install the `subgroups` library, you have to execute the following cell:"
   ]
  },
  {
   "cell_type": "code",
   "execution_count": null,
   "id": "6ed2dcd9",
   "metadata": {},
   "outputs": [],
   "source": [
    "!pip install subgroups"
   ]
  },
  {
   "cell_type": "markdown",
   "id": "5adcd1bd",
   "metadata": {},
   "source": [
    "After that, to verify that the installation was successful, yo can run the following cell:"
   ]
  },
  {
   "cell_type": "code",
   "execution_count": null,
   "id": "e1d78beb",
   "metadata": {},
   "outputs": [],
   "source": [
    "import subgroups.tests as st\n",
    "st.run_all_tests()"
   ]
  },
  {
   "cell_type": "markdown",
   "id": "48144105",
   "metadata": {},
   "source": [
    "## Running the SDMap algorithm\n",
    "\n",
    "To run the SDMap algorithm on a dataset, it is necessary to follow these steps:\n",
    "\n",
    "- Load the dataset into a Pandas `DataFrame` object.\n",
    "- Set the target, which must be a tuple of the form (column_name, value).\n",
    "- Select the quality measure to use.\n",
    "- Create the SDMap model with the desired parameters and run it."
   ]
  },
  {
   "cell_type": "markdown",
   "id": "4b57389b",
   "metadata": {},
   "source": [
    "The following is an example of running this algorithm on a dataset:"
   ]
  },
  {
   "cell_type": "code",
   "execution_count": null,
   "id": "ee0bce82",
   "metadata": {},
   "outputs": [],
   "source": [
    "import pandas as pd\n",
    "from subgroups.quality_measures import WRAcc\n",
    "from subgroups.algorithms import SDMap\n",
    "\n",
    "dataset = pd.DataFrame({'att1': ['v3', 'v2', 'v1'], 'att2': ['v1', 'v2', 'v3'], 'att3': ['v2', 'v1', 'v1'], 'class': ['no', 'yes', 'no']})\n",
    "target = ('class', 'yes')\n",
    "\n",
    "model = SDMap(quality_measure = WRAcc(), minimum_quality_measure_value = -1, minimum_n = 0, write_results_in_file = True, file_path = \"./results.txt\")\n",
    "model.fit(dataset, target)"
   ]
  },
  {
   "cell_type": "markdown",
   "id": "7dcee5a0",
   "metadata": {},
   "source": [
    "## Results\n",
    "\n",
    "Running the following cell, we get the subgroups obtained by the algorithm:"
   ]
  },
  {
   "cell_type": "code",
   "execution_count": null,
   "id": "dceff2ac",
   "metadata": {},
   "outputs": [],
   "source": [
    "with open(\"./results.txt\", \"r\") as file:\n",
    "    for current_line in file:\n",
    "        print(current_line.strip())"
   ]
  },
  {
   "cell_type": "markdown",
   "id": "7f8e443a",
   "metadata": {},
   "source": [
    "Each of these lines represents a subgroup discovered by the algorithm along with some of its characteristics. If we take the first result as an example, we have the following characteristics:\n",
    "\n",
    "- The subgroup is described by the pattern `[att1 = 'v3']`.\n",
    "- The target is the one we defined initially, i.e., `class = 'yes'`.\n",
    "- The quality of the subgroup is measured by the WRAcc measure, which has a value of -0.1111111111111111\n",
    "- The values of tp, fp, TP, and FP are as follows: tp = 0 ; fp = 1 ; TP = 1 ; FP = 2.\n",
    "\n",
    "These results have been verified in the output file of the SDMap algorithm run on a toy dataset."
   ]
  },
  {
   "cell_type": "markdown",
   "id": "b0d4015d",
   "metadata": {},
   "source": [
    "We can also access different statistics about the result:"
   ]
  },
  {
   "cell_type": "code",
   "execution_count": null,
   "id": "7228dab3",
   "metadata": {},
   "outputs": [],
   "source": [
    "print(\"Selected subgroups: \", model.selected_subgroups) # Number of selected subgroups\n",
    "print(\"Unselected subgroups: \", model.unselected_subgroups) # Number of unselected subgroups due to not meeting the minimum quality threshold\n",
    "print(\"Visited nodes: \", model.visited_nodes) # Number of nodes (subgroups) visited from the search space"
   ]
  },
  {
   "cell_type": "markdown",
   "id": "7db1cdd5",
   "metadata": {},
   "source": [
    "# References"
   ]
  },
  {
   "cell_type": "markdown",
   "id": "148a61e7",
   "metadata": {},
   "source": [
    "<a id=\"1\">[1]</a>\n",
    "Atzmueller, M., Puppe, F. (2006). SD-Map – A Fast Algorithm for Exhaustive Subgroup Discovery. In: Fürnkranz, J., Scheffer, T., Spiliopoulou, M. (eds) Knowledge Discovery in Databases: PKDD 2006. PKDD 2006. Lecture Notes in Computer Science, vol 4213. Springer, Berlin, Heidelberg. https://doi.org/10.1007/11871637_6\n",
    "\n",
    "<a id=\"2\">[2]</a> \n",
    "Han, J., Pei, J., Yin, Y. et al. Mining Frequent Patterns without Candidate Generation: A Frequent-Pattern Tree Approach. Data Mining and Knowledge Discovery 8, 53–87 (2004). https://doi.org/10.1023/B:DAMI.0000005258.31418.83"
   ]
  }
 ],
 "metadata": {
  "kernelspec": {
   "display_name": "Python 3 (ipykernel)",
   "language": "python",
   "name": "python3"
  },
  "language_info": {
   "codemirror_mode": {
    "name": "ipython",
    "version": 3
   },
   "file_extension": ".py",
   "mimetype": "text/x-python",
   "name": "python",
   "nbconvert_exporter": "python",
   "pygments_lexer": "ipython3",
   "version": "3.9.7"
  }
 },
 "nbformat": 4,
 "nbformat_minor": 5
}
