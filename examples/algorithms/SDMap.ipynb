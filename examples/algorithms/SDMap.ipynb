{
 "cells": [
  {
   "cell_type": "markdown",
   "id": "6190e0e8",
   "metadata": {},
   "source": [
    "# Example of using the SDMap algorithm"
   ]
  },
  {
   "cell_type": "markdown",
   "id": "6121a15c",
   "metadata": {},
   "source": [
    "## About this document\n",
    "\n",
    "The purpose of this document is to show an example of using the SDMap algorithm.\n",
    "\n",
    "In the following sections, an introduction of the this algorithm will be presented, followed by instructions to install the `subgroups` library. Then, the execution process of the SDMap algorithm will be described, including the necessary steps to consider. Finally, the results obtained from the application of this algorithm will be presented, highlighting the information obtained in the output file and the one that can be accessed through the model properties."
   ]
  },
  {
   "cell_type": "markdown",
   "id": "fd850c42",
   "metadata": {},
   "source": [
    "## SDMap algorithm\n",
    "\n",
    "SDMap [[1]](#1) is an exhaustive subgroup discovery algorithm based on the FP-Growth [[2]](#2) algorithm for frequent pattern mining. This algorithm uses the FPTree data structure in order to represent the complete dataset and to mine subgroups in two steps; a complete FPTree is first built from the input dataset, after which successive conditional FPTrees are built recursively in order to mine the subgroups."
   ]
  },
  {
   "cell_type": "markdown",
   "id": "cb19f209",
   "metadata": {},
   "source": [
    "## Installing the `subgroups` library\n",
    "\n",
    "To install the `subgroups` library, you have to execute the following cell:"
   ]
  },
  {
   "cell_type": "code",
   "execution_count": 1,
   "id": "6ed2dcd9",
   "metadata": {},
   "outputs": [
    {
     "name": "stdout",
     "output_type": "stream",
     "text": [
      "Requirement already satisfied: subgroups in c:\\users\\anlopezmc\\anaconda3\\lib\\site-packages (0.1.7)\n",
      "Requirement already satisfied: pandas>=2.0.3 in c:\\users\\anlopezmc\\anaconda3\\lib\\site-packages (from subgroups) (2.0.3)\n",
      "Requirement already satisfied: bitarray>=2.7.6 in c:\\users\\anlopezmc\\anaconda3\\lib\\site-packages (from subgroups) (2.9.2)\n",
      "Requirement already satisfied: statsmodels>=0.14.0 in c:\\users\\anlopezmc\\anaconda3\\lib\\site-packages (from subgroups) (0.14.0)\n",
      "Requirement already satisfied: python-dateutil>=2.8.2 in c:\\users\\anlopezmc\\anaconda3\\lib\\site-packages (from pandas>=2.0.3->subgroups) (2.8.2)\n",
      "Requirement already satisfied: pytz>=2020.1 in c:\\users\\anlopezmc\\anaconda3\\lib\\site-packages (from pandas>=2.0.3->subgroups) (2023.3.post1)\n",
      "Requirement already satisfied: tzdata>=2022.1 in c:\\users\\anlopezmc\\anaconda3\\lib\\site-packages (from pandas>=2.0.3->subgroups) (2023.3)\n",
      "Requirement already satisfied: numpy>=1.21.0 in c:\\users\\anlopezmc\\anaconda3\\lib\\site-packages (from pandas>=2.0.3->subgroups) (1.24.3)\n",
      "Requirement already satisfied: scipy!=1.9.2,>=1.4 in c:\\users\\anlopezmc\\anaconda3\\lib\\site-packages (from statsmodels>=0.14.0->subgroups) (1.11.1)\n",
      "Requirement already satisfied: patsy>=0.5.2 in c:\\users\\anlopezmc\\anaconda3\\lib\\site-packages (from statsmodels>=0.14.0->subgroups) (0.5.3)\n",
      "Requirement already satisfied: packaging>=21.3 in c:\\users\\anlopezmc\\anaconda3\\lib\\site-packages (from statsmodels>=0.14.0->subgroups) (23.1)\n",
      "Requirement already satisfied: six in c:\\users\\anlopezmc\\anaconda3\\lib\\site-packages (from patsy>=0.5.2->statsmodels>=0.14.0->subgroups) (1.16.0)\n"
     ]
    }
   ],
   "source": [
    "!pip install subgroups"
   ]
  },
  {
   "cell_type": "markdown",
   "id": "5adcd1bd",
   "metadata": {},
   "source": [
    "After that, to verify that the installation was successful, yo can run the following cell:"
   ]
  },
  {
   "cell_type": "code",
   "execution_count": 2,
   "id": "e1d78beb",
   "metadata": {},
   "outputs": [
    {
     "name": "stderr",
     "output_type": "stream",
     "text": [
      "test_Operator_evaluate_method (tests.core.test_operator.TestOperator.test_Operator_evaluate_method) ... ok\n",
      "test_Operator_evaluate_method_with_pandasSeries (tests.core.test_operator.TestOperator.test_Operator_evaluate_method_with_pandasSeries) ... ok\n",
      "test_Operator_generate_from_str_method (tests.core.test_operator.TestOperator.test_Operator_generate_from_str_method) ... ok\n",
      "test_Operator_string_representation (tests.core.test_operator.TestOperator.test_Operator_string_representation) ... ok\n",
      "test_Pattern_contains_method (tests.core.test_pattern.TestPattern.test_Pattern_contains_method) ... ok\n",
      "test_Pattern_general (tests.core.test_pattern.TestPattern.test_Pattern_general) ... ok\n",
      "test_Pattern_is_contained_method (tests.core.test_pattern.TestPattern.test_Pattern_is_contained_method) ... ok\n",
      "test_Pattern_is_refinement_method (tests.core.test_pattern.TestPattern.test_Pattern_is_refinement_method) ... ok\n",
      "test_Selector_attributes (tests.core.test_selector.TestSelector.test_Selector_attributes) ... ok\n",
      "test_Selector_comparisons (tests.core.test_selector.TestSelector.test_Selector_comparisons) ... ok\n",
      "test_Selector_creation_process (tests.core.test_selector.TestSelector.test_Selector_creation_process) ... ok\n",
      "test_Selector_deletion_process (tests.core.test_selector.TestSelector.test_Selector_deletion_process) ... ok\n",
      "test_Selector_generate_from_str_method (tests.core.test_selector.TestSelector.test_Selector_generate_from_str_method) ... ok\n",
      "test_Selector_match_method (tests.core.test_selector.TestSelector.test_Selector_match_method) ... ok\n",
      "test_Selector_same_value_different_type (tests.core.test_selector.TestSelector.test_Selector_same_value_different_type) ... ok\n",
      "test_Subgroup_filter (tests.core.test_subgroup.TestSubgroup.test_Subgroup_filter) ... ok\n",
      "test_Subgroup_general (tests.core.test_subgroup.TestSubgroup.test_Subgroup_general) ... ok\n",
      "test_Subgroup_is_refinement_method (tests.core.test_subgroup.TestSubgroup.test_Subgroup_is_refinement_method) ... ok\n",
      "\n",
      "----------------------------------------------------------------------\n",
      "Ran 18 tests in 0.036s\n",
      "\n",
      "OK\n",
      "test_quality_measures_compute (tests.quality_measures.test_quality_measures.TestQualityMeasures.test_quality_measures_compute) ... ok\n",
      "test_quality_measures_general (tests.quality_measures.test_quality_measures.TestQualityMeasures.test_quality_measures_general) ... ok\n",
      "test_quality_measures_value_of_class_variables (tests.quality_measures.test_quality_measures.TestQualityMeasures.test_quality_measures_value_of_class_variables) ... ok\n",
      "\n",
      "----------------------------------------------------------------------\n",
      "Ran 3 tests in 0.004s\n",
      "\n",
      "OK\n",
      "test_FPTreeForSDMap_build_tree_1 (tests.data_structures.test_fp_tree_for_sdmap.TestFPTreeForSDMap.test_FPTreeForSDMap_build_tree_1) ... ok\n",
      "test_FPTreeForSDMap_build_tree_2 (tests.data_structures.test_fp_tree_for_sdmap.TestFPTreeForSDMap.test_FPTreeForSDMap_build_tree_2) ... ok\n",
      "test_FPTreeForSDMap_build_tree_3 (tests.data_structures.test_fp_tree_for_sdmap.TestFPTreeForSDMap.test_FPTreeForSDMap_build_tree_3) ... ok\n",
      "test_FPTreeForSDMap_build_tree_4 (tests.data_structures.test_fp_tree_for_sdmap.TestFPTreeForSDMap.test_FPTreeForSDMap_build_tree_4) ... ok\n",
      "test_FPTreeForSDMap_generate_conditional_fp_tree_1 (tests.data_structures.test_fp_tree_for_sdmap.TestFPTreeForSDMap.test_FPTreeForSDMap_generate_conditional_fp_tree_1) ... ok\n"
     ]
    },
    {
     "name": "stdout",
     "output_type": "stream",
     "text": [
      "\n",
      "\n",
      "##################################\n",
      "########## CORE PACKAGE ##########\n",
      "##################################\n",
      "\n",
      "\n",
      "##############################################\n",
      "########## QUALITY MEASURES PACKAGE ##########\n",
      "##############################################\n",
      "\n",
      "\n",
      "#############################################\n",
      "########## DATA STRUCTURES PACKAGE ##########\n",
      "#############################################\n"
     ]
    },
    {
     "name": "stderr",
     "output_type": "stream",
     "text": [
      "test_FPTreeForSDMap_generate_conditional_fp_tree_2 (tests.data_structures.test_fp_tree_for_sdmap.TestFPTreeForSDMap.test_FPTreeForSDMap_generate_conditional_fp_tree_2) ... ok\n",
      "test_FPTreeForSDMap_generate_set_of_frequent_selectors_1 (tests.data_structures.test_fp_tree_for_sdmap.TestFPTreeForSDMap.test_FPTreeForSDMap_generate_set_of_frequent_selectors_1) ... ok\n",
      "test_FPTreeForSDMap_generate_set_of_frequent_selectors_2 (tests.data_structures.test_fp_tree_for_sdmap.TestFPTreeForSDMap.test_FPTreeForSDMap_generate_set_of_frequent_selectors_2) ... ok\n",
      "test_FPTreeForSDMap_generate_set_of_frequent_selectors_3 (tests.data_structures.test_fp_tree_for_sdmap.TestFPTreeForSDMap.test_FPTreeForSDMap_generate_set_of_frequent_selectors_3) ... ok\n",
      "test_FPTreeNode_general (tests.data_structures.test_fp_tree_node.TestFPTreeNode.test_FPTreeNode_general) ... ok\n",
      "test_subgroup_list_1 (tests.data_structures.test_subgroup_list.TestSubgroupList.test_subgroup_list_1) ... ok\n",
      "test_subgroup_list_2 (tests.data_structures.test_subgroup_list.TestSubgroupList.test_subgroup_list_2) ... ok\n",
      "test_subgroup_list_3 (tests.data_structures.test_subgroup_list.TestSubgroupList.test_subgroup_list_3) ... ok\n",
      "test_subgroup_list_4 (tests.data_structures.test_subgroup_list.TestSubgroupList.test_subgroup_list_4) ... ok\n",
      "test_subgroup_list_5 (tests.data_structures.test_subgroup_list.TestSubgroupList.test_subgroup_list_5) ... ok\n",
      "test_vertical_list_1 (tests.data_structures.test_vertical_list_with_bitsets.TestVerticalListWithBitsets.test_vertical_list_1) ... ok\n",
      "test_vertical_list_2 (tests.data_structures.test_vertical_list_with_bitsets.TestVerticalListWithBitsets.test_vertical_list_2) ... ok\n",
      "test_vertical_list_3 (tests.data_structures.test_vertical_list_with_bitsets.TestVerticalListWithBitsets.test_vertical_list_3) ... ok\n",
      "test_vertical_list_str_method (tests.data_structures.test_vertical_list_with_bitsets.TestVerticalListWithBitsets.test_vertical_list_str_method) ... ok\n",
      "test_vertical_list_1 (tests.data_structures.test_vertical_list_with_sets.TestVerticalListWithSets.test_vertical_list_1) ... ok\n",
      "test_vertical_list_2 (tests.data_structures.test_vertical_list_with_sets.TestVerticalListWithSets.test_vertical_list_2) ... ok\n",
      "test_vertical_list_3 (tests.data_structures.test_vertical_list_with_sets.TestVerticalListWithSets.test_vertical_list_3) ... ok\n",
      "test_vertical_list_str_method (tests.data_structures.test_vertical_list_with_sets.TestVerticalListWithSets.test_vertical_list_str_method) ... ok\n",
      "\n",
      "----------------------------------------------------------------------\n",
      "Ran 23 tests in 0.194s\n",
      "\n",
      "OK\n",
      "test_DSLM_compute_overlap_factor_function_1 (tests.algorithms.subgroup_lists.test_dslm.TestDSLM.test_DSLM_compute_overlap_factor_function_1) ... ok\n",
      "test_DSLM_compute_overlap_factor_function_2 (tests.algorithms.subgroup_lists.test_dslm.TestDSLM.test_DSLM_compute_overlap_factor_function_2) ... ok\n",
      "test_DSLM_compute_overlap_factor_function_3 (tests.algorithms.subgroup_lists.test_dslm.TestDSLM.test_DSLM_compute_overlap_factor_function_3) ... ok\n",
      "test_DSLM_counter_of_subgroups_1 (tests.algorithms.subgroup_lists.test_dslm.TestDSLM.test_DSLM_counter_of_subgroups_1) ... ok\n",
      "test_DSLM_counter_of_subgroups_2 (tests.algorithms.subgroup_lists.test_dslm.TestDSLM.test_DSLM_counter_of_subgroups_2) ... ok\n",
      "test_GMSL_fit_method_1 (tests.algorithms.subgroup_lists.test_gmsl.TestGMSL.test_GMSL_fit_method_1) ... ok\n",
      "test_GMSL_load_candidates_method_1 (tests.algorithms.subgroup_lists.test_gmsl.TestGMSL.test_GMSL_load_candidates_method_1) ... ok\n",
      "test_GMSL_load_candidates_method_2 (tests.algorithms.subgroup_lists.test_gmsl.TestGMSL.test_GMSL_load_candidates_method_2) ... ok\n",
      "test_GMSL_load_candidates_method_3 (tests.algorithms.subgroup_lists.test_gmsl.TestGMSL.test_GMSL_load_candidates_method_3) ... ok\n",
      "test_GMSL_load_candidates_method_4 (tests.algorithms.subgroup_lists.test_gmsl.TestGMSL.test_GMSL_load_candidates_method_4) ... ok\n",
      "test_GMSL_load_candidates_method_5 (tests.algorithms.subgroup_lists.test_gmsl.TestGMSL.test_GMSL_load_candidates_method_5) ... ok\n",
      "test_GMSL_mdl_functions_1 (tests.algorithms.subgroup_lists.test_gmsl.TestGMSL.test_GMSL_mdl_functions_1) ... ok\n",
      "test_GMSL_mdl_functions_2 (tests.algorithms.subgroup_lists.test_gmsl.TestGMSL.test_GMSL_mdl_functions_2) ... ok\n",
      "test_GMSL_mdl_functions_3 (tests.algorithms.subgroup_lists.test_gmsl.TestGMSL.test_GMSL_mdl_functions_3) ... "
     ]
    },
    {
     "name": "stdout",
     "output_type": "stream",
     "text": [
      "\n",
      "\n",
      "########################################\n",
      "########## ALGORITHMS PACKAGE ##########\n",
      "########################################\n"
     ]
    },
    {
     "name": "stderr",
     "output_type": "stream",
     "text": [
      "ok\n",
      "test_BSD_cardinality (tests.algorithms.subgroup_sets.test_bsd.TestBSD.test_BSD_cardinality) ... ok\n",
      "test_BSD_checkRel (tests.algorithms.subgroup_sets.test_bsd.TestBSD.test_BSD_checkRel) ... ok\n",
      "test_BSD_checkRelevancies (tests.algorithms.subgroup_sets.test_bsd.TestBSD.test_BSD_checkRelevancies) ... ok\n",
      "test_BSD_fit1 (tests.algorithms.subgroup_sets.test_bsd.TestBSD.test_BSD_fit1) ... ok\n",
      "test_BSD_fit2 (tests.algorithms.subgroup_sets.test_bsd.TestBSD.test_BSD_fit2) ... ok\n",
      "test_BSD_fit3 (tests.algorithms.subgroup_sets.test_bsd.TestBSD.test_BSD_fit3) ... ok\n",
      "test_BSD_fit4 (tests.algorithms.subgroup_sets.test_bsd.TestBSD.test_BSD_fit4) ... ok\n",
      "test_BSD_init_method (tests.algorithms.subgroup_sets.test_bsd.TestBSD.test_BSD_init_method) ... ok\n",
      "test_BSD_logicalAnd (tests.algorithms.subgroup_sets.test_bsd.TestBSD.test_BSD_logicalAnd) ... ok\n",
      "test_CBSD_checkRel (tests.algorithms.subgroup_sets.test_cbsd.TestCBSD.test_CBSD_checkRel) ... ok\n",
      "test_CBSD_checkRelevancies (tests.algorithms.subgroup_sets.test_cbsd.TestCBSD.test_CBSD_checkRelevancies) ... ok\n",
      "test_CBSD_fit1 (tests.algorithms.subgroup_sets.test_cbsd.TestCBSD.test_CBSD_fit1) ... ok\n",
      "test_CBSD_fit2 (tests.algorithms.subgroup_sets.test_cbsd.TestCBSD.test_CBSD_fit2) ... ok\n",
      "test_CBSD_fit3 (tests.algorithms.subgroup_sets.test_cbsd.TestCBSD.test_CBSD_fit3) ... ok\n",
      "test_CBSD_fit4 (tests.algorithms.subgroup_sets.test_cbsd.TestCBSD.test_CBSD_fit4) ... ok\n",
      "test_CBSD_init_method (tests.algorithms.subgroup_sets.test_cbsd.TestCBSD.test_CBSD_init_method) ... ok\n",
      "test_CPBSD_checkRel (tests.algorithms.subgroup_sets.test_cpbsd.TestCPBSD.test_CPBSD_checkRel) ... ok\n",
      "test_CPBSD_checkRelevancies (tests.algorithms.subgroup_sets.test_cpbsd.TestCPBSD.test_CPBSD_checkRelevancies) ... ok\n",
      "test_CPBSD_fit1 (tests.algorithms.subgroup_sets.test_cpbsd.TestCPBSD.test_CPBSD_fit1) ... ok\n",
      "test_CPBSD_fit2 (tests.algorithms.subgroup_sets.test_cpbsd.TestCPBSD.test_CPBSD_fit2) ... ok\n",
      "test_CPBSD_fit3 (tests.algorithms.subgroup_sets.test_cpbsd.TestCPBSD.test_CPBSD_fit3) ... ok\n",
      "test_CPBSD_fit4 (tests.algorithms.subgroup_sets.test_cpbsd.TestCPBSD.test_CPBSD_fit4) ... ok\n",
      "test_CPBSD_init_method (tests.algorithms.subgroup_sets.test_cpbsd.TestCPBSD.test_CPBSD_init_method) ... ok\n",
      "test_QFinder_fit (tests.algorithms.subgroup_sets.test_qfinder.TestQFinder.test_QFinder_fit) ... ok\n",
      "test_QFinder_generate_candidate_patterns1 (tests.algorithms.subgroup_sets.test_qfinder.TestQFinder.test_QFinder_generate_candidate_patterns1) ... ok\n",
      "test_QFinder_generate_candidate_patterns2 (tests.algorithms.subgroup_sets.test_qfinder.TestQFinder.test_QFinder_generate_candidate_patterns2) ... ok\n",
      "test_QFinder_handle_individual_result (tests.algorithms.subgroup_sets.test_qfinder.TestQFinder.test_QFinder_handle_individual_result) ... ok\n",
      "test_QFinder_init_method1 (tests.algorithms.subgroup_sets.test_qfinder.TestQFinder.test_QFinder_init_method1) ... ok\n",
      "test_QFinder_init_method2 (tests.algorithms.subgroup_sets.test_qfinder.TestQFinder.test_QFinder_init_method2) ... ok\n",
      "test_SDMap_additional_parameters_in_fit_method (tests.algorithms.subgroup_sets.test_sdmap.TestSDMap.test_SDMap_additional_parameters_in_fit_method) ... ok\n",
      "test_SDMap_fit_method_1 (tests.algorithms.subgroup_sets.test_sdmap.TestSDMap.test_SDMap_fit_method_1) ... ok\n",
      "test_SDMap_fit_method_10 (tests.algorithms.subgroup_sets.test_sdmap.TestSDMap.test_SDMap_fit_method_10) ... ok\n",
      "test_SDMap_fit_method_11 (tests.algorithms.subgroup_sets.test_sdmap.TestSDMap.test_SDMap_fit_method_11) ... ok\n",
      "test_SDMap_fit_method_2 (tests.algorithms.subgroup_sets.test_sdmap.TestSDMap.test_SDMap_fit_method_2) ... ok\n",
      "test_SDMap_fit_method_3 (tests.algorithms.subgroup_sets.test_sdmap.TestSDMap.test_SDMap_fit_method_3) ... ok\n",
      "test_SDMap_fit_method_4 (tests.algorithms.subgroup_sets.test_sdmap.TestSDMap.test_SDMap_fit_method_4) ... ok\n",
      "test_SDMap_fit_method_5 (tests.algorithms.subgroup_sets.test_sdmap.TestSDMap.test_SDMap_fit_method_5) ... ok\n",
      "test_SDMap_fit_method_6 (tests.algorithms.subgroup_sets.test_sdmap.TestSDMap.test_SDMap_fit_method_6) ... ok\n",
      "test_SDMap_fit_method_7 (tests.algorithms.subgroup_sets.test_sdmap.TestSDMap.test_SDMap_fit_method_7) ... ok\n",
      "test_SDMap_fit_method_8 (tests.algorithms.subgroup_sets.test_sdmap.TestSDMap.test_SDMap_fit_method_8) ... ok\n",
      "test_SDMap_fit_method_9 (tests.algorithms.subgroup_sets.test_sdmap.TestSDMap.test_SDMap_fit_method_9) ... ok\n",
      "test_SDMap_fpgrowth_method_1 (tests.algorithms.subgroup_sets.test_sdmap.TestSDMap.test_SDMap_fpgrowth_method_1) ... ok\n",
      "test_SDMap_fpgrowth_method_2 (tests.algorithms.subgroup_sets.test_sdmap.TestSDMap.test_SDMap_fpgrowth_method_2) ... ok\n",
      "test_SDMap_fpgrowth_method_3 (tests.algorithms.subgroup_sets.test_sdmap.TestSDMap.test_SDMap_fpgrowth_method_3) ... ok\n",
      "test_SDMap_fpgrowth_method_4 (tests.algorithms.subgroup_sets.test_sdmap.TestSDMap.test_SDMap_fpgrowth_method_4) ... ok\n",
      "test_SDMap_init_method_1 (tests.algorithms.subgroup_sets.test_sdmap.TestSDMap.test_SDMap_init_method_1) ... ok\n",
      "test_SDMap_init_method_2 (tests.algorithms.subgroup_sets.test_sdmap.TestSDMap.test_SDMap_init_method_2) ... ok\n",
      "test_SDMap_unselected_and_selected_subgroups (tests.algorithms.subgroup_sets.test_sdmap.TestSDMap.test_SDMap_unselected_and_selected_subgroups) ... ok\n",
      "test_SDMapStar_additional_parameters_in_fit_method (tests.algorithms.subgroup_sets.test_sdmapstar.TestSDMapStar.test_SDMapStar_additional_parameters_in_fit_method) ... ok\n",
      "test_SDMapStar_fit_method_1 (tests.algorithms.subgroup_sets.test_sdmapstar.TestSDMapStar.test_SDMapStar_fit_method_1) ... ok\n",
      "test_SDMapStar_fit_method_10 (tests.algorithms.subgroup_sets.test_sdmapstar.TestSDMapStar.test_SDMapStar_fit_method_10) ... ok\n",
      "test_SDMapStar_fit_method_2 (tests.algorithms.subgroup_sets.test_sdmapstar.TestSDMapStar.test_SDMapStar_fit_method_2) ... ok\n",
      "test_SDMapStar_fit_method_3 (tests.algorithms.subgroup_sets.test_sdmapstar.TestSDMapStar.test_SDMapStar_fit_method_3) ... ok\n",
      "test_SDMapStar_fit_method_4 (tests.algorithms.subgroup_sets.test_sdmapstar.TestSDMapStar.test_SDMapStar_fit_method_4) ... ok\n",
      "test_SDMapStar_fit_method_5 (tests.algorithms.subgroup_sets.test_sdmapstar.TestSDMapStar.test_SDMapStar_fit_method_5) ... ok\n",
      "test_SDMapStar_fit_method_6 (tests.algorithms.subgroup_sets.test_sdmapstar.TestSDMapStar.test_SDMapStar_fit_method_6) ... ok\n",
      "test_SDMapStar_fit_method_7 (tests.algorithms.subgroup_sets.test_sdmapstar.TestSDMapStar.test_SDMapStar_fit_method_7) ... ok\n",
      "test_SDMapStar_fit_method_8 (tests.algorithms.subgroup_sets.test_sdmapstar.TestSDMapStar.test_SDMapStar_fit_method_8) ... ok\n",
      "test_SDMapStar_fit_method_9 (tests.algorithms.subgroup_sets.test_sdmapstar.TestSDMapStar.test_SDMapStar_fit_method_9) ... ok\n",
      "test_SDMapStar_fpgrowth_method_1 (tests.algorithms.subgroup_sets.test_sdmapstar.TestSDMapStar.test_SDMapStar_fpgrowth_method_1) ... ok\n",
      "test_SDMapStar_fpgrowth_method_2 (tests.algorithms.subgroup_sets.test_sdmapstar.TestSDMapStar.test_SDMapStar_fpgrowth_method_2) ... ok\n",
      "test_SDMapStar_fpgrowth_method_3 (tests.algorithms.subgroup_sets.test_sdmapstar.TestSDMapStar.test_SDMapStar_fpgrowth_method_3) ... ok\n",
      "test_SDMapStar_fpgrowth_method_4 (tests.algorithms.subgroup_sets.test_sdmapstar.TestSDMapStar.test_SDMapStar_fpgrowth_method_4) ... ok\n",
      "test_SDMapStar_init_method_1 (tests.algorithms.subgroup_sets.test_sdmapstar.TestSDMapStar.test_SDMapStar_init_method_1) ... ok\n",
      "test_SDMapStar_init_method_2 (tests.algorithms.subgroup_sets.test_sdmapstar.TestSDMapStar.test_SDMapStar_init_method_2) ... ok\n",
      "test_SDMapStar_unselected_and_selected_subgroups_1 (tests.algorithms.subgroup_sets.test_sdmapstar.TestSDMapStar.test_SDMapStar_unselected_and_selected_subgroups_1) ... ok\n",
      "test_SDMapStar_unselected_and_selected_subgroups_2 (tests.algorithms.subgroup_sets.test_sdmapstar.TestSDMapStar.test_SDMapStar_unselected_and_selected_subgroups_2) ... ok\n",
      "test_VLSD_additional_parameters_in_fit_method (tests.algorithms.subgroup_sets.test_vlsd.TestVLSD.test_VLSD_additional_parameters_in_fit_method) ... ok\n",
      "test_VLSD_fit_method_1 (tests.algorithms.subgroup_sets.test_vlsd.TestVLSD.test_VLSD_fit_method_1) ... ok\n",
      "test_VLSD_fit_method_2 (tests.algorithms.subgroup_sets.test_vlsd.TestVLSD.test_VLSD_fit_method_2) ... ok\n"
     ]
    },
    {
     "name": "stderr",
     "output_type": "stream",
     "text": [
      "test_VLSD_fit_method_3 (tests.algorithms.subgroup_sets.test_vlsd.TestVLSD.test_VLSD_fit_method_3) ... ok\n",
      "test_VLSD_fit_method_4 (tests.algorithms.subgroup_sets.test_vlsd.TestVLSD.test_VLSD_fit_method_4) ... ok\n",
      "test_VLSD_fit_method_5 (tests.algorithms.subgroup_sets.test_vlsd.TestVLSD.test_VLSD_fit_method_5) ... ok\n",
      "test_VLSD_fit_method_6 (tests.algorithms.subgroup_sets.test_vlsd.TestVLSD.test_VLSD_fit_method_6) ... ok\n",
      "test_VLSD_fit_method_7 (tests.algorithms.subgroup_sets.test_vlsd.TestVLSD.test_VLSD_fit_method_7) ... ok\n",
      "test_VLSD_init_method_1 (tests.algorithms.subgroup_sets.test_vlsd.TestVLSD.test_VLSD_init_method_1) ... ok\n",
      "test_VLSD_init_method_2 (tests.algorithms.subgroup_sets.test_vlsd.TestVLSD.test_VLSD_init_method_2) ... ok\n",
      "\n",
      "----------------------------------------------------------------------\n",
      "Ran 91 tests in 2.525s\n",
      "\n",
      "OK\n",
      "test_dataframe_filters_general (tests.utils.test_dataframe_filters.TestDataFrameFilter.test_dataframe_filters_general) ... ok\n",
      "test_to_input_format_for_subgroup_list_algorithms_1 (tests.utils.test_file_format_transformations.TestToInputFormatForSubgroupListAlgorithms.test_to_input_format_for_subgroup_list_algorithms_1) ... ok\n",
      "test_to_input_format_for_subgroup_list_algorithms_2 (tests.utils.test_file_format_transformations.TestToInputFormatForSubgroupListAlgorithms.test_to_input_format_for_subgroup_list_algorithms_2) ... ok\n",
      "test_to_input_format_for_subgroup_list_algorithms_3 (tests.utils.test_file_format_transformations.TestToInputFormatForSubgroupListAlgorithms.test_to_input_format_for_subgroup_list_algorithms_3) ... ok\n",
      "\n",
      "----------------------------------------------------------------------\n",
      "Ran 4 tests in 0.056s\n",
      "\n",
      "OK\n"
     ]
    },
    {
     "name": "stdout",
     "output_type": "stream",
     "text": [
      "\n",
      "\n",
      "###################################\n",
      "########## UTILS PACKAGE ##########\n",
      "###################################\n"
     ]
    }
   ],
   "source": [
    "import subgroups.tests as st\n",
    "st.run_all_tests()"
   ]
  },
  {
   "cell_type": "markdown",
   "id": "48144105",
   "metadata": {},
   "source": [
    "## Running the SDMap algorithm\n",
    "\n",
    "To run the SDMap algorithm on a dataset, it is necessary to follow these steps:\n",
    "\n",
    "- Load the dataset into a Pandas `DataFrame` object.\n",
    "- Set the target, which must be a tuple of the form (column_name, value).\n",
    "- Select the quality measure to use.\n",
    "- Create the SDMap model with the desired parameters and run it."
   ]
  },
  {
   "cell_type": "markdown",
   "id": "4b57389b",
   "metadata": {},
   "source": [
    "The following is an example of running this algorithm on a dataset:"
   ]
  },
  {
   "cell_type": "code",
   "execution_count": 3,
   "id": "ee0bce82",
   "metadata": {},
   "outputs": [],
   "source": [
    "import pandas as pd\n",
    "from subgroups.quality_measures import WRAcc\n",
    "from subgroups.algorithms import SDMap\n",
    "\n",
    "dataset = pd.DataFrame({'att1': ['v3', 'v2', 'v1'], 'att2': ['v1', 'v2', 'v3'], 'att3': ['v2', 'v1', 'v1'], 'class': ['no', 'yes', 'no']})\n",
    "target = ('class', 'yes')\n",
    "\n",
    "model = SDMap(quality_measure = WRAcc(), minimum_quality_measure_value = -1, minimum_n = 0, write_results_in_file = True, file_path = \"./results.txt\")\n",
    "model.fit(dataset, target)"
   ]
  },
  {
   "cell_type": "markdown",
   "id": "7dcee5a0",
   "metadata": {},
   "source": [
    "## Results\n",
    "\n",
    "Running the following cell, we get the subgroups obtained by the algorithm:"
   ]
  },
  {
   "cell_type": "code",
   "execution_count": 4,
   "id": "dceff2ac",
   "metadata": {},
   "outputs": [
    {
     "name": "stdout",
     "output_type": "stream",
     "text": [
      "Description: [att1 = 'v3'], Target: class = 'yes' ; Quality Measure WRAcc = -0.1111111111111111 ; tp = 0 ; fp = 1 ; TP = 1 ; FP = 2\n",
      "Description: [att2 = 'v1'], Target: class = 'yes' ; Quality Measure WRAcc = -0.1111111111111111 ; tp = 0 ; fp = 1 ; TP = 1 ; FP = 2\n",
      "Description: [att1 = 'v3', att2 = 'v1'], Target: class = 'yes' ; Quality Measure WRAcc = -0.1111111111111111 ; tp = 0 ; fp = 1 ; TP = 1 ; FP = 2\n",
      "Description: [att3 = 'v2'], Target: class = 'yes' ; Quality Measure WRAcc = -0.1111111111111111 ; tp = 0 ; fp = 1 ; TP = 1 ; FP = 2\n",
      "Description: [att2 = 'v1', att3 = 'v2'], Target: class = 'yes' ; Quality Measure WRAcc = -0.1111111111111111 ; tp = 0 ; fp = 1 ; TP = 1 ; FP = 2\n",
      "Description: [att1 = 'v3', att3 = 'v2'], Target: class = 'yes' ; Quality Measure WRAcc = -0.1111111111111111 ; tp = 0 ; fp = 1 ; TP = 1 ; FP = 2\n",
      "Description: [att1 = 'v3', att2 = 'v1', att3 = 'v2'], Target: class = 'yes' ; Quality Measure WRAcc = -0.1111111111111111 ; tp = 0 ; fp = 1 ; TP = 1 ; FP = 2\n",
      "Description: [att1 = 'v2'], Target: class = 'yes' ; Quality Measure WRAcc = 0.22222222222222224 ; tp = 1 ; fp = 0 ; TP = 1 ; FP = 2\n",
      "Description: [att1 = 'v2', att3 = 'v1'], Target: class = 'yes' ; Quality Measure WRAcc = 0.22222222222222224 ; tp = 1 ; fp = 0 ; TP = 1 ; FP = 2\n",
      "Description: [att2 = 'v2'], Target: class = 'yes' ; Quality Measure WRAcc = 0.22222222222222224 ; tp = 1 ; fp = 0 ; TP = 1 ; FP = 2\n",
      "Description: [att1 = 'v2', att2 = 'v2'], Target: class = 'yes' ; Quality Measure WRAcc = 0.22222222222222224 ; tp = 1 ; fp = 0 ; TP = 1 ; FP = 2\n",
      "Description: [att2 = 'v2', att3 = 'v1'], Target: class = 'yes' ; Quality Measure WRAcc = 0.22222222222222224 ; tp = 1 ; fp = 0 ; TP = 1 ; FP = 2\n",
      "Description: [att1 = 'v2', att2 = 'v2', att3 = 'v1'], Target: class = 'yes' ; Quality Measure WRAcc = 0.22222222222222224 ; tp = 1 ; fp = 0 ; TP = 1 ; FP = 2\n",
      "Description: [att1 = 'v1'], Target: class = 'yes' ; Quality Measure WRAcc = -0.1111111111111111 ; tp = 0 ; fp = 1 ; TP = 1 ; FP = 2\n",
      "Description: [att1 = 'v1', att3 = 'v1'], Target: class = 'yes' ; Quality Measure WRAcc = -0.1111111111111111 ; tp = 0 ; fp = 1 ; TP = 1 ; FP = 2\n",
      "Description: [att2 = 'v3'], Target: class = 'yes' ; Quality Measure WRAcc = -0.1111111111111111 ; tp = 0 ; fp = 1 ; TP = 1 ; FP = 2\n",
      "Description: [att1 = 'v1', att2 = 'v3'], Target: class = 'yes' ; Quality Measure WRAcc = -0.1111111111111111 ; tp = 0 ; fp = 1 ; TP = 1 ; FP = 2\n",
      "Description: [att2 = 'v3', att3 = 'v1'], Target: class = 'yes' ; Quality Measure WRAcc = -0.1111111111111111 ; tp = 0 ; fp = 1 ; TP = 1 ; FP = 2\n",
      "Description: [att1 = 'v1', att2 = 'v3', att3 = 'v1'], Target: class = 'yes' ; Quality Measure WRAcc = -0.1111111111111111 ; tp = 0 ; fp = 1 ; TP = 1 ; FP = 2\n",
      "Description: [att3 = 'v1'], Target: class = 'yes' ; Quality Measure WRAcc = 0.11111111111111112 ; tp = 1 ; fp = 1 ; TP = 1 ; FP = 2\n"
     ]
    }
   ],
   "source": [
    "with open(\"./results.txt\", \"r\") as file:\n",
    "    for current_line in file:\n",
    "        print(current_line.strip())"
   ]
  },
  {
   "cell_type": "markdown",
   "id": "7f8e443a",
   "metadata": {},
   "source": [
    "Each of these lines represents a subgroup discovered by the algorithm along with some of its characteristics. If we take the first result as an example, we have the following characteristics:\n",
    "\n",
    "- The subgroup is described by the pattern `[att1 = 'v3']`.\n",
    "- The target is the one we defined initially, i.e., `class = 'yes'`.\n",
    "- The quality of the subgroup is measured by the WRAcc measure, which has a value of -0.1111111111111111\n",
    "- The values of tp, fp, TP, and FP are as follows: tp = 0 ; fp = 1 ; TP = 1 ; FP = 2.\n",
    "\n",
    "These results have been verified in the output file of the SDMap algorithm run on a toy dataset."
   ]
  },
  {
   "cell_type": "markdown",
   "id": "b0d4015d",
   "metadata": {},
   "source": [
    "We can also access different statistics about the result:"
   ]
  },
  {
   "cell_type": "code",
   "execution_count": 5,
   "id": "7228dab3",
   "metadata": {},
   "outputs": [
    {
     "name": "stdout",
     "output_type": "stream",
     "text": [
      "Selected subgroups:  20\n",
      "Unselected subgroups:  0\n",
      "Visited nodes:  20\n"
     ]
    }
   ],
   "source": [
    "print(\"Selected subgroups: \", model.selected_subgroups) # Number of selected subgroups\n",
    "print(\"Unselected subgroups: \", model.unselected_subgroups) # Number of unselected subgroups due to not meeting the minimum quality threshold\n",
    "print(\"Visited nodes: \", model.visited_nodes) # Number of nodes (subgroups) visited from the search space"
   ]
  },
  {
   "cell_type": "markdown",
   "id": "7db1cdd5",
   "metadata": {},
   "source": [
    "# References"
   ]
  },
  {
   "cell_type": "markdown",
   "id": "148a61e7",
   "metadata": {},
   "source": [
    "<a id=\"1\">[1]</a>\n",
    "Atzmueller, M., Puppe, F. (2006). SD-Map – A Fast Algorithm for Exhaustive Subgroup Discovery. In: Fürnkranz, J., Scheffer, T., Spiliopoulou, M. (eds) Knowledge Discovery in Databases: PKDD 2006. PKDD 2006. Lecture Notes in Computer Science, vol 4213. Springer, Berlin, Heidelberg. https://doi.org/10.1007/11871637_6\n",
    "\n",
    "<a id=\"2\">[2]</a> \n",
    "Han, J., Pei, J., Yin, Y. et al. Mining Frequent Patterns without Candidate Generation: A Frequent-Pattern Tree Approach. Data Mining and Knowledge Discovery 8, 53–87 (2004). https://doi.org/10.1023/B:DAMI.0000005258.31418.83"
   ]
  }
 ],
 "metadata": {
  "kernelspec": {
   "display_name": "Python 3 (ipykernel)",
   "language": "python",
   "name": "python3"
  },
  "language_info": {
   "codemirror_mode": {
    "name": "ipython",
    "version": 3
   },
   "file_extension": ".py",
   "mimetype": "text/x-python",
   "name": "python",
   "nbconvert_exporter": "python",
   "pygments_lexer": "ipython3",
   "version": "3.11.5"
  }
 },
 "nbformat": 4,
 "nbformat_minor": 5
}
