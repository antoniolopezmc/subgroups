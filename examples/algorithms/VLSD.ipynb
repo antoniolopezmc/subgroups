{
 "cells": [
  {
   "cell_type": "markdown",
   "id": "0a6234df",
   "metadata": {},
   "source": [
    "# Example of using the VLSD algorithm"
   ]
  },
  {
   "cell_type": "markdown",
   "id": "ff69dffc",
   "metadata": {},
   "source": [
    "## About this document\n",
    "\n",
    "The purpose of this document is to show an example of using the VLSD algorithm.\n",
    "\n",
    "In the following sections, an introduction of the this algorithm will be presented, followed by instructions to install the `subgroups` library. Then, the execution process of the VLSD algorithm will be described, including the necessary steps to consider. Finally, the results obtained from the application of this algorithm will be presented, highlighting the information obtained in the output file and the one that can be accessed through the model properties."
   ]
  },
  {
   "cell_type": "markdown",
   "id": "3870ba05",
   "metadata": {},
   "source": [
    "## VLSD algorithm"
   ]
  },
  {
   "cell_type": "markdown",
   "id": "fe4422af",
   "metadata": {},
   "source": [
    "VLSD (Vertical List Subgroup Discovery) [[1]](#1) is a subgroup discovery algorithm that combines an equivalence class exploration strategy and a pruning strategy based on optimistic estimate, and that is based on the vertical list data structure."
   ]
  },
  {
   "cell_type": "markdown",
   "id": "527c711c",
   "metadata": {},
   "source": [
    "## Installing the `subgroups` library\n",
    "\n",
    "To install the `subgroups` library, you have to execute the following cell:"
   ]
  },
  {
   "cell_type": "code",
   "execution_count": null,
   "id": "64298821",
   "metadata": {},
   "outputs": [],
   "source": [
    "!pip install subgroups"
   ]
  },
  {
   "cell_type": "markdown",
   "id": "9e4d1638",
   "metadata": {},
   "source": [
    "After that, to verify that the installation was successful, yo can run the following cell:"
   ]
  },
  {
   "cell_type": "code",
   "execution_count": null,
   "id": "7eb57fe9",
   "metadata": {},
   "outputs": [],
   "source": [
    "import subgroups.tests as st\n",
    "st.run_all_tests()"
   ]
  },
  {
   "cell_type": "markdown",
   "id": "2514ebdc",
   "metadata": {},
   "source": [
    "## Running the VLSD algorithm\n",
    "\n",
    "To run the VLSD algorithm on a dataset, it is necessary to follow these steps:\n",
    "\n",
    "- Load the dataset into a Pandas `DataFrame` object.\n",
    "- Set the target, which must be a tuple of the form (column_name, value).\n",
    "- Select the quality measure and optimistic estimate to use.\n",
    "- Create the VLSD model with the desired parameters and run it."
   ]
  },
  {
   "cell_type": "markdown",
   "id": "bf37c487",
   "metadata": {},
   "source": [
    "The following is an example of running this algorithm on a dataset:"
   ]
  },
  {
   "cell_type": "code",
   "execution_count": null,
   "id": "e44bc34b",
   "metadata": {},
   "outputs": [],
   "source": [
    "import pandas as pd\n",
    "from subgroups.quality_measures import WRAcc\n",
    "from subgroups.quality_measures import WRAccOptimisticEstimate1\n",
    "from subgroups.algorithms import VLSD\n",
    "\n",
    "dataset = pd.DataFrame({'att1': ['v3', 'v2', 'v1'], 'att2': ['v1', 'v2', 'v3'], 'att3': ['v2', 'v1', 'v1'], 'class': ['no', 'yes', 'no']})\n",
    "target = ('class', 'yes')\n",
    "\n",
    "model = VLSD(quality_measure = WRAcc(), q_minimum_threshold  = -1, optimistic_estimate = WRAccOptimisticEstimate1(), oe_minimum_threshold = -1, sort_criterion_in_s1 = VLSD.SORT_CRITERION_NO_ORDER, sort_criterion_in_other_sizes = VLSD.SORT_CRITERION_NO_ORDER, vertical_lists_implementation = VLSD.VERTICAL_LISTS_WITH_BITSETS, write_results_in_file = True, file_path = \"./results.txt\")\n",
    "model.fit(dataset, target)"
   ]
  },
  {
   "cell_type": "markdown",
   "id": "a11a4675",
   "metadata": {},
   "source": [
    "## Results\n",
    "\n",
    "Running the following cell, we get the subgroups obtained by the algorithm:"
   ]
  },
  {
   "cell_type": "code",
   "execution_count": null,
   "id": "57084bcc",
   "metadata": {},
   "outputs": [],
   "source": [
    "with open(\"./results.txt\", \"r\") as file:\n",
    "    for current_line in file:\n",
    "        print(current_line.strip())"
   ]
  },
  {
   "cell_type": "markdown",
   "id": "5a4027d7",
   "metadata": {},
   "source": [
    "Each of these lines represents a subgroup discovered by the algorithm along with some of its characteristics. If we take the first result as an example, we have the following characteristics:\n",
    "\n",
    "- The subgroup is described by the pattern `[att1 = 'v1']`.\n",
    "- The target is the one we defined initially, i.e., `class = 'yes'`.\n",
    "- The quality of the subgroup is measured by the WRAcc measure, which has a value of -0.1111111111111111\n",
    "- The optimistic estimate of the subgroup has a value of 0.0\n",
    "- The values of tp, fp, TP, and FP are as follows: tp = 0 ; fp = 1 ; TP = 1 ; FP = 2.\n",
    "\n",
    "These results have been verified in the output file of the VLSD algorithm run on a toy dataset."
   ]
  },
  {
   "cell_type": "markdown",
   "id": "c4b3245e",
   "metadata": {},
   "source": [
    "We can also access different statistics about the result:"
   ]
  },
  {
   "cell_type": "code",
   "execution_count": null,
   "id": "608fd2a4",
   "metadata": {},
   "outputs": [],
   "source": [
    "print(\"Selected subgroups: \", model.selected_subgroups) # Number of selected subgroups\n",
    "print(\"Unselected subgroups: \", model.unselected_subgroups) # Number of unselected subgroups due to not meeting the minimum quality threshold\n",
    "print(\"Visited nodes: \", model.visited_nodes) # Number of nodes (subgroups) visited from the search space"
   ]
  },
  {
   "cell_type": "markdown",
   "id": "a1689f9b",
   "metadata": {},
   "source": [
    "# References"
   ]
  },
  {
   "cell_type": "markdown",
   "id": "09411996",
   "metadata": {},
   "source": [
    "<a id=\"1\">[1]</a> \n",
    "Lopez-Martinez-Carrasco, A., Juarez, J.M., Campos, M., Canovas-Segura, B. VLSD - An Efficient Subgroup Discovery Algorithm Based on Equivalence Classes and Optimistic Estimate. Algorithms 2023, 16, 274. https://doi.org/10.3390/a16060274"
   ]
  }
 ],
 "metadata": {
  "kernelspec": {
   "display_name": "Python 3 (ipykernel)",
   "language": "python",
   "name": "python3"
  },
  "language_info": {
   "codemirror_mode": {
    "name": "ipython",
    "version": 3
   },
   "file_extension": ".py",
   "mimetype": "text/x-python",
   "name": "python",
   "nbconvert_exporter": "python",
   "pygments_lexer": "ipython3",
   "version": "3.11.5"
  }
 },
 "nbformat": 4,
 "nbformat_minor": 5
}
