{
 "cells": [
  {
   "cell_type": "markdown",
   "metadata": {},
   "source": [
    "# Example of using the BSD, CBSD and CPBS algorithms"
   ]
  },
  {
   "cell_type": "markdown",
   "metadata": {
    "id": "Kv8O9CZA7ZWk"
   },
   "source": [
    "## About this document\n",
    "\n",
    "The purpose of this document is to show an example of using the BSD, CBSD and CPBS algorithms.\n",
    "\n",
    "In the following sections, an introduction of the these algorithms will be presented, followed by instructions to install the `subgroups` library. Then, the execution process of the algorithms will be described, including the necessary steps to consider. Finally, the results obtained from the application of these algorithms will be presented, highlighting the information obtained in the output file and the one that can be accessed through the model properties."
   ]
  },
  {
   "cell_type": "markdown",
   "metadata": {},
   "source": [
    "## BSD algorithm\n",
    "\n",
    "BSD [[1]](#1) is a subgroup discovery algorithm that introduces the concept of dominance relation between subgroups. This algorithm also uses a list of the $k$ best subgroups along with an optimistic estimation to prune the search space.\n",
    "\n",
    "To handle the dominances between subgroups, BSD uses a bitset that stores for each discovered pattern and each row of the dataset whether the pattern appears in the row or not.\n",
    "\n",
    "Regarding the dominance relation, we will say that a subgroup $S$ makes another subgroup $S'$ irrelevant by dominance if and only if the positive instances of the bitset of subgroup $S'$ are included in the positive instances of subgroup $S$ and the negative instances of subgroup $S$ are included in the negative instances of subgroup $S'$."
   ]
  },
  {
   "cell_type": "markdown",
   "metadata": {},
   "source": [
    "## CBSD and CPBSD algorithms\n",
    "\n",
    "These algorithms are variants for the BSD algorithm which implement the Closed and Closed on Positives relations."
   ]
  },
  {
   "cell_type": "markdown",
   "metadata": {},
   "source": [
    "## Installing the `subgroups` library\n",
    "\n",
    "To install the `subgroups` library, simply execute the following cell:"
   ]
  },
  {
   "cell_type": "code",
   "execution_count": null,
   "metadata": {
    "id": "ZS0a1SdY7ZWn"
   },
   "outputs": [],
   "source": [
    "!pip install subgroups"
   ]
  },
  {
   "cell_type": "markdown",
   "metadata": {
    "id": "sjtJZWB27ZWo"
   },
   "source": [
    "To verify that the installation was successful, you can run the following cell:"
   ]
  },
  {
   "cell_type": "code",
   "execution_count": null,
   "metadata": {
    "id": "xGUJTCOx7ZWo",
    "outputId": "4f34679e-3f64-476d-d5d8-89b5425c63d3"
   },
   "outputs": [],
   "source": [
    "import subgroups.tests as st\n",
    "st.run_all_tests()"
   ]
  },
  {
   "cell_type": "markdown",
   "metadata": {
    "id": "MA9_xDii7ZWp"
   },
   "source": [
    "## Running the BSD algorithm\n",
    "\n",
    "To run the BSD algorithm on a dataset, the following steps are necessary:\n",
    "\n",
    "- Load the dataset into a Pandas `DataFrame` object.\n",
    "- Set the target, which must be a tuple of the form (column_name, value).\n",
    "- Select the quality measure and optimistic estimation to use.\n",
    "- Create the BSD model with the desired parameters and run it."
   ]
  },
  {
   "cell_type": "markdown",
   "metadata": {},
   "source": [
    "Below is an example of running this algorithm on a small dataset:"
   ]
  },
  {
   "cell_type": "code",
   "execution_count": null,
   "metadata": {
    "id": "sUvQRRbC7ZWp"
   },
   "outputs": [],
   "source": [
    "from pandas import DataFrame\n",
    "from subgroups.algorithms import BSD\n",
    "from subgroups.quality_measures import WRAcc\n",
    "from subgroups.quality_measures import WRAccOptimisticEstimate1\n",
    "\n",
    "dataset = DataFrame({'bread': ['yes', 'yes', 'no', 'yes', 'yes', 'yes', 'yes'], 'milk': ['yes', 'no', 'yes', 'yes', 'yes', 'yes', 'yes'], 'beer': ['no', 'yes', 'yes', 'yes', 'no', 'yes', 'no'], 'coke': ['no', 'no', 'yes', 'no', 'yes', 'no', 'yes'], 'diaper': ['no', 'yes', 'yes', 'yes', 'yes', 'yes', 'yes']})\n",
    "target = (\"diaper\", \"yes\")\n",
    "\n",
    "bsd_model = BSD(min_support=0, quality_measure=WRAcc(), optimistic_estimate = WRAccOptimisticEstimate1(), num_subgroups=8, max_depth=100, write_results_in_file = True, file_path = \"./results_BSD.txt\" )\n",
    "bsd_model.fit(dataset, target)"
   ]
  },
  {
   "cell_type": "markdown",
   "metadata": {},
   "source": [
    "## Results\n",
    "\n",
    "Running the following cell, we get the output of the first subgroups found by the algorithm:"
   ]
  },
  {
   "cell_type": "code",
   "execution_count": null,
   "metadata": {},
   "outputs": [],
   "source": [
    "subgroups_to_read = 10\n",
    "with open(\"./results_BSD.txt\", \"r\") as file:\n",
    "    while(subgroups_to_read > 0):\n",
    "        current_line = file.readline()\n",
    "        print(current_line.strip())\n",
    "        subgroups_to_read = subgroups_to_read - 1"
   ]
  },
  {
   "cell_type": "markdown",
   "metadata": {},
   "source": [
    "Each of these lines represents a subgroup discovered by the algorithm. Taking the second result as an example, we have the following characteristics:\n",
    "- The subgroup is described by the condition `milk = 'yes'`.\n",
    "- The target is the one we defined in the first place, i.e., `diaper = 'yes'`.\n",
    "- The quality of the subgroup is measured with the WRAcc measure, which has a value of -0.020408163265306048.\n",
    "- The values of tp, fp, TP, and FP are as follows: tp = 5; fp = 1; TP = 6; FP = 1.\n",
    "\n",
    "These results have been verified in the output file of the execution of the BSD algorithm on a toy dataset."
   ]
  },
  {
   "cell_type": "markdown",
   "metadata": {},
   "source": [
    "We can also access different statistics about the results:"
   ]
  },
  {
   "cell_type": "code",
   "execution_count": null,
   "metadata": {},
   "outputs": [],
   "source": [
    "print(\"Selected subgroups: \", bsd_model.selected_subgroups) # Number of selected subgroups\n",
    "print(\"Unselected subgroups: \", bsd_model.unselected_subgroups) # Number of unselected subgroups\n",
    "print(\"Visited subgroups: \", bsd_model.visited_subgroups) # Number of generated subgroups"
   ]
  },
  {
   "cell_type": "markdown",
   "metadata": {
    "id": "kRLrg12s8CzP"
   },
   "source": [
    "## Running the CBSD and CPBSD algorithms\n",
    "\n",
    "These variants for the BSD algorithm are also available in the `subgroups` library and their use is similar to the BSD case. Below is the same example using these algorithms:"
   ]
  },
  {
   "cell_type": "code",
   "execution_count": null,
   "metadata": {
    "id": "REaZB4cV8yAr"
   },
   "outputs": [],
   "source": [
    "from pandas import DataFrame\n",
    "from subgroups.algorithms import CBSD\n",
    "from subgroups.algorithms import CPBSD\n",
    "from subgroups.quality_measures import WRAcc\n",
    "from subgroups.quality_measures import WRAccOptimisticEstimate1\n",
    "\n",
    "\n",
    "dataset = DataFrame({'bread': ['yes', 'yes', 'no', 'yes', 'yes', 'yes', 'yes'], 'milk': ['yes', 'no', 'yes', 'yes', 'yes', 'yes', 'yes'], 'beer': ['no', 'yes', 'yes', 'yes', 'no', 'yes', 'no'], 'coke': ['no', 'no', 'yes', 'no', 'yes', 'no', 'yes'], 'diaper': ['no', 'yes', 'yes', 'yes', 'yes', 'yes', 'yes']})\n",
    "target = (\"diaper\", \"yes\")\n",
    "\n",
    "cbsd_model = CBSD(min_support=0, quality_measure=WRAcc(), optimistic_estimate = WRAccOptimisticEstimate1(), num_subgroups=8, max_depth=100, write_results_in_file = True, file_path = \"./results_CBSD.txt\" )\n",
    "cbsd_model.fit(dataset, target)\n",
    "\n",
    "cpbsd_model = CPBSD(min_support=0, quality_measure=WRAcc(), optimistic_estimate = WRAccOptimisticEstimate1(), num_subgroups=8, max_depth=100, write_results_in_file = True, file_path = \"./results_CPBSD.txt\" )\n",
    "cpbsd_model.fit(dataset, target)"
   ]
  },
  {
   "cell_type": "markdown",
   "metadata": {
    "id": "j6FdXbr47ZWp"
   },
   "source": [
    "## Results"
   ]
  },
  {
   "cell_type": "markdown",
   "metadata": {},
   "source": [
    "Running the following cell, we get the output of the first subgroups found by the algorithms:"
   ]
  },
  {
   "cell_type": "code",
   "execution_count": null,
   "metadata": {},
   "outputs": [],
   "source": [
    "subgroups_to_read = 10\n",
    "with open(\"./results_CBSD.txt\", \"r\") as file:\n",
    "    while(subgroups_to_read > 0):\n",
    "        current_line = file.readline()\n",
    "        print(current_line.strip())\n",
    "        subgroups_to_read = subgroups_to_read - 1"
   ]
  },
  {
   "cell_type": "code",
   "execution_count": null,
   "metadata": {},
   "outputs": [],
   "source": [
    "subgroups_to_read = 10\n",
    "with open(\"./results_CPBSD.txt\", \"r\") as file:\n",
    "    while(subgroups_to_read > 0):\n",
    "        current_line = file.readline()\n",
    "        print(current_line.strip())\n",
    "        subgroups_to_read = subgroups_to_read - 1"
   ]
  },
  {
   "cell_type": "markdown",
   "metadata": {},
   "source": [
    "We can also access different statistics about the results:"
   ]
  },
  {
   "cell_type": "code",
   "execution_count": null,
   "metadata": {},
   "outputs": [],
   "source": [
    "print(\"Selected subgroups: \", cbsd_model.selected_subgroups) # Number of selected subgroups\n",
    "print(\"Unselected subgroups: \", cbsd_model.unselected_subgroups) # Number of unselected subgroups\n",
    "print(\"Visited subgroups: \", cbsd_model.visited_subgroups) # Number of generated subgroups"
   ]
  },
  {
   "cell_type": "code",
   "execution_count": null,
   "metadata": {},
   "outputs": [],
   "source": [
    "print(\"Selected subgroups: \", cpbsd_model.selected_subgroups) # Number of selected subgroups\n",
    "print(\"Unselected subgroups: \", cpbsd_model.unselected_subgroups) # Number of unselected subgroups\n",
    "print(\"Visited subgroups: \", cpbsd_model.visited_subgroups) # Number of generated subgroups"
   ]
  },
  {
   "cell_type": "markdown",
   "metadata": {},
   "source": [
    "# References"
   ]
  },
  {
   "cell_type": "markdown",
   "metadata": {
    "id": "jJ5JG3SU7ZWq"
   },
   "source": [
    "<a id=\"1\">[1]</a>\n",
    "Florian Lemmerich, Mathias Rohlfs, & Martin Atzmueller. (2010, May). Fast discovery of\n",
    "relevant subgroup patterns. In Twenty-Third International FLAIRS Conference. 428-433"
   ]
  }
 ],
 "metadata": {
  "colab": {
   "provenance": []
  },
  "kernelspec": {
   "display_name": "Python 3 (ipykernel)",
   "language": "python",
   "name": "python3"
  },
  "language_info": {
   "codemirror_mode": {
    "name": "ipython",
    "version": 3
   },
   "file_extension": ".py",
   "mimetype": "text/x-python",
   "name": "python",
   "nbconvert_exporter": "python",
   "pygments_lexer": "ipython3",
   "version": "3.9.7"
  },
  "vscode": {
   "interpreter": {
    "hash": "ed740e98965fee7d8cb20e68ca1c88933f4961e20453b86da91f871f702c6022"
   }
  }
 },
 "nbformat": 4,
 "nbformat_minor": 1
}
