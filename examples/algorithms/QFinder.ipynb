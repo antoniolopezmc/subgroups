{
 "cells": [
  {
   "cell_type": "markdown",
   "id": "2e3c2d65",
   "metadata": {},
   "source": [
    "# Example of using the QFinder algorithm"
   ]
  },
  {
   "cell_type": "markdown",
   "id": "bae26e3e",
   "metadata": {},
   "source": [
    "## About this document\n",
    "\n",
    "The purpose of this document is to show an example of using the QFinder algorithm.\n",
    "\n",
    "In the following sections, an introduction of the this algorithm will be presented, followed by instructions to install the `subgroups` library. Then, the execution process of the QFinder algorithm will be described, including the necessary steps to consider. Finally, the results obtained from the application of this algorithm will be presented, highlighting the information obtained in the output file and the one that can be accessed through the model properties."
   ]
  },
  {
   "cell_type": "markdown",
   "id": "a136b18b",
   "metadata": {},
   "source": [
    "## QFinder algorithm"
   ]
  },
  {
   "cell_type": "markdown",
   "id": "274deb35",
   "metadata": {},
   "source": [
    "QFinder [[1]](#1) is a subgroup discovery algorithm that aims to generate statistically credible subgroups and combines an exhaustive search with a cascade of filters based on metrics assessing key credibility criteria, including relative risk reduction assessment, adjustment on confounding factors, individual feature’s contribution to the subgroup’s effect, interaction tests for assessing between-subgroup treatment effect interactions and tests adjustment (multiple testing)."
   ]
  },
  {
   "cell_type": "markdown",
   "id": "51dc14aa",
   "metadata": {},
   "source": [
    "## Installing the `subgroups` library\n",
    "\n",
    "To install the `subgroups` library, simply execute the following cell:"
   ]
  },
  {
   "cell_type": "code",
   "execution_count": null,
   "id": "24aa8afb",
   "metadata": {},
   "outputs": [],
   "source": [
    "!pip install subgroups"
   ]
  },
  {
   "cell_type": "markdown",
   "id": "8c1989d6",
   "metadata": {},
   "source": [
    "To verify that the installation was successful, we may run the following cell:"
   ]
  },
  {
   "cell_type": "code",
   "execution_count": null,
   "id": "d6d0b924",
   "metadata": {},
   "outputs": [],
   "source": [
    "import subgroups.tests as st\n",
    "st.run_all_tests()"
   ]
  },
  {
   "cell_type": "markdown",
   "id": "bf5eb2ae",
   "metadata": {},
   "source": [
    "## Running the QFinder algorithm\n",
    "\n",
    "To run the QFinder algorithm on a dataset, it is necessary to follow these steps:\n",
    "\n",
    "- Load the dataset into a Pandas `DataFrame` object.\n",
    "- Set the target, which must be a tuple of the form (column_name, value).\n",
    "- Select the quality measure and optimistic estimate to use.\n",
    "- Create the QFinder model with the desired parameters and run it."
   ]
  },
  {
   "cell_type": "markdown",
   "id": "cdb4da09",
   "metadata": {},
   "source": [
    "The following is an example of running this algorithm on a small dataset:"
   ]
  },
  {
   "cell_type": "code",
   "execution_count": null,
   "id": "88fa9a87",
   "metadata": {},
   "outputs": [],
   "source": [
    "from pandas import DataFrame\n",
    "from subgroups.algorithms import QFinder\n",
    "from subgroups import datasets\n",
    "\n",
    "df = datasets.load_ballons_csv()\n",
    "target = (\"class\", \"acc\")\n",
    "\n",
    "model = QFinder(num_subgroups=5, write_results_in_file=True, file_path='results.txt')\n",
    "model.fit(df, target)"
   ]
  },
  {
   "cell_type": "markdown",
   "id": "1062d539",
   "metadata": {},
   "source": [
    "## Results\n",
    "\n",
    "Running the following cell, we get the output of the first subgroups found by the algorithm:"
   ]
  },
  {
   "cell_type": "code",
   "execution_count": null,
   "id": "130c7830",
   "metadata": {},
   "outputs": [],
   "source": [
    "with open(\"./results.txt\", \"r\") as file:\n",
    "    for current_line in file:\n",
    "        print(current_line.strip())"
   ]
  },
  {
   "cell_type": "markdown",
   "id": "26df875c",
   "metadata": {},
   "source": [
    "Each of these lines represents a subgroup discovered by the algorithm along with some of its characteristics. If we take the first result as an example, we have the following characteristics:\n",
    "\n",
    "- The subgroup is described by the pattern `[]`.\n",
    "- The target is the one we defined initially, i.e., `class = ''`.\n",
    "- The quality of the subgroup is measured by the WRAcc measure, which has a value of \n",
    "- The values of tp, fp, TP, and FP are as follows: tp =  ; fp =  ; TP =  ; FP = .\n",
    "\n",
    "These results have been verified in the output file of the VLSD algorithm run on a toy dataset."
   ]
  },
  {
   "cell_type": "markdown",
   "id": "6735630f",
   "metadata": {},
   "source": [
    "We can also access different statistics about the result:"
   ]
  },
  {
   "cell_type": "code",
   "execution_count": null,
   "id": "0fb7799a",
   "metadata": {},
   "outputs": [],
   "source": [
    "print(\"Selected subgroups: \", model.selected_subgroups) # Number of selected subgroups\n",
    "print(\"Unselected subgroups: \", model.unselected_subgroups) # Number of unselected subgroups due to not meeting the minimum quality threshold\n",
    "print(\"Visited nodes: \", model.visited_nodes) # Number of nodes (subgroups) visited from the search space"
   ]
  },
  {
   "cell_type": "markdown",
   "id": "cc26c16d",
   "metadata": {},
   "source": [
    "# References"
   ]
  },
  {
   "cell_type": "markdown",
   "id": "4da4f421",
   "metadata": {},
   "source": [
    "<a id=\"1\">[1]</a>\n",
    "Esnault, C., Gadonna, M. L., Queyrel, M., Templier, A., & Zucker, J. D. (2020). Q-Finder: An Algorithm for Credible Subgroup Discovery in Clinical Data Analysis - An Application to the International Diabetes Management Practice Study. Frontiers in artificial intelligence, 3, 559927. https://doi.org/10.3389/frai.2020.559927"
   ]
  }
 ],
 "metadata": {
  "kernelspec": {
   "display_name": "Python 3 (ipykernel)",
   "language": "python",
   "name": "python3"
  },
  "language_info": {
   "codemirror_mode": {
    "name": "ipython",
    "version": 3
   },
   "file_extension": ".py",
   "mimetype": "text/x-python",
   "name": "python",
   "nbconvert_exporter": "python",
   "pygments_lexer": "ipython3",
   "version": "3.9.7"
  }
 },
 "nbformat": 4,
 "nbformat_minor": 5
}
