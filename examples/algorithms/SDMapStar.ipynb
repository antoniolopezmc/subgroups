{
 "cells": [
  {
   "cell_type": "markdown",
   "metadata": {},
   "source": [
    "# Example of using the SDMap* algorithm"
   ]
  },
  {
   "cell_type": "markdown",
   "metadata": {},
   "source": [
    "## About this document\n",
    "\n",
    "The purpose of this document is to show an example of using the SDMap* algorithm.\n",
    "\n",
    "In the following sections, an introduction of the this algorithm will be presented, followed by instructions to install the `subgroups` library. Then, the execution process of the SDMap* algorithm will be described, including the necessary steps to consider. Finally, the results obtained from the application of this algorithm will be presented, highlighting the information obtained in the output file and the one that can be accessed through the model properties."
   ]
  },
  {
   "cell_type": "markdown",
   "metadata": {},
   "source": [
    "## SDMap* algorithm\n",
    "\n",
    "SDMap* [[1]](#1) is a subgroup discovery algorithm that modifies the original design of SDMap to add some pruning techniques that improve performance. These changes are:\n",
    "\n",
    "- A list of best subgroups is used to prune patterns whose optimistic estimate is worse than the quality of the worst subgroup in the list.\n",
    "- In each call to FpTree where the tree does not have a single path, selectors are sorted so that those with a better optimistic estimate are processed first.\n",
    "- Each new pattern generated after this sorting is checked so that its optimistic estimate is better than the quality of the worst subgroup in the list of best subgroups. If it is not, the pattern is discarded.\n",
    "- In the construction of conditional FpTrees, branches whose optimistic estimate is worse than the quality of the worst subgroup in the list of best subgroups are discarded."
   ]
  },
  {
   "cell_type": "markdown",
   "metadata": {},
   "source": [
    "## Installing the `subgroups` library\n",
    "\n",
    "To install the `subgroups` library, simply execute the following cell:"
   ]
  },
  {
   "cell_type": "code",
   "execution_count": null,
   "metadata": {},
   "outputs": [],
   "source": [
    "!pip install subgroups"
   ]
  },
  {
   "cell_type": "markdown",
   "metadata": {
    "id": "q50qLPkdV63Q"
   },
   "source": [
    "To verify that the installation was successful, we may run the following cell:"
   ]
  },
  {
   "cell_type": "code",
   "execution_count": null,
   "metadata": {
    "id": "MMwsdmTzV63Q",
    "outputId": "69b5d3a1-3181-4bc0-9019-b4396849bb0b"
   },
   "outputs": [],
   "source": [
    "import subgroups.tests as st\n",
    "st.run_all_tests()"
   ]
  },
  {
   "cell_type": "markdown",
   "metadata": {
    "id": "JFbLxaeKV63S"
   },
   "source": [
    "## Running the SDMap* algorithm\n",
    "\n",
    "To run the SDMap* algorithm on a dataset, it is necessary to follow these steps:\n",
    "\n",
    "- Load the dataset into a Pandas `DataFrame` object.\n",
    "- Set the target, which must be a tuple of the form (column_name, value).\n",
    "- Select the quality measure and optimistic estimate to use.\n",
    "- Create the SDMap* model with the desired parameters and run it."
   ]
  },
  {
   "cell_type": "markdown",
   "metadata": {},
   "source": [
    "The following is an example of running this algorithm on a small dataset:"
   ]
  },
  {
   "cell_type": "code",
   "execution_count": null,
   "metadata": {
    "id": "8_eYcfMrV63U"
   },
   "outputs": [],
   "source": [
    "from pandas import DataFrame\n",
    "from subgroups.algorithms import SDMapStar\n",
    "from subgroups.quality_measures import WRAcc\n",
    "from subgroups.quality_measures import WRAccOptimisticEstimate1\n",
    "\n",
    "dataset = DataFrame({'att1': ['v3', 'v2', 'v1', 'v3', 'v4', 'v4'], 'att2': ['1', '2', '3', '3', '5', '6'], 'att3': ['B', 'A', 'A', 'B', 'A', 'B'], 'class': ['0', '1', '0', '0', '1', '1']})\n",
    "target = (\"class\", \"1\")\n",
    "\n",
    "model = SDMapStar(WRAcc(), WRAccOptimisticEstimate1(), 0.01, num_subgroups=3, minimum_n = 0, write_results_in_file=True, file_path=\"./results.txt\")\n",
    "model.fit(dataset, target)"
   ]
  },
  {
   "cell_type": "markdown",
   "metadata": {
    "id": "fVCNrvlyV63V"
   },
   "source": [
    "## Results\n",
    "\n",
    "Running the following cell, we get the output of the first subgroups found by the algorithm:"
   ]
  },
  {
   "cell_type": "code",
   "execution_count": null,
   "metadata": {
    "id": "53niFAG7V63V",
    "outputId": "c27d2fed-5dd6-4d50-8566-9633a3cbe953"
   },
   "outputs": [],
   "source": [
    "subgroups_to_read = 10\n",
    "with open(\"./results.txt\", \"r\") as file:\n",
    "    while(subgroups_to_read > 0):\n",
    "        current_line = file.readline()\n",
    "        print(current_line.strip())\n",
    "        subgroups_to_read = subgroups_to_read - 1"
   ]
  },
  {
   "cell_type": "markdown",
   "metadata": {
    "id": "UcDBUGOSV63W"
   },
   "source": [
    "We can also access different statistics about the result:"
   ]
  },
  {
   "cell_type": "code",
   "execution_count": null,
   "metadata": {
    "id": "cnK8zgWfV63W",
    "outputId": "883c8ad5-9a0e-4ef1-b625-fcc3b9b8025c"
   },
   "outputs": [],
   "source": [
    "print(\"Pruned subgroups: \", model.pruned_subgroups) # Number of subgroups pruned by the threshold of the best subgroups\n",
    "print(\"Conditional pruned branches: \", model.conditional_pruned_branches) # Number of branches pruned from some conditional FPTree by the threshold of the best subgroups\n",
    "print(\"Selected subgroups: \", model.selected_subgroups) # Number of selected subgroups\n",
    "print(\"Unselected subgroups: \", model.unselected_subgroups) # Number of unselected subgroups due to not meeting the minimum quality threshold\n",
    "print(\"Visited nodes: \", model.visited_nodes) # Number of nodes (subgroups) visited from the search space"
   ]
  },
  {
   "cell_type": "markdown",
   "metadata": {},
   "source": [
    "# References"
   ]
  },
  {
   "cell_type": "markdown",
   "metadata": {
    "id": "1YFyaeDvV63X"
   },
   "source": [
    "<a id=\"1\">[1]</a>\n",
    "Atzmueller, M., Lemmerich, F. (2009). Fast Subgroup Discovery for Continuous Target Concepts. In: Rauch, J., Raś, Z.W., Berka, P., Elomaa, T. (eds) Foundations of Intelligent Systems. ISMIS 2009. Lecture Notes in Computer Science(), vol 5722. Springer, Berlin, Heidelberg. https://doi.org/10.1007/978-3-642-04125-9_7"
   ]
  }
 ],
 "metadata": {
  "colab": {
   "provenance": []
  },
  "kernelspec": {
   "display_name": "Python 3 (ipykernel)",
   "language": "python",
   "name": "python3"
  },
  "language_info": {
   "codemirror_mode": {
    "name": "ipython",
    "version": 3
   },
   "file_extension": ".py",
   "mimetype": "text/x-python",
   "name": "python",
   "nbconvert_exporter": "python",
   "pygments_lexer": "ipython3",
   "version": "3.9.7"
  },
  "vscode": {
   "interpreter": {
    "hash": "ed740e98965fee7d8cb20e68ca1c88933f4961e20453b86da91f871f702c6022"
   }
  }
 },
 "nbformat": 4,
 "nbformat_minor": 1
}
