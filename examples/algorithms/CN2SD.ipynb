{
 "cells": [
  {
   "cell_type": "markdown",
   "metadata": {},
   "source": [
    "# Example of using the CN2SD algorithm"
   ]
  },
  {
   "cell_type": "markdown",
   "metadata": {},
   "source": [
    "## About this document\n",
    "\n",
    "The purpose of this document is to show an example of using the CN2SD algorithm.\n",
    "\n",
    "The following section will provide a detailed introduction to the CN2SD algorithm, followed by instructions to install the `subgroups` library. Then, the execution process of this algorithm will be described, including the necessary steps to consider.\n",
    "\n",
    "Finally, the results obtained from the application of this algorithm will be presented, highlighting the information obtained in the output file and the one that can be accessed through the model properties."
   ]
  },
  {
   "cell_type": "markdown",
   "metadata": {},
   "source": [
    "## CN2SD Algorithm\n",
    "\n",
    "CN2SD [[1]](#1) algorithm is a subgroup discovery algorithm based on a rule induction system by adapting the classification rule method CN2.\n",
    "\n",
    "The modifications carried out to adapt the CN2 algorithm are:\n",
    "\n",
    "- Substitution of the precision-based search heuristic by a new unusualness heuristic combining the generality and the precision of the rule.\n",
    "- Incorporation of the weighting of the examples in the coverage algorithm.\n",
    "- Incorporation of example weightings into the unusualness search heuristic.\n",
    "- Utilizing a probabilistic classification based on the class distribution of examples covered by individual rules.\n",
    "\n",
    "The WRACC quality measure is used to evaluate the quality measures of the subgroups."
   ]
  },
  {
   "cell_type": "markdown",
   "metadata": {},
   "source": [
    "## Installing the `subgroups` library\n",
    "\n",
    "To install the `subgroups` library, simply execute the following cell:"
   ]
  },
  {
   "cell_type": "code",
   "execution_count": 1,
   "metadata": {},
   "outputs": [
    {
     "name": "stdout",
     "output_type": "stream",
     "text": [
      "Requirement already satisfied: subgroups in c:\\users\\anlopezmc\\anaconda3\\lib\\site-packages (0.1.1)\n",
      "Requirement already satisfied: pandas>=2.0.3 in c:\\users\\anlopezmc\\anaconda3\\lib\\site-packages (from subgroups) (2.0.3)\n",
      "Requirement already satisfied: bitarray>=2.7.6 in c:\\users\\anlopezmc\\anaconda3\\lib\\site-packages (from subgroups) (2.7.6)\n",
      "Requirement already satisfied: statsmodels>=0.14.0 in c:\\users\\anlopezmc\\anaconda3\\lib\\site-packages (from subgroups) (0.14.0)\n",
      "Requirement already satisfied: numpy>=1.20.3 in c:\\users\\anlopezmc\\anaconda3\\lib\\site-packages (from pandas>=2.0.3->subgroups) (1.20.3)\n",
      "Requirement already satisfied: python-dateutil>=2.8.2 in c:\\users\\anlopezmc\\anaconda3\\lib\\site-packages (from pandas>=2.0.3->subgroups) (2.8.2)\n",
      "Requirement already satisfied: pytz>=2020.1 in c:\\users\\anlopezmc\\anaconda3\\lib\\site-packages (from pandas>=2.0.3->subgroups) (2021.3)\n",
      "Requirement already satisfied: tzdata>=2022.1 in c:\\users\\anlopezmc\\anaconda3\\lib\\site-packages (from pandas>=2.0.3->subgroups) (2023.3)\n",
      "Requirement already satisfied: six>=1.5 in c:\\users\\anlopezmc\\anaconda3\\lib\\site-packages (from python-dateutil>=2.8.2->pandas>=2.0.3->subgroups) (1.16.0)\n",
      "Requirement already satisfied: scipy!=1.9.2,>=1.4 in c:\\users\\anlopezmc\\anaconda3\\lib\\site-packages (from statsmodels>=0.14.0->subgroups) (1.10.1)\n",
      "Requirement already satisfied: patsy>=0.5.2 in c:\\users\\anlopezmc\\anaconda3\\lib\\site-packages (from statsmodels>=0.14.0->subgroups) (0.5.2)\n",
      "Requirement already satisfied: packaging>=21.3 in c:\\users\\anlopezmc\\anaconda3\\lib\\site-packages (from statsmodels>=0.14.0->subgroups) (23.1)\n"
     ]
    }
   ],
   "source": [
    "!pip install subgroups"
   ]
  },
  {
   "cell_type": "markdown",
   "metadata": {},
   "source": [
    "To verify that the installation was successful, you can run the following cell:"
   ]
  },
  {
   "cell_type": "code",
   "execution_count": 2,
   "metadata": {},
   "outputs": [
    {
     "name": "stderr",
     "output_type": "stream",
     "text": [
      "test_Operator_evaluate_method (tests.core.test_operator.TestOperator) ... ok\n",
      "test_Operator_evaluate_method_with_pandasSeries (tests.core.test_operator.TestOperator) ... ok\n",
      "test_Operator_generate_from_str_method (tests.core.test_operator.TestOperator) ... ok\n",
      "test_Operator_string_representation (tests.core.test_operator.TestOperator) ... ok\n",
      "test_Pattern_contains_method (tests.core.test_pattern.TestPattern) ... ok\n",
      "test_Pattern_general (tests.core.test_pattern.TestPattern) ... ok\n",
      "test_Pattern_is_contained_method (tests.core.test_pattern.TestPattern) ... ok\n",
      "test_Pattern_is_refinement_method (tests.core.test_pattern.TestPattern) ... ok\n",
      "test_Selector_attributes (tests.core.test_selector.TestSelector) ... ok\n",
      "test_Selector_comparisons (tests.core.test_selector.TestSelector) ... ok\n",
      "test_Selector_creation_process (tests.core.test_selector.TestSelector) ... ok\n",
      "test_Selector_deletion_process (tests.core.test_selector.TestSelector) ... ok\n",
      "test_Selector_generate_from_str_method (tests.core.test_selector.TestSelector) ... ok\n",
      "test_Selector_match_method (tests.core.test_selector.TestSelector) ... ok\n",
      "test_Selector_same_value_different_type (tests.core.test_selector.TestSelector) ... ok\n",
      "test_Subgroup_filter (tests.core.test_subgroup.TestSubgroup) ... ok\n",
      "test_Subgroup_general (tests.core.test_subgroup.TestSubgroup) ... ok\n",
      "test_Subgroup_is_refinement_method (tests.core.test_subgroup.TestSubgroup) ... ok\n",
      "\n",
      "----------------------------------------------------------------------\n",
      "Ran 18 tests in 0.027s\n",
      "\n",
      "OK\n",
      "test_quality_measures_compute (tests.quality_measures.test_quality_measures.TestQualityMeasures) ... ok\n",
      "test_quality_measures_general (tests.quality_measures.test_quality_measures.TestQualityMeasures) ... ok\n",
      "test_quality_measures_value_of_class_variables (tests.quality_measures.test_quality_measures.TestQualityMeasures) ... ok\n",
      "\n",
      "----------------------------------------------------------------------\n",
      "Ran 3 tests in 0.003s\n",
      "\n",
      "OK\n",
      "test_FPTreeForSDMap_build_tree_1 (tests.data_structures.test_fp_tree_for_sdmap.TestFPTreeForSDMap) ... ok\n",
      "test_FPTreeForSDMap_build_tree_2 (tests.data_structures.test_fp_tree_for_sdmap.TestFPTreeForSDMap) ... ok\n",
      "test_FPTreeForSDMap_build_tree_3 (tests.data_structures.test_fp_tree_for_sdmap.TestFPTreeForSDMap) ... ok\n",
      "test_FPTreeForSDMap_build_tree_4 (tests.data_structures.test_fp_tree_for_sdmap.TestFPTreeForSDMap) ... ok\n",
      "test_FPTreeForSDMap_generate_conditional_fp_tree_1 (tests.data_structures.test_fp_tree_for_sdmap.TestFPTreeForSDMap) ... "
     ]
    },
    {
     "name": "stdout",
     "output_type": "stream",
     "text": [
      "\n",
      "\n",
      "##################################\n",
      "########## CORE PACKAGE ##########\n",
      "##################################\n",
      "\n",
      "\n",
      "##############################################\n",
      "########## QUALITY MEASURES PACKAGE ##########\n",
      "##############################################\n",
      "\n",
      "\n",
      "#############################################\n",
      "########## DATA STRUCTURES PACKAGE ##########\n",
      "#############################################\n"
     ]
    },
    {
     "name": "stderr",
     "output_type": "stream",
     "text": [
      "ok\n",
      "test_FPTreeForSDMap_generate_conditional_fp_tree_2 (tests.data_structures.test_fp_tree_for_sdmap.TestFPTreeForSDMap) ... ok\n",
      "test_FPTreeForSDMap_generate_set_of_frequent_selectors_1 (tests.data_structures.test_fp_tree_for_sdmap.TestFPTreeForSDMap) ... ok\n",
      "test_FPTreeForSDMap_generate_set_of_frequent_selectors_2 (tests.data_structures.test_fp_tree_for_sdmap.TestFPTreeForSDMap) ... ok\n",
      "test_FPTreeForSDMap_generate_set_of_frequent_selectors_3 (tests.data_structures.test_fp_tree_for_sdmap.TestFPTreeForSDMap) ... ok\n",
      "test_FPTreeNode_general (tests.data_structures.test_fp_tree_node.TestFPTreeNode) ... ok\n",
      "test_subgroup_list_1 (tests.data_structures.test_subgroup_list.TestSubgroupList) ... ok\n",
      "test_subgroup_list_2 (tests.data_structures.test_subgroup_list.TestSubgroupList) ... ok\n",
      "test_subgroup_list_3 (tests.data_structures.test_subgroup_list.TestSubgroupList) ... ok\n",
      "test_subgroup_list_4 (tests.data_structures.test_subgroup_list.TestSubgroupList) ... ok\n",
      "test_vertical_list_1 (tests.data_structures.test_vertical_list_with_bitsets.TestVerticalListWithBitsets) ... ok\n",
      "test_vertical_list_2 (tests.data_structures.test_vertical_list_with_bitsets.TestVerticalListWithBitsets) ... ok\n",
      "test_vertical_list_3 (tests.data_structures.test_vertical_list_with_bitsets.TestVerticalListWithBitsets) ... ok\n",
      "test_vertical_list_str_method (tests.data_structures.test_vertical_list_with_bitsets.TestVerticalListWithBitsets) ... ok\n",
      "test_vertical_list_1 (tests.data_structures.test_vertical_list_with_sets.TestVerticalListWithSets) ... ok\n",
      "test_vertical_list_2 (tests.data_structures.test_vertical_list_with_sets.TestVerticalListWithSets) ... ok\n",
      "test_vertical_list_3 (tests.data_structures.test_vertical_list_with_sets.TestVerticalListWithSets) ... ok\n",
      "test_vertical_list_str_method (tests.data_structures.test_vertical_list_with_sets.TestVerticalListWithSets) ... ok\n",
      "\n",
      "----------------------------------------------------------------------\n",
      "Ran 22 tests in 0.201s\n",
      "\n",
      "OK\n",
      "test_DSLM_compute_overlap_factor_function_1 (tests.algorithms.subgroup_lists.test_dslm.TestDSLM) ... ok\n",
      "test_DSLM_compute_overlap_factor_function_2 (tests.algorithms.subgroup_lists.test_dslm.TestDSLM) ... ok\n",
      "test_DSLM_compute_overlap_factor_function_3 (tests.algorithms.subgroup_lists.test_dslm.TestDSLM) ... ok\n",
      "test_DSLM_counter_of_subgroups_1 (tests.algorithms.subgroup_lists.test_dslm.TestDSLM) ... ok\n",
      "test_DSLM_counter_of_subgroups_2 (tests.algorithms.subgroup_lists.test_dslm.TestDSLM) ... ok\n",
      "test_GMSL_fit_method_1 (tests.algorithms.subgroup_lists.test_gmsl.TestGMSL) ... ok\n",
      "test_GMSL_load_candidates_method_1 (tests.algorithms.subgroup_lists.test_gmsl.TestGMSL) ... ok\n",
      "test_GMSL_load_candidates_method_2 (tests.algorithms.subgroup_lists.test_gmsl.TestGMSL) ... ok\n",
      "test_GMSL_load_candidates_method_3 (tests.algorithms.subgroup_lists.test_gmsl.TestGMSL) ... ok\n",
      "test_GMSL_load_candidates_method_4 (tests.algorithms.subgroup_lists.test_gmsl.TestGMSL) ... ok\n",
      "test_GMSL_load_candidates_method_5 (tests.algorithms.subgroup_lists.test_gmsl.TestGMSL) ... ok\n",
      "test_GMSL_mdl_functions_1 (tests.algorithms.subgroup_lists.test_gmsl.TestGMSL) ... ok\n",
      "test_GMSL_mdl_functions_2 (tests.algorithms.subgroup_lists.test_gmsl.TestGMSL) ... ok\n",
      "test_GMSL_mdl_functions_3 (tests.algorithms.subgroup_lists.test_gmsl.TestGMSL) ... "
     ]
    },
    {
     "name": "stdout",
     "output_type": "stream",
     "text": [
      "\n",
      "\n",
      "########################################\n",
      "########## ALGORITHMS PACKAGE ##########\n",
      "########################################\n"
     ]
    },
    {
     "name": "stderr",
     "output_type": "stream",
     "text": [
      "ok\n",
      "test_BSD_cardinality (tests.algorithms.subgroup_sets.test_bsd.TestBSD) ... ok\n",
      "test_BSD_checkRel (tests.algorithms.subgroup_sets.test_bsd.TestBSD) ... ok\n",
      "test_BSD_checkRelevancies (tests.algorithms.subgroup_sets.test_bsd.TestBSD) ... ok\n",
      "test_BSD_fit1 (tests.algorithms.subgroup_sets.test_bsd.TestBSD) ... ok\n",
      "test_BSD_fit2 (tests.algorithms.subgroup_sets.test_bsd.TestBSD) ... ok\n",
      "test_BSD_fit3 (tests.algorithms.subgroup_sets.test_bsd.TestBSD) ... ok\n",
      "test_BSD_fit4 (tests.algorithms.subgroup_sets.test_bsd.TestBSD) ... ok\n",
      "test_BSD_init_method (tests.algorithms.subgroup_sets.test_bsd.TestBSD) ... ok\n",
      "test_BSD_logicalAnd (tests.algorithms.subgroup_sets.test_bsd.TestBSD) ... ok\n",
      "test_CBSD_checkRel (tests.algorithms.subgroup_sets.test_cbsd.TestCBSD) ... ok\n",
      "test_CBSD_checkRelevancies (tests.algorithms.subgroup_sets.test_cbsd.TestCBSD) ... ok\n",
      "test_CBSD_fit1 (tests.algorithms.subgroup_sets.test_cbsd.TestCBSD) ... ok\n",
      "test_CBSD_fit2 (tests.algorithms.subgroup_sets.test_cbsd.TestCBSD) ... ok\n",
      "test_CBSD_fit3 (tests.algorithms.subgroup_sets.test_cbsd.TestCBSD) ... ok\n",
      "test_CBSD_fit4 (tests.algorithms.subgroup_sets.test_cbsd.TestCBSD) ... ok\n",
      "test_CBSD_init_method (tests.algorithms.subgroup_sets.test_cbsd.TestCBSD) ... ok\n",
      "test_CN2SD_fit_method_1 (tests.algorithms.subgroup_sets.test_cn2sd.TestCN2SD) ... ok\n",
      "test_CN2SD_fit_method_2 (tests.algorithms.subgroup_sets.test_cn2sd.TestCN2SD) ... ok\n",
      "test_CN2SD_fit_method_3 (tests.algorithms.subgroup_sets.test_cn2sd.TestCN2SD) ... ok\n",
      "test_CN2SD_fit_method_4 (tests.algorithms.subgroup_sets.test_cn2sd.TestCN2SD) ... ok\n",
      "test_CN2SD_fit_method_5 (tests.algorithms.subgroup_sets.test_cn2sd.TestCN2SD) ... ok\n",
      "test_CN2SD_fit_method_6 (tests.algorithms.subgroup_sets.test_cn2sd.TestCN2SD) ... ok\n",
      "test_CN2SD_obtain_basic_metrics_method_1 (tests.algorithms.subgroup_sets.test_cn2sd.TestCN2SD) ... ok\n",
      "test_CN2SD_obtain_basic_metrics_method_2 (tests.algorithms.subgroup_sets.test_cn2sd.TestCN2SD) ... ok\n",
      "test_CN2SD_obtain_basic_metrics_method_3 (tests.algorithms.subgroup_sets.test_cn2sd.TestCN2SD) ... ok\n",
      "test_CN2SD_obtain_basic_metrics_method_4 (tests.algorithms.subgroup_sets.test_cn2sd.TestCN2SD) ... ok\n",
      "test_CPBSD_checkRel (tests.algorithms.subgroup_sets.test_cpbsd.TestCPBSD) ... ok\n",
      "test_CPBSD_checkRelevancies (tests.algorithms.subgroup_sets.test_cpbsd.TestCPBSD) ... ok\n",
      "test_CPBSD_fit1 (tests.algorithms.subgroup_sets.test_cpbsd.TestCPBSD) ... ok\n",
      "test_CPBSD_fit2 (tests.algorithms.subgroup_sets.test_cpbsd.TestCPBSD) ... ok\n",
      "test_CPBSD_fit3 (tests.algorithms.subgroup_sets.test_cpbsd.TestCPBSD) ... ok\n",
      "test_CPBSD_fit4 (tests.algorithms.subgroup_sets.test_cpbsd.TestCPBSD) ... ok\n",
      "test_CPBSD_init_method (tests.algorithms.subgroup_sets.test_cpbsd.TestCPBSD) ... ok\n",
      "test_QFinder_fit (tests.algorithms.subgroup_sets.test_qfinder.TestQFinder) ... ok\n",
      "test_QFinder_generate_candidate_patterns1 (tests.algorithms.subgroup_sets.test_qfinder.TestQFinder) ... ok\n",
      "test_QFinder_generate_candidate_patterns2 (tests.algorithms.subgroup_sets.test_qfinder.TestQFinder) ... ok\n",
      "test_QFinder_handle_individual_result (tests.algorithms.subgroup_sets.test_qfinder.TestQFinder) ... ok\n",
      "test_QFinder_init_method1 (tests.algorithms.subgroup_sets.test_qfinder.TestQFinder) ... ok\n",
      "test_QFinder_init_method2 (tests.algorithms.subgroup_sets.test_qfinder.TestQFinder) ... ok\n",
      "test_SD_fit_method_1 (tests.algorithms.subgroup_sets.test_sd.TestSD) ... ok\n",
      "test_SD_fit_method_2 (tests.algorithms.subgroup_sets.test_sd.TestSD) ... ok\n",
      "test_SD_fit_method_3 (tests.algorithms.subgroup_sets.test_sd.TestSD) ... ok\n",
      "test_SD_fit_method_4 (tests.algorithms.subgroup_sets.test_sd.TestSD) ... ok\n",
      "test_SD_fit_method_5 (tests.algorithms.subgroup_sets.test_sd.TestSD) ... ok\n",
      "test_SD_fit_method_6 (tests.algorithms.subgroup_sets.test_sd.TestSD) ... ok\n",
      "test_SD_fit_method_7 (tests.algorithms.subgroup_sets.test_sd.TestSD) ... ok\n",
      "test_SD_fit_method_8 (tests.algorithms.subgroup_sets.test_sd.TestSD) ... ok\n",
      "test_SDMap_additional_parameters_in_fit_method (tests.algorithms.subgroup_sets.test_sdmap.TestSDMap) ... ok\n",
      "test_SDMap_fit_method_1 (tests.algorithms.subgroup_sets.test_sdmap.TestSDMap) ... ok\n",
      "test_SDMap_fit_method_10 (tests.algorithms.subgroup_sets.test_sdmap.TestSDMap) ... ok\n",
      "test_SDMap_fit_method_11 (tests.algorithms.subgroup_sets.test_sdmap.TestSDMap) ... ok\n",
      "test_SDMap_fit_method_2 (tests.algorithms.subgroup_sets.test_sdmap.TestSDMap) ... ok\n",
      "test_SDMap_fit_method_3 (tests.algorithms.subgroup_sets.test_sdmap.TestSDMap) ... ok\n",
      "test_SDMap_fit_method_4 (tests.algorithms.subgroup_sets.test_sdmap.TestSDMap) ... ok\n",
      "test_SDMap_fit_method_5 (tests.algorithms.subgroup_sets.test_sdmap.TestSDMap) ... ok\n",
      "test_SDMap_fit_method_6 (tests.algorithms.subgroup_sets.test_sdmap.TestSDMap) ... ok\n",
      "test_SDMap_fit_method_7 (tests.algorithms.subgroup_sets.test_sdmap.TestSDMap) ... ok\n",
      "test_SDMap_fit_method_8 (tests.algorithms.subgroup_sets.test_sdmap.TestSDMap) ... ok\n",
      "test_SDMap_fit_method_9 (tests.algorithms.subgroup_sets.test_sdmap.TestSDMap) ... ok\n",
      "test_SDMap_fpgrowth_method_1 (tests.algorithms.subgroup_sets.test_sdmap.TestSDMap) ... ok\n",
      "test_SDMap_fpgrowth_method_2 (tests.algorithms.subgroup_sets.test_sdmap.TestSDMap) ... ok\n",
      "test_SDMap_fpgrowth_method_3 (tests.algorithms.subgroup_sets.test_sdmap.TestSDMap) ... ok\n",
      "test_SDMap_fpgrowth_method_4 (tests.algorithms.subgroup_sets.test_sdmap.TestSDMap) ... ok\n",
      "test_SDMap_init_method_1 (tests.algorithms.subgroup_sets.test_sdmap.TestSDMap) ... ok\n",
      "test_SDMap_init_method_2 (tests.algorithms.subgroup_sets.test_sdmap.TestSDMap) ... ok\n",
      "test_SDMap_unselected_and_selected_subgroups (tests.algorithms.subgroup_sets.test_sdmap.TestSDMap) ... ok\n",
      "test_SDMapStar_additional_parameters_in_fit_method (tests.algorithms.subgroup_sets.test_sdmapstar.TestSDMapStar) ... ok\n",
      "test_SDMapStar_fit_method_1 (tests.algorithms.subgroup_sets.test_sdmapstar.TestSDMapStar) ... ok\n",
      "test_SDMapStar_fit_method_10 (tests.algorithms.subgroup_sets.test_sdmapstar.TestSDMapStar) ... ok\n",
      "test_SDMapStar_fit_method_2 (tests.algorithms.subgroup_sets.test_sdmapstar.TestSDMapStar) ... ok\n",
      "test_SDMapStar_fit_method_3 (tests.algorithms.subgroup_sets.test_sdmapstar.TestSDMapStar) ... ok\n",
      "test_SDMapStar_fit_method_4 (tests.algorithms.subgroup_sets.test_sdmapstar.TestSDMapStar) ... ok\n",
      "test_SDMapStar_fit_method_5 (tests.algorithms.subgroup_sets.test_sdmapstar.TestSDMapStar) ... ok\n",
      "test_SDMapStar_fit_method_6 (tests.algorithms.subgroup_sets.test_sdmapstar.TestSDMapStar) ... ok\n",
      "test_SDMapStar_fit_method_7 (tests.algorithms.subgroup_sets.test_sdmapstar.TestSDMapStar) ... ok\n",
      "test_SDMapStar_fit_method_8 (tests.algorithms.subgroup_sets.test_sdmapstar.TestSDMapStar) ... ok\n",
      "test_SDMapStar_fit_method_9 (tests.algorithms.subgroup_sets.test_sdmapstar.TestSDMapStar) ... ok\n",
      "test_SDMapStar_fpgrowth_method_1 (tests.algorithms.subgroup_sets.test_sdmapstar.TestSDMapStar) ... ok\n",
      "test_SDMapStar_fpgrowth_method_2 (tests.algorithms.subgroup_sets.test_sdmapstar.TestSDMapStar) ... ok\n",
      "test_SDMapStar_fpgrowth_method_3 (tests.algorithms.subgroup_sets.test_sdmapstar.TestSDMapStar) ... ok\n",
      "test_SDMapStar_fpgrowth_method_4 (tests.algorithms.subgroup_sets.test_sdmapstar.TestSDMapStar) ... ok\n",
      "test_SDMapStar_init_method_1 (tests.algorithms.subgroup_sets.test_sdmapstar.TestSDMapStar) ... ok\n",
      "test_SDMapStar_init_method_2 (tests.algorithms.subgroup_sets.test_sdmapstar.TestSDMapStar) ... ok\n",
      "test_SDMapStar_unselected_and_selected_subgroups_1 (tests.algorithms.subgroup_sets.test_sdmapstar.TestSDMapStar) ... ok\n",
      "test_SDMapStar_unselected_and_selected_subgroups_2 (tests.algorithms.subgroup_sets.test_sdmapstar.TestSDMapStar) ... ok\n",
      "test_VLSD_additional_parameters_in_fit_method (tests.algorithms.subgroup_sets.test_vlsd.TestVLSD) ... ok\n",
      "test_VLSD_fit_method_1 (tests.algorithms.subgroup_sets.test_vlsd.TestVLSD) ... ok\n",
      "test_VLSD_fit_method_2 (tests.algorithms.subgroup_sets.test_vlsd.TestVLSD) ... ok\n",
      "test_VLSD_fit_method_3 (tests.algorithms.subgroup_sets.test_vlsd.TestVLSD) ... ok\n",
      "test_VLSD_fit_method_4 (tests.algorithms.subgroup_sets.test_vlsd.TestVLSD) ... ok\n",
      "test_VLSD_fit_method_5 (tests.algorithms.subgroup_sets.test_vlsd.TestVLSD) ... ok\n",
      "test_VLSD_fit_method_6 (tests.algorithms.subgroup_sets.test_vlsd.TestVLSD) ... ok\n",
      "test_VLSD_fit_method_7 (tests.algorithms.subgroup_sets.test_vlsd.TestVLSD) ... ok\n",
      "test_VLSD_init_method_1 (tests.algorithms.subgroup_sets.test_vlsd.TestVLSD) ... ok\n",
      "test_VLSD_init_method_2 (tests.algorithms.subgroup_sets.test_vlsd.TestVLSD) ... ok\n",
      "\n",
      "----------------------------------------------------------------------\n",
      "Ran 109 tests in 20.735s\n",
      "\n",
      "OK\n",
      "test_dataframe_filters_general (tests.utils.test_dataframe_filters.TestDataFrameFilter) ... "
     ]
    },
    {
     "name": "stdout",
     "output_type": "stream",
     "text": [
      "\n",
      "\n",
      "###################################\n",
      "########## UTILS PACKAGE ##########\n",
      "###################################\n"
     ]
    },
    {
     "name": "stderr",
     "output_type": "stream",
     "text": [
      "ok\n",
      "\n",
      "----------------------------------------------------------------------\n",
      "Ran 1 test in 0.007s\n",
      "\n",
      "OK\n"
     ]
    }
   ],
   "source": [
    "import subgroups.tests as st\n",
    "st.run_all_tests()"
   ]
  },
  {
   "cell_type": "markdown",
   "metadata": {
    "id": "B0meDrcadgZx"
   },
   "source": [
    "## Running the algorithm\n",
    "\n",
    "To run the CN2SD algorithm on a dataset, the following steps are necessary:\n",
    "\n",
    "- Load the dataset into a Pandas `DataFrame` object and the target (column).\n",
    "- Create the CN2SD model with the desired parameters and run it.\n",
    "\n",
    "Below is an example of running this algorithm on a small dataset:\n"
   ]
  },
  {
   "cell_type": "code",
   "execution_count": 3,
   "metadata": {
    "id": "aEFD5PtmeOD6"
   },
   "outputs": [
    {
     "ename": "ImportError",
     "evalue": "cannot import name 'CN2SD' from 'subgroups.algorithms' (C:\\Users\\anlopezmc\\anaconda3\\lib\\site-packages\\subgroups\\algorithms\\__init__.py)",
     "output_type": "error",
     "traceback": [
      "\u001b[1;31m---------------------------------------------------------------------------\u001b[0m",
      "\u001b[1;31mImportError\u001b[0m                               Traceback (most recent call last)",
      "\u001b[1;32mC:\\Users\\ANLOPE~1\\AppData\\Local\\Temp/ipykernel_5016/4262847645.py\u001b[0m in \u001b[0;36m<module>\u001b[1;34m\u001b[0m\n\u001b[0;32m      1\u001b[0m \u001b[1;32mfrom\u001b[0m \u001b[0mpandas\u001b[0m \u001b[1;32mimport\u001b[0m \u001b[0mDataFrame\u001b[0m\u001b[1;33m\u001b[0m\u001b[1;33m\u001b[0m\u001b[0m\n\u001b[1;32m----> 2\u001b[1;33m \u001b[1;32mfrom\u001b[0m \u001b[0msubgroups\u001b[0m\u001b[1;33m.\u001b[0m\u001b[0malgorithms\u001b[0m \u001b[1;32mimport\u001b[0m \u001b[0mCN2SD\u001b[0m\u001b[1;33m\u001b[0m\u001b[1;33m\u001b[0m\u001b[0m\n\u001b[0m\u001b[0;32m      3\u001b[0m \u001b[1;33m\u001b[0m\u001b[0m\n\u001b[0;32m      4\u001b[0m \u001b[0minput_dataframe\u001b[0m \u001b[1;33m=\u001b[0m \u001b[0mDataFrame\u001b[0m\u001b[1;33m(\u001b[0m\u001b[1;33m{\u001b[0m\u001b[1;34m'bread'\u001b[0m\u001b[1;33m:\u001b[0m \u001b[1;33m[\u001b[0m\u001b[1;34m'yes'\u001b[0m\u001b[1;33m,\u001b[0m \u001b[1;34m'yes'\u001b[0m\u001b[1;33m,\u001b[0m \u001b[1;34m'no'\u001b[0m\u001b[1;33m,\u001b[0m \u001b[1;34m'yes'\u001b[0m\u001b[1;33m,\u001b[0m \u001b[1;34m'yes'\u001b[0m\u001b[1;33m,\u001b[0m \u001b[1;34m'yes'\u001b[0m\u001b[1;33m,\u001b[0m \u001b[1;34m'yes'\u001b[0m\u001b[1;33m]\u001b[0m\u001b[1;33m,\u001b[0m \u001b[1;34m'milk'\u001b[0m\u001b[1;33m:\u001b[0m \u001b[1;33m[\u001b[0m\u001b[1;34m'yes'\u001b[0m\u001b[1;33m,\u001b[0m \u001b[1;34m'no'\u001b[0m\u001b[1;33m,\u001b[0m \u001b[1;34m'yes'\u001b[0m\u001b[1;33m,\u001b[0m \u001b[1;34m'yes'\u001b[0m\u001b[1;33m,\u001b[0m \u001b[1;34m'yes'\u001b[0m\u001b[1;33m,\u001b[0m \u001b[1;34m'yes'\u001b[0m\u001b[1;33m,\u001b[0m \u001b[1;34m'yes'\u001b[0m\u001b[1;33m]\u001b[0m\u001b[1;33m,\u001b[0m \u001b[1;34m'beer'\u001b[0m\u001b[1;33m:\u001b[0m \u001b[1;33m[\u001b[0m\u001b[1;34m'no'\u001b[0m\u001b[1;33m,\u001b[0m \u001b[1;34m'yes'\u001b[0m\u001b[1;33m,\u001b[0m \u001b[1;34m'yes'\u001b[0m\u001b[1;33m,\u001b[0m \u001b[1;34m'yes'\u001b[0m\u001b[1;33m,\u001b[0m \u001b[1;34m'no'\u001b[0m \u001b[1;33m,\u001b[0m\u001b[1;34m'yes'\u001b[0m \u001b[1;33m,\u001b[0m\u001b[1;34m'no'\u001b[0m\u001b[1;33m]\u001b[0m\u001b[1;33m,\u001b[0m \u001b[1;34m'coke'\u001b[0m\u001b[1;33m:\u001b[0m \u001b[1;33m[\u001b[0m\u001b[1;34m'no'\u001b[0m\u001b[1;33m,\u001b[0m \u001b[1;34m'no'\u001b[0m\u001b[1;33m,\u001b[0m \u001b[1;34m'yes'\u001b[0m\u001b[1;33m,\u001b[0m \u001b[1;34m'no'\u001b[0m\u001b[1;33m,\u001b[0m \u001b[1;34m'yes'\u001b[0m\u001b[1;33m,\u001b[0m \u001b[1;34m'no'\u001b[0m\u001b[1;33m,\u001b[0m \u001b[1;34m'yes'\u001b[0m\u001b[1;33m]\u001b[0m\u001b[1;33m,\u001b[0m \u001b[1;34m'diaper'\u001b[0m \u001b[1;33m:\u001b[0m \u001b[1;33m[\u001b[0m\u001b[1;34m'no'\u001b[0m\u001b[1;33m,\u001b[0m \u001b[1;34m'yes'\u001b[0m\u001b[1;33m,\u001b[0m \u001b[1;34m'yes'\u001b[0m\u001b[1;33m,\u001b[0m \u001b[1;34m'yes'\u001b[0m\u001b[1;33m,\u001b[0m \u001b[1;34m'yes'\u001b[0m\u001b[1;33m,\u001b[0m \u001b[1;34m'yes'\u001b[0m\u001b[1;33m,\u001b[0m\u001b[1;34m'yes'\u001b[0m\u001b[1;33m]\u001b[0m\u001b[1;33m}\u001b[0m\u001b[1;33m)\u001b[0m\u001b[1;33m\u001b[0m\u001b[1;33m\u001b[0m\u001b[0m\n\u001b[0;32m      5\u001b[0m \u001b[0mtarget\u001b[0m \u001b[1;33m=\u001b[0m \u001b[1;33m(\u001b[0m\u001b[1;34m\"diaper\"\u001b[0m\u001b[1;33m)\u001b[0m\u001b[1;33m\u001b[0m\u001b[1;33m\u001b[0m\u001b[0m\n",
      "\u001b[1;31mImportError\u001b[0m: cannot import name 'CN2SD' from 'subgroups.algorithms' (C:\\Users\\anlopezmc\\anaconda3\\lib\\site-packages\\subgroups\\algorithms\\__init__.py)"
     ]
    }
   ],
   "source": [
    "from pandas import DataFrame\n",
    "from subgroups.algorithms import CN2SD\n",
    "\n",
    "input_dataframe = DataFrame({'bread': ['yes', 'yes', 'no', 'yes', 'yes', 'yes', 'yes'], 'milk': ['yes', 'no', 'yes', 'yes', 'yes', 'yes', 'yes'], 'beer': ['no', 'yes', 'yes', 'yes', 'no' ,'yes' ,'no'], 'coke': ['no', 'no', 'yes', 'no', 'yes', 'no', 'yes'], 'diaper' : ['no', 'yes', 'yes', 'yes', 'yes', 'yes','yes']})\n",
    "target = (\"diaper\")\n",
    "\n",
    "model = CN2SD(beam_width = 2, weighting_scheme = 'aditive', write_results_in_file=True, file_path=\"./results.txt\")\n",
    "binary_attributes = [\"bread\", \"milk\", \"beer\", \"coke\", \"diaper\"]\n",
    "result = model.fit(input_dataframe, target, binary_attributes)"
   ]
  },
  {
   "cell_type": "markdown",
   "metadata": {},
   "source": [
    "## Results\n",
    "\n",
    "Running the following cell, we get the output of the first subgroups found by the algorithm:"
   ]
  },
  {
   "cell_type": "code",
   "execution_count": null,
   "metadata": {},
   "outputs": [],
   "source": [
    "subgroups_to_read = 10\n",
    "with open(\"./results.txt\", \"r\") as file:\n",
    "    while(subgroups_to_read > 0):\n",
    "        current_line = file.readline()\n",
    "        print(current_line.strip())\n",
    "        subgroups_to_read = subgroups_to_read - 1"
   ]
  },
  {
   "cell_type": "markdown",
   "metadata": {
    "id": "crSId3K5v_Oz"
   },
   "source": [
    "Each of these lines represents a subgroup discovered by the algorithm. Taking the first result as an example, we have the following characteristics:\n",
    "- The subgroup is described by the condition `[beer = 'no', coke = 'no']`.\n",
    "- The target is the one we defined in the first place, i.e., `diaper`.\n",
    "- The quality of the subgroup is measured with the WRAcc measure, which has a value of 0.122...\n",
    "- The values of tp, fp, TP, and FP are as follows: tp = 1 ; fp = 0 ; TP = 1 ; FP = 6.\n",
    "\n",
    "These results have been verified in the output file of the execution of the CN2SD algorithm on a toy dataset.\n",
    "\n",
    "We can also access different statistics about the result:\n"
   ]
  },
  {
   "cell_type": "code",
   "execution_count": null,
   "metadata": {
    "id": "LTsqHtshwnfo"
   },
   "outputs": [],
   "source": [
    "print(model.selected_subgroups) # Number of selected subgroups\n",
    "print(model.unselected_subgroups) # # Number of unselected subgroups\n",
    "print(model.visited_nodes) # # Number of generated subgroups"
   ]
  },
  {
   "cell_type": "code",
   "execution_count": null,
   "metadata": {},
   "outputs": [],
   "source": []
  },
  {
   "cell_type": "markdown",
   "metadata": {},
   "source": [
    "```\n",
    "Description: [beer = 'no', coke = 'no'], Target: diaper = 'no' ; Quality Measure WRACC = 0.12244897959183673 ; tp = 1 ; fp = 0 ; TP = 1 ; FP = 6\n",
    "Description: [beer = 'no', coke = 'no'], Target: diaper = 'no' ; Quality Measure WRACC = 0.12244897959183673 ; tp = 1 ; fp = 0 ; TP = 1 ; FP = 6\n",
    "Description: [beer = 'no'], Target: diaper = 'no' ; Quality Measure WRACC = 0.04733727810650888 ; tp = 0.5 ; fp = 2 ; TP = 0.5 ; FP = 6\n",
    ".\n",
    ".\n",
    ".\n",
    "Description: [coke = 'yes'], Target: diaper = 'yes' ; Quality Measure WRACC = 0.16000000000000003 ; tp = 0.25 ; fp = 0 ; TP = 0.25 ; FP = 1\n",
    "Description: [coke = 'yes'], Target: diaper = 'yes' ; Quality Measure WRACC = 0.16000000000000003 ; tp = 0.25 ; fp = 0 ; TP = 0.25 ; FP = 1\n",
    "Description: [coke = 'yes'], Target: diaper = 'yes' ; Quality Measure WRACC = 0.1487603305785124 ; tp = 0.2222222222222222 ; fp = 0 ; TP = 0.2222222222222222 ; FP = 1\n",
    "Description: [coke = 'yes'], Target: diaper = 'yes' ; Quality Measure WRACC = 0.1487603305785124 ; tp = 0.2222222222222222 ; fp = 0 ; TP = 0.2222222222222222 ; FP = 1\n",
    "Description: [coke = 'yes'], Target: diaper = 'yes' ; Quality Measure WRACC = 0.1487603305785124 ; tp = 0.2222222222222222 ; fp =\n",
    "```"
   ]
  },
  {
   "cell_type": "code",
   "execution_count": null,
   "metadata": {},
   "outputs": [],
   "source": []
  },
  {
   "cell_type": "markdown",
   "metadata": {
    "id": "gsZtosg001hM"
   },
   "source": [
    "## References\n",
    "<a id=\"1\">[1]</a>\n",
    "Clark, Peter & Niblett, Tim. (2000). Induction in Noisy Domains."
   ]
  }
 ],
 "metadata": {
  "colab": {
   "provenance": []
  },
  "kernelspec": {
   "display_name": "Python 3 (ipykernel)",
   "language": "python",
   "name": "python3"
  },
  "language_info": {
   "codemirror_mode": {
    "name": "ipython",
    "version": 3
   },
   "file_extension": ".py",
   "mimetype": "text/x-python",
   "name": "python",
   "nbconvert_exporter": "python",
   "pygments_lexer": "ipython3",
   "version": "3.9.7"
  }
 },
 "nbformat": 4,
 "nbformat_minor": 1
}
