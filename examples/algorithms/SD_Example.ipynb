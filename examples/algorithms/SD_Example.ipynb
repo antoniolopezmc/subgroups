{
  "nbformat": 4,
  "nbformat_minor": 0,
  "metadata": {
    "colab": {
      "provenance": []
    },
    "kernelspec": {
      "name": "python3",
      "display_name": "Python 3"
    },
    "language_info": {
      "name": "python"
    }
  },
  "cells": [
    {
      "cell_type": "markdown",
      "source": [
        "# SD usage example\n",
        "\n",
        "## About this document\n",
        "\n",
        "The purpose of this document is to show an example of how to use the SD algorithm.\n",
        "\n",
        "In the following section, a detailed introduction of the SD algorithm will be given, followed by instructions to install the `subgroups` library in this environment. Then, the process of executing the algorithm will be described, including the necessary to consider.\n",
        "\n",
        "Finally, the results obtained from the application of the SD algorithm will be presented, highlighting the information obtained in the output file and the information that can be found by accessing the properties of the model.\n",
        "\n",
        "## The SD algorithm\n",
        "\n",
        "The SD algorithm is a subgroup discovery algorithm based on a rule induction system.\n",
        "The subgroups must satisfy the criteria of the Support quality measure. The algorithm keeps the best subgroup descriptions in a fixed-width beam and at each iteration a conjunction is added to each subgroup description in the beam, replacing it with the worst subgroup in the beam if it is better than it.\n",
        "\n",
        "The quality measure Qg is used to evaluate the quality of the subgroups. Subgroups considered to be of high quality should comprise as many examples with target value and as few examples without target value as possible.\n",
        "\n",
        "\n",
        "The SD algorithm is defined as follow [[1]](#1):\n",
        "\n",
        "[![SD](https://ibb.co/CvPQZnV)](https://ibb.co/CvPQZnV)\n",
        "\n"
      ],
      "metadata": {
        "id": "v0Az1SPv4WDy"
      }
    },
    {
      "cell_type": "markdown",
      "source": [
        "## Installing the `subgroups` library\n",
        "\n",
        "To install the `subgroups` library in this environment, simply execute the following cell:"
      ],
      "metadata": {
        "id": "ZLUujzagAAqT"
      }
    },
    {
      "cell_type": "code",
      "source": [
        "!pip install subgroups --no-cache-dir"
      ],
      "metadata": {
        "colab": {
          "base_uri": "https://localhost:8080/"
        },
        "id": "IK957_wA_sMi",
        "outputId": "6d51df31-2555-436b-c93c-1eac11167f5d"
      },
      "execution_count": null,
      "outputs": [
        {
          "output_type": "stream",
          "name": "stdout",
          "text": [
            "Collecting subgroups\n",
            "  Downloading subgroups-0.0.10-py3-none-any.whl (116 kB)\n",
            "\u001b[?25l     \u001b[90m━━━━━━━━━━━━━━━━━━━━━━━━━━━━━━━━━━━━━━━━\u001b[0m \u001b[32m0.0/116.7 kB\u001b[0m \u001b[31m?\u001b[0m eta \u001b[36m-:--:--\u001b[0m\r\u001b[2K     \u001b[90m━━━━━━━━━━━━━━━━━━━━━━━━━━━━━━━━━━━━━━\u001b[0m \u001b[32m116.7/116.7 kB\u001b[0m \u001b[31m35.8 MB/s\u001b[0m eta \u001b[36m0:00:00\u001b[0m\n",
            "\u001b[?25hRequirement already satisfied: pandas>=1.3.4 in /usr/local/lib/python3.10/dist-packages (from subgroups) (1.5.3)\n",
            "Collecting bitarray>=2.3.0 (from subgroups)\n",
            "  Downloading bitarray-2.7.6-cp310-cp310-manylinux_2_17_x86_64.manylinux2014_x86_64.whl (273 kB)\n",
            "\u001b[2K     \u001b[90m━━━━━━━━━━━━━━━━━━━━━━━━━━━━━━━━━━━━━\u001b[0m \u001b[32m273.6/273.6 kB\u001b[0m \u001b[31m310.5 MB/s\u001b[0m eta \u001b[36m0:00:00\u001b[0m\n",
            "\u001b[?25hRequirement already satisfied: python-dateutil>=2.8.1 in /usr/local/lib/python3.10/dist-packages (from pandas>=1.3.4->subgroups) (2.8.2)\n",
            "Requirement already satisfied: pytz>=2020.1 in /usr/local/lib/python3.10/dist-packages (from pandas>=1.3.4->subgroups) (2022.7.1)\n",
            "Requirement already satisfied: numpy>=1.21.0 in /usr/local/lib/python3.10/dist-packages (from pandas>=1.3.4->subgroups) (1.22.4)\n",
            "Requirement already satisfied: six>=1.5 in /usr/local/lib/python3.10/dist-packages (from python-dateutil>=2.8.1->pandas>=1.3.4->subgroups) (1.16.0)\n",
            "Installing collected packages: bitarray, subgroups\n",
            "Successfully installed bitarray-2.7.6 subgroups-0.0.10\n"
          ]
        }
      ]
    },
    {
      "cell_type": "markdown",
      "source": [
        "To verify that the installation was successful, you can run the following cell:\n"
      ],
      "metadata": {
        "id": "aVE9whia__1k"
      }
    },
    {
      "cell_type": "code",
      "source": [
        "import subgroups.tests as st\n",
        "st.run_all_tests()"
      ],
      "metadata": {
        "colab": {
          "base_uri": "https://localhost:8080/"
        },
        "id": "gp5wxt3OA4s7",
        "outputId": "8abc79aa-805c-49a6-e2c4-fd81afcb69a7"
      },
      "execution_count": null,
      "outputs": [
        {
          "output_type": "stream",
          "name": "stderr",
          "text": [
            "test_Operator_evaluate_method (tests.core.test_operator.TestOperator) ... ok\n",
            "test_Operator_evaluate_method_with_pandasSeries (tests.core.test_operator.TestOperator) ... ok\n",
            "test_Operator_generate_from_str_method (tests.core.test_operator.TestOperator) ... ok\n",
            "test_Operator_string_representation (tests.core.test_operator.TestOperator) ... ok\n",
            "test_Pattern_general (tests.core.test_pattern.TestPattern) ... ok\n",
            "test_Pattern_is_contained_method (tests.core.test_pattern.TestPattern) ... ok\n",
            "test_Pattern_is_refinement_method (tests.core.test_pattern.TestPattern) ... ok\n",
            "test_Selector_attributes (tests.core.test_selector.TestSelector) ... ok\n",
            "test_Selector_comparisons (tests.core.test_selector.TestSelector) ... ok\n",
            "test_Selector_creation_process (tests.core.test_selector.TestSelector) ... ok\n",
            "test_Selector_deletion_process (tests.core.test_selector.TestSelector) ... ok\n",
            "test_Selector_generate_from_str_method (tests.core.test_selector.TestSelector) ... ok\n",
            "test_Selector_match_method (tests.core.test_selector.TestSelector) ... ok\n",
            "test_Selector_same_value_different_type (tests.core.test_selector.TestSelector) ... ok\n",
            "test_Subgroup_filter (tests.core.test_subgroup.TestSubgroup) ... ok\n",
            "test_Subgroup_general (tests.core.test_subgroup.TestSubgroup) ... ok\n",
            "test_Subgroup_is_refinement_method (tests.core.test_subgroup.TestSubgroup) ... ok\n",
            "\n",
            "----------------------------------------------------------------------\n",
            "Ran 17 tests in 0.111s\n",
            "\n",
            "OK\n",
            "test_quality_measures_compute (tests.quality_measures.test_quality_measures.TestQualityMeasures) ... ok\n",
            "test_quality_measures_general (tests.quality_measures.test_quality_measures.TestQualityMeasures) ... ok\n",
            "test_quality_measures_value_of_class_variables (tests.quality_measures.test_quality_measures.TestQualityMeasures) ... ok\n",
            "\n",
            "----------------------------------------------------------------------\n",
            "Ran 3 tests in 0.012s\n",
            "\n",
            "OK\n",
            "test_FPTreeForSDMap_build_tree_1 (tests.data_structures.test_fp_tree_for_sdmap.TestFPTreeForSDMap) ... "
          ]
        },
        {
          "output_type": "stream",
          "name": "stdout",
          "text": [
            "\n",
            "\n",
            "##################################\n",
            "########## CORE PACKAGE ##########\n",
            "##################################\n",
            "\n",
            "\n",
            "##############################################\n",
            "########## QUALITY MEASURES PACKAGE ##########\n",
            "##############################################\n",
            "\n",
            "\n",
            "#############################################\n",
            "########## DATA STRUCTURES PACKAGE ##########\n",
            "#############################################\n"
          ]
        },
        {
          "output_type": "stream",
          "name": "stderr",
          "text": [
            "ok\n",
            "test_FPTreeForSDMap_build_tree_2 (tests.data_structures.test_fp_tree_for_sdmap.TestFPTreeForSDMap) ... ok\n",
            "test_FPTreeForSDMap_build_tree_3 (tests.data_structures.test_fp_tree_for_sdmap.TestFPTreeForSDMap) ... ok\n",
            "test_FPTreeForSDMap_build_tree_4 (tests.data_structures.test_fp_tree_for_sdmap.TestFPTreeForSDMap) ... ok\n",
            "test_FPTreeForSDMap_generate_conditional_fp_tree_1 (tests.data_structures.test_fp_tree_for_sdmap.TestFPTreeForSDMap) ... ok\n",
            "test_FPTreeForSDMap_generate_conditional_fp_tree_2 (tests.data_structures.test_fp_tree_for_sdmap.TestFPTreeForSDMap) ... ok\n",
            "test_FPTreeForSDMap_generate_set_of_frequent_selectors_1 (tests.data_structures.test_fp_tree_for_sdmap.TestFPTreeForSDMap) ... ok\n",
            "test_FPTreeForSDMap_generate_set_of_frequent_selectors_2 (tests.data_structures.test_fp_tree_for_sdmap.TestFPTreeForSDMap) ... ok\n",
            "test_FPTreeForSDMap_generate_set_of_frequent_selectors_3 (tests.data_structures.test_fp_tree_for_sdmap.TestFPTreeForSDMap) ... ok\n",
            "test_FPTreeNode_general (tests.data_structures.test_fp_tree_node.TestFPTreeNode) ... ok\n",
            "test_subgroup_list_1 (tests.data_structures.test_subgroup_list.TestSubgroupList) ... ok\n",
            "test_subgroup_list_2 (tests.data_structures.test_subgroup_list.TestSubgroupList) ... ok\n",
            "test_subgroup_list_3 (tests.data_structures.test_subgroup_list.TestSubgroupList) ... ok\n",
            "test_subgroup_list_4 (tests.data_structures.test_subgroup_list.TestSubgroupList) ... ok\n",
            "test_vertical_list_1 (tests.data_structures.test_vertical_list_with_bitsets.TestVerticalListWithBitsets) ... ok\n",
            "test_vertical_list_2 (tests.data_structures.test_vertical_list_with_bitsets.TestVerticalListWithBitsets) ... ok\n",
            "test_vertical_list_3 (tests.data_structures.test_vertical_list_with_bitsets.TestVerticalListWithBitsets) ... ok\n",
            "test_vertical_list_str_method (tests.data_structures.test_vertical_list_with_bitsets.TestVerticalListWithBitsets) ... ok\n",
            "test_vertical_list_1 (tests.data_structures.test_vertical_list_with_sets.TestVerticalListWithSets) ... ok\n",
            "test_vertical_list_2 (tests.data_structures.test_vertical_list_with_sets.TestVerticalListWithSets) ... ok\n",
            "test_vertical_list_3 (tests.data_structures.test_vertical_list_with_sets.TestVerticalListWithSets) ... ok\n",
            "test_vertical_list_str_method (tests.data_structures.test_vertical_list_with_sets.TestVerticalListWithSets) ... ok\n",
            "\n",
            "----------------------------------------------------------------------\n",
            "Ran 22 tests in 0.355s\n",
            "\n",
            "OK\n",
            "test_SDMap_additional_parameters_in_fit_method (tests.algorithms.individual_subgroups.nominal_target.test_sdmap.TestSDMap) ... ok\n",
            "test_SDMap_fit_method_1 (tests.algorithms.individual_subgroups.nominal_target.test_sdmap.TestSDMap) ... ok\n",
            "test_SDMap_fit_method_10 (tests.algorithms.individual_subgroups.nominal_target.test_sdmap.TestSDMap) ... ok\n",
            "test_SDMap_fit_method_11 (tests.algorithms.individual_subgroups.nominal_target.test_sdmap.TestSDMap) ... ok\n",
            "test_SDMap_fit_method_2 (tests.algorithms.individual_subgroups.nominal_target.test_sdmap.TestSDMap) ... ok\n",
            "test_SDMap_fit_method_3 (tests.algorithms.individual_subgroups.nominal_target.test_sdmap.TestSDMap) ... ok\n",
            "test_SDMap_fit_method_4 (tests.algorithms.individual_subgroups.nominal_target.test_sdmap.TestSDMap) ... ok\n",
            "test_SDMap_fit_method_5 (tests.algorithms.individual_subgroups.nominal_target.test_sdmap.TestSDMap) ... ok\n",
            "test_SDMap_fit_method_6 (tests.algorithms.individual_subgroups.nominal_target.test_sdmap.TestSDMap) ... ok\n",
            "test_SDMap_fit_method_7 (tests.algorithms.individual_subgroups.nominal_target.test_sdmap.TestSDMap) ... ok\n",
            "test_SDMap_fit_method_8 (tests.algorithms.individual_subgroups.nominal_target.test_sdmap.TestSDMap) ... ok\n",
            "test_SDMap_fit_method_9 (tests.algorithms.individual_subgroups.nominal_target.test_sdmap.TestSDMap) ... ok\n",
            "test_SDMap_fpgrowth_method_1 (tests.algorithms.individual_subgroups.nominal_target.test_sdmap.TestSDMap) ... "
          ]
        },
        {
          "output_type": "stream",
          "name": "stdout",
          "text": [
            "\n",
            "\n",
            "########################################\n",
            "########## ALGORITHMS PACKAGE ##########\n",
            "########################################\n"
          ]
        },
        {
          "output_type": "stream",
          "name": "stderr",
          "text": [
            "ok\n",
            "test_SDMap_fpgrowth_method_2 (tests.algorithms.individual_subgroups.nominal_target.test_sdmap.TestSDMap) ... ok\n",
            "test_SDMap_fpgrowth_method_3 (tests.algorithms.individual_subgroups.nominal_target.test_sdmap.TestSDMap) ... ok\n",
            "test_SDMap_fpgrowth_method_4 (tests.algorithms.individual_subgroups.nominal_target.test_sdmap.TestSDMap) ... ok\n",
            "test_SDMap_init_method_1 (tests.algorithms.individual_subgroups.nominal_target.test_sdmap.TestSDMap) ... ok\n",
            "test_SDMap_init_method_2 (tests.algorithms.individual_subgroups.nominal_target.test_sdmap.TestSDMap) ... ok\n",
            "test_SDMap_unselected_and_selected_subgroups (tests.algorithms.individual_subgroups.nominal_target.test_sdmap.TestSDMap) ... ok\n",
            "test_VLSD_additional_parameters_in_fit_method (tests.algorithms.individual_subgroups.nominal_target.test_vlsd.TestVLSD) ... ok\n",
            "test_VLSD_fit_method_1 (tests.algorithms.individual_subgroups.nominal_target.test_vlsd.TestVLSD) ... ok\n",
            "test_VLSD_fit_method_2 (tests.algorithms.individual_subgroups.nominal_target.test_vlsd.TestVLSD) ... ok\n",
            "test_VLSD_fit_method_3 (tests.algorithms.individual_subgroups.nominal_target.test_vlsd.TestVLSD) ... ok\n",
            "test_VLSD_fit_method_4 (tests.algorithms.individual_subgroups.nominal_target.test_vlsd.TestVLSD) ... ok\n",
            "test_VLSD_fit_method_5 (tests.algorithms.individual_subgroups.nominal_target.test_vlsd.TestVLSD) ... ok\n",
            "test_VLSD_fit_method_6 (tests.algorithms.individual_subgroups.nominal_target.test_vlsd.TestVLSD) ... ok\n",
            "test_VLSD_fit_method_7 (tests.algorithms.individual_subgroups.nominal_target.test_vlsd.TestVLSD) ... ok\n",
            "test_VLSD_init_method_1 (tests.algorithms.individual_subgroups.nominal_target.test_vlsd.TestVLSD) ... ok\n",
            "test_VLSD_init_method_2 (tests.algorithms.individual_subgroups.nominal_target.test_vlsd.TestVLSD) ... ok\n",
            "test_DSLM_compute_overlap_factor_function_1 (tests.algorithms.subgroup_lists.nominal_target.test_dslm.TestDSLM) ... ok\n",
            "test_DSLM_compute_overlap_factor_function_2 (tests.algorithms.subgroup_lists.nominal_target.test_dslm.TestDSLM) ... ok\n",
            "test_DSLM_compute_overlap_factor_function_3 (tests.algorithms.subgroup_lists.nominal_target.test_dslm.TestDSLM) ... ok\n",
            "test_DSLM_counter_of_subgroups_1 (tests.algorithms.subgroup_lists.nominal_target.test_dslm.TestDSLM) ... ok\n",
            "test_DSLM_counter_of_subgroups_2 (tests.algorithms.subgroup_lists.nominal_target.test_dslm.TestDSLM) ... ok\n",
            "test_GMSL_fit_method_1 (tests.algorithms.subgroup_lists.nominal_target.test_gmsl.TestGMSL) ... ok\n",
            "test_GMSL_load_candidates_method_1 (tests.algorithms.subgroup_lists.nominal_target.test_gmsl.TestGMSL) ... ok\n",
            "test_GMSL_load_candidates_method_2 (tests.algorithms.subgroup_lists.nominal_target.test_gmsl.TestGMSL) ... ok\n",
            "test_GMSL_load_candidates_method_3 (tests.algorithms.subgroup_lists.nominal_target.test_gmsl.TestGMSL) ... ok\n",
            "test_GMSL_load_candidates_method_4 (tests.algorithms.subgroup_lists.nominal_target.test_gmsl.TestGMSL) ... ok\n",
            "test_GMSL_load_candidates_method_5 (tests.algorithms.subgroup_lists.nominal_target.test_gmsl.TestGMSL) ... ok\n",
            "test_GMSL_mdl_functions_1 (tests.algorithms.subgroup_lists.nominal_target.test_gmsl.TestGMSL) ... ok\n",
            "test_GMSL_mdl_functions_2 (tests.algorithms.subgroup_lists.nominal_target.test_gmsl.TestGMSL) ... ok\n",
            "test_GMSL_mdl_functions_3 (tests.algorithms.subgroup_lists.nominal_target.test_gmsl.TestGMSL) ... ok\n",
            "\n",
            "----------------------------------------------------------------------\n",
            "Ran 43 tests in 0.837s\n",
            "\n",
            "OK\n",
            "test_dataframe_filters_general (tests.utils.test_dataframe_filters.TestDataFrameFilter) ... ok\n",
            "\n",
            "----------------------------------------------------------------------\n",
            "Ran 1 test in 0.018s\n",
            "\n",
            "OK\n"
          ]
        },
        {
          "output_type": "stream",
          "name": "stdout",
          "text": [
            "\n",
            "\n",
            "###################################\n",
            "########## UTILS PACKAGE ##########\n",
            "###################################\n"
          ]
        }
      ]
    },
    {
      "cell_type": "markdown",
      "source": [
        "## Running the algorithm\n",
        "\n",
        "To run the SD algorithm on a dataset, the following steps are necessary:\n",
        "\n",
        "- Load the dataset into a Pandas `DataFrame` object and the target (column, value).\n",
        "- Create the SD model with the desired parameters and run it.\n",
        "\n",
        "Below is an example of running this algorithm on a small dataset:"
      ],
      "metadata": {
        "id": "w4xX8b2fBE8f"
      }
    },
    {
      "cell_type": "code",
      "source": [
        "\n",
        "from pandas import DataFrame\n",
        "from subgroups.algorithms.individual_subgroups.nominal_target.sd import SD\n",
        "\n",
        "input_dataframe = DataFrame({'bread': ['yes', 'yes', 'no', 'yes', 'yes', 'yes', 'yes'], 'milk': ['yes', 'no', 'yes', 'yes', 'yes', 'yes', 'yes'], 'beer': ['no', 'yes', 'yes', 'yes', 'no' ,'yes' ,'no'], 'coke': ['no', 'no', 'yes', 'no', 'yes', 'no', 'yes'], 'diaper' : ['no', 'yes', 'yes', 'yes', 'yes', 'yes','yes']})\n",
        "target = (\"diaper\", \"yes\")\n",
        "model = SD(minimum_quality_measure_value= 0.57, g_parameter= 1,beam_width = 2, write_results_in_file=True, file_path=\"./results.txt\")\n",
        "binary_attributes = [\"bread\", \"milk\", \"beer\", \"coke\", \"diaper\"]\n",
        "result = model.fit(input_dataframe, target, binary_attributes)\n"
      ],
      "metadata": {
        "colab": {
          "base_uri": "https://localhost:8080/",
          "height": 428
        },
        "id": "1Nqu4fiWKtXY",
        "outputId": "054d0844-1287-4654-cb8f-f03d2c0ca7c8"
      },
      "execution_count": null,
      "outputs": [
        {
          "output_type": "error",
          "ename": "ModuleNotFoundError",
          "evalue": "ignored",
          "traceback": [
            "\u001b[0;31m---------------------------------------------------------------------------\u001b[0m",
            "\u001b[0;31mModuleNotFoundError\u001b[0m                       Traceback (most recent call last)",
            "\u001b[0;32m<ipython-input-4-ab26a18602bb>\u001b[0m in \u001b[0;36m<cell line: 2>\u001b[0;34m()\u001b[0m\n\u001b[1;32m      1\u001b[0m \u001b[0;32mfrom\u001b[0m \u001b[0mpandas\u001b[0m \u001b[0;32mimport\u001b[0m \u001b[0mDataFrame\u001b[0m\u001b[0;34m\u001b[0m\u001b[0;34m\u001b[0m\u001b[0m\n\u001b[0;32m----> 2\u001b[0;31m \u001b[0;32mfrom\u001b[0m \u001b[0msubgroups\u001b[0m\u001b[0;34m.\u001b[0m\u001b[0malgorithms\u001b[0m\u001b[0;34m.\u001b[0m\u001b[0mindividual_subgroups\u001b[0m\u001b[0;34m.\u001b[0m\u001b[0mnominal_target\u001b[0m\u001b[0;34m.\u001b[0m\u001b[0msd\u001b[0m \u001b[0;32mimport\u001b[0m \u001b[0mSD\u001b[0m\u001b[0;34m\u001b[0m\u001b[0;34m\u001b[0m\u001b[0m\n\u001b[0m\u001b[1;32m      3\u001b[0m \u001b[0;34m\u001b[0m\u001b[0m\n\u001b[1;32m      4\u001b[0m \u001b[0minput_dataframe\u001b[0m \u001b[0;34m=\u001b[0m \u001b[0mDataFrame\u001b[0m\u001b[0;34m(\u001b[0m\u001b[0;34m{\u001b[0m\u001b[0;34m'bread'\u001b[0m\u001b[0;34m:\u001b[0m \u001b[0;34m[\u001b[0m\u001b[0;34m'yes'\u001b[0m\u001b[0;34m,\u001b[0m \u001b[0;34m'yes'\u001b[0m\u001b[0;34m,\u001b[0m \u001b[0;34m'no'\u001b[0m\u001b[0;34m,\u001b[0m \u001b[0;34m'yes'\u001b[0m\u001b[0;34m,\u001b[0m \u001b[0;34m'yes'\u001b[0m\u001b[0;34m,\u001b[0m \u001b[0;34m'yes'\u001b[0m\u001b[0;34m,\u001b[0m \u001b[0;34m'yes'\u001b[0m\u001b[0;34m]\u001b[0m\u001b[0;34m,\u001b[0m \u001b[0;34m'milk'\u001b[0m\u001b[0;34m:\u001b[0m \u001b[0;34m[\u001b[0m\u001b[0;34m'yes'\u001b[0m\u001b[0;34m,\u001b[0m \u001b[0;34m'no'\u001b[0m\u001b[0;34m,\u001b[0m \u001b[0;34m'yes'\u001b[0m\u001b[0;34m,\u001b[0m \u001b[0;34m'yes'\u001b[0m\u001b[0;34m,\u001b[0m \u001b[0;34m'yes'\u001b[0m\u001b[0;34m,\u001b[0m \u001b[0;34m'yes'\u001b[0m\u001b[0;34m,\u001b[0m \u001b[0;34m'yes'\u001b[0m\u001b[0;34m]\u001b[0m\u001b[0;34m,\u001b[0m \u001b[0;34m'beer'\u001b[0m\u001b[0;34m:\u001b[0m \u001b[0;34m[\u001b[0m\u001b[0;34m'no'\u001b[0m\u001b[0;34m,\u001b[0m \u001b[0;34m'yes'\u001b[0m\u001b[0;34m,\u001b[0m \u001b[0;34m'yes'\u001b[0m\u001b[0;34m,\u001b[0m \u001b[0;34m'yes'\u001b[0m\u001b[0;34m,\u001b[0m \u001b[0;34m'no'\u001b[0m \u001b[0;34m,\u001b[0m\u001b[0;34m'yes'\u001b[0m \u001b[0;34m,\u001b[0m\u001b[0;34m'no'\u001b[0m\u001b[0;34m]\u001b[0m\u001b[0;34m,\u001b[0m \u001b[0;34m'coke'\u001b[0m\u001b[0;34m:\u001b[0m \u001b[0;34m[\u001b[0m\u001b[0;34m'no'\u001b[0m\u001b[0;34m,\u001b[0m \u001b[0;34m'no'\u001b[0m\u001b[0;34m,\u001b[0m \u001b[0;34m'yes'\u001b[0m\u001b[0;34m,\u001b[0m \u001b[0;34m'no'\u001b[0m\u001b[0;34m,\u001b[0m \u001b[0;34m'yes'\u001b[0m\u001b[0;34m,\u001b[0m \u001b[0;34m'no'\u001b[0m\u001b[0;34m,\u001b[0m \u001b[0;34m'yes'\u001b[0m\u001b[0;34m]\u001b[0m\u001b[0;34m,\u001b[0m \u001b[0;34m'diaper'\u001b[0m \u001b[0;34m:\u001b[0m \u001b[0;34m[\u001b[0m\u001b[0;34m'no'\u001b[0m\u001b[0;34m,\u001b[0m \u001b[0;34m'yes'\u001b[0m\u001b[0;34m,\u001b[0m \u001b[0;34m'yes'\u001b[0m\u001b[0;34m,\u001b[0m \u001b[0;34m'yes'\u001b[0m\u001b[0;34m,\u001b[0m \u001b[0;34m'yes'\u001b[0m\u001b[0;34m,\u001b[0m \u001b[0;34m'yes'\u001b[0m\u001b[0;34m,\u001b[0m\u001b[0;34m'yes'\u001b[0m\u001b[0;34m]\u001b[0m\u001b[0;34m}\u001b[0m\u001b[0;34m)\u001b[0m\u001b[0;34m\u001b[0m\u001b[0;34m\u001b[0m\u001b[0m\n\u001b[1;32m      5\u001b[0m \u001b[0mtarget\u001b[0m \u001b[0;34m=\u001b[0m \u001b[0;34m(\u001b[0m\u001b[0;34m\"diaper\"\u001b[0m\u001b[0;34m,\u001b[0m \u001b[0;34m\"yes\"\u001b[0m\u001b[0;34m)\u001b[0m\u001b[0;34m\u001b[0m\u001b[0;34m\u001b[0m\u001b[0m\n",
            "\u001b[0;31mModuleNotFoundError\u001b[0m: No module named 'subgroups.algorithms.individual_subgroups.nominal_target.sd'",
            "",
            "\u001b[0;31m---------------------------------------------------------------------------\u001b[0;32m\nNOTE: If your import is failing due to a missing package, you can\nmanually install dependencies using either !pip or !apt.\n\nTo view examples of installing some common dependencies, click the\n\"Open Examples\" button below.\n\u001b[0;31m---------------------------------------------------------------------------\u001b[0m\n"
          ],
          "errorDetails": {
            "actions": [
              {
                "action": "open_url",
                "actionText": "Open Examples",
                "url": "/notebooks/snippets/importing_libraries.ipynb"
              }
            ]
          }
        }
      ]
    },
    {
      "cell_type": "markdown",
      "source": [
        "## Results\n",
        "\n",
        "Running the following cell, we get the output of the first subgroups found by the algorithm:\n",
        "\n",
        "```\n",
        "[Description: [bread = 'yes'], Target: diaper = 'yes'] ; Quality Measure : Support = 0.71 , Qg = 2.5; tp = 5 ; fp = 1 ; TP = 6 ; FP = 1\n",
        "[Description: [milk = 'yes'], Target: diaper = 'yes'] ; Quality Measure : Support = 0.71 , Qg = 2.5; tp = 5 ; fp = 1 ; TP = 6 ; FP = 1\n",
        "[Description: [beer = 'yes'], Target: diaper = 'yes'] ; Quality Measure : Support = 0.57 , Qg = 4.0; tp = 4 ; fp = 0 ; TP = 6 ; FP = 1\n",
        "\n",
        "```\n",
        "Each of these lines represents a subgroup discovered by the algorithm. Taking the fourth result as an example, we have the following characteristics:\n",
        "- The subgroup is described by the condition `[bread = 'yes']`.\n",
        "- The target is the one we defined in the first place, i.e., `diaper = 'yes'`.\n",
        "- Subgroup support is measured with the Support measure, which has a value of 0.71.\n",
        "- The quality of the subgroup is measured with the Qg measure, which has a value of 2.5\n",
        "- The values of tp, fp, TP, and FP are as follows: tp = 5 ; fp = 1 ; TP = 6 ; FP = 1.\n",
        "\n",
        "These results have been verified in the output file of the execution of the BSD algorithm on a toy dataset.\n",
        "\n",
        "We can also access different statistics about the result:\n"
      ],
      "metadata": {
        "id": "qY8U1Rb9MYG0"
      }
    },
    {
      "cell_type": "code",
      "source": [
        "print(model.selected_subgroups) # Number of selected subgroups\n",
        "print(model.unselected_subgroups) # Number of unselected subgroups\n",
        "print(model.visited_nodes) # Number of generated subgroups"
      ],
      "metadata": {
        "colab": {
          "base_uri": "https://localhost:8080/",
          "height": 219
        },
        "id": "iPb8_nRHSOXJ",
        "outputId": "dc9b827e-3225-4d82-d4ab-19bb0cb4d755"
      },
      "execution_count": null,
      "outputs": [
        {
          "output_type": "error",
          "ename": "NameError",
          "evalue": "ignored",
          "traceback": [
            "\u001b[0;31m---------------------------------------------------------------------------\u001b[0m",
            "\u001b[0;31mNameError\u001b[0m                                 Traceback (most recent call last)",
            "\u001b[0;32m<ipython-input-5-0129589cbf89>\u001b[0m in \u001b[0;36m<cell line: 1>\u001b[0;34m()\u001b[0m\n\u001b[0;32m----> 1\u001b[0;31m \u001b[0mprint\u001b[0m\u001b[0;34m(\u001b[0m\u001b[0mmodel\u001b[0m\u001b[0;34m.\u001b[0m\u001b[0mselected_subgroups\u001b[0m\u001b[0;34m)\u001b[0m \u001b[0;31m# Numero de subgrupos seleccionados\u001b[0m\u001b[0;34m\u001b[0m\u001b[0;34m\u001b[0m\u001b[0m\n\u001b[0m\u001b[1;32m      2\u001b[0m \u001b[0mprint\u001b[0m\u001b[0;34m(\u001b[0m\u001b[0mmodel\u001b[0m\u001b[0;34m.\u001b[0m\u001b[0munselected_subgroups\u001b[0m\u001b[0;34m)\u001b[0m \u001b[0;31m# Numero de subgrupos no seleccionados por no cumplir el umbral de calidad mínimo\u001b[0m\u001b[0;34m\u001b[0m\u001b[0;34m\u001b[0m\u001b[0m\n\u001b[1;32m      3\u001b[0m \u001b[0mprint\u001b[0m\u001b[0;34m(\u001b[0m\u001b[0mmodel\u001b[0m\u001b[0;34m.\u001b[0m\u001b[0mvisited_nodes\u001b[0m\u001b[0;34m)\u001b[0m \u001b[0;31m# Numero de nodos (subgrupos) visitados del espacio de búsqueda\u001b[0m\u001b[0;34m\u001b[0m\u001b[0;34m\u001b[0m\u001b[0m\n",
            "\u001b[0;31mNameError\u001b[0m: name 'model' is not defined"
          ]
        }
      ]
    },
    {
      "cell_type": "markdown",
      "source": [
        "## References\n",
        "<a id=\"1\">[1]</a>\n",
        "Gamberger, Dragan & Lavrac, Nada. (2011). Expert-Guided Subgroup Discovery: Methodology and Application. Journal of Artificial Intelligence Research - JAIR. 17. 10.1613/jair.1089."
      ],
      "metadata": {
        "id": "kDbfKavb9t9r"
      }
    }
  ]
}