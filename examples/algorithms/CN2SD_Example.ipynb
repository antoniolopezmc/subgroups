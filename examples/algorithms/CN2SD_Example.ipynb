{
  "cells": [
    {
      "attachments": {},
      "cell_type": "markdown",
      "metadata": {
        "id": "HCztFUSkafDh"
      },
      "source": [
        "# Ejemplo de uso de CN2SD\n",
        "## About this document\n",
        "The purpose of this document is to show an example of using the CN2SD algorithm.\n",
        "\n",
        "The following section will provide a detailed introduction to the CN2SD algorithm, followed by instructions on how to install the subgroups library in this environment. Subsequently, the process of running the algorithm will be described, including the necessary steps and important parameters to be taken into account.\n",
        "\n",
        "Finally, the results obtained from the application of the CN2SD algorithm will be presented, highlighting the information obtained in the output file and the information that can be found by accessing the model properties.\n",
        "\n",
        "## CN2SD Algorithm\n",
        "The CN2SD algorithm is a subgroup discovery algorithm based on a rule induction system by adapting a classification rule method called CN2.\n",
        "The modifications that are carried out are :\n",
        "\n",
        "-Substitution of the precision-based search heuristic by a new unusualness heuristic combining the generality and the precision of the rule.\n",
        "\n",
        "-Incorporation of the weighting of the examples in the coverage algorithm.\n",
        "\n",
        "-Incorporation of example weightings into the unusualness search heuristic.\n",
        "\n",
        "-Utilizing a probabilistic classification based on the class distribution of examples covered by individual rules.\n",
        "\n",
        "The WRACC quality measure is used to evaluate the quality measures of the subgroups.\n",
        "\n",
        "The CN2 algorithm is defined as follow [[1]](#1):\n",
        "\n",
        "![CN2][(https://ibb.co/xhDd98b)](https://ibb.co/xhDd98b)\n"
      ]
    },
    {
      "attachments": {},
      "cell_type": "markdown",
      "metadata": {
        "id": "T-opFECudTZD"
      },
      "source": [
        "## Instalación de la librería `subgroups`\n",
        "\n",
        "Para instalar la librería `subgroups` en este entorno, basta con ejecutar la siguiente celda:"
      ]
    },
    {
      "cell_type": "code",
      "execution_count": null,
      "metadata": {
        "colab": {
          "base_uri": "https://localhost:8080/"
        },
        "id": "GJbgTWxyck8X",
        "outputId": "46e30d1f-eb96-4069-f498-4dafe3cee420"
      },
      "outputs": [
        {
          "name": "stdout",
          "output_type": "stream",
          "text": [
            "Collecting subgroups\n",
            "  Downloading subgroups-0.0.10-py3-none-any.whl (116 kB)\n",
            "\u001b[?25l     \u001b[90m━━━━━━━━━━━━━━━━━━━━━━━━━━━━━━━━━━━━━━━━\u001b[0m \u001b[32m0.0/116.7 kB\u001b[0m \u001b[31m?\u001b[0m eta \u001b[36m-:--:--\u001b[0m\r\u001b[2K     \u001b[90m━━━━━━━━━━━━━━━━━━━━━━━━━━━━━━━━━━━━━━━\u001b[0m \u001b[32m116.7/116.7 kB\u001b[0m \u001b[31m5.1 MB/s\u001b[0m eta \u001b[36m0:00:00\u001b[0m\n",
            "\u001b[?25hRequirement already satisfied: pandas>=1.3.4 in /usr/local/lib/python3.10/dist-packages (from subgroups) (1.5.3)\n",
            "Collecting bitarray>=2.3.0 (from subgroups)\n",
            "  Downloading bitarray-2.7.6-cp310-cp310-manylinux_2_17_x86_64.manylinux2014_x86_64.whl (273 kB)\n",
            "\u001b[2K     \u001b[90m━━━━━━━━━━━━━━━━━━━━━━━━━━━━━━━━━━━━━━\u001b[0m \u001b[32m273.6/273.6 kB\u001b[0m \u001b[31m21.1 MB/s\u001b[0m eta \u001b[36m0:00:00\u001b[0m\n",
            "\u001b[?25hRequirement already satisfied: python-dateutil>=2.8.1 in /usr/local/lib/python3.10/dist-packages (from pandas>=1.3.4->subgroups) (2.8.2)\n",
            "Requirement already satisfied: pytz>=2020.1 in /usr/local/lib/python3.10/dist-packages (from pandas>=1.3.4->subgroups) (2022.7.1)\n",
            "Requirement already satisfied: numpy>=1.21.0 in /usr/local/lib/python3.10/dist-packages (from pandas>=1.3.4->subgroups) (1.22.4)\n",
            "Requirement already satisfied: six>=1.5 in /usr/local/lib/python3.10/dist-packages (from python-dateutil>=2.8.1->pandas>=1.3.4->subgroups) (1.16.0)\n",
            "Installing collected packages: bitarray, subgroups\n",
            "Successfully installed bitarray-2.7.6 subgroups-0.0.10\n"
          ]
        }
      ],
      "source": [
        "!pip install subgroups --no-cache-dir"
      ]
    },
    {
      "attachments": {},
      "cell_type": "markdown",
      "metadata": {
        "id": "C76HIMMTdW7v"
      },
      "source": [
        "To check that the installation has been successful, the following cell can be run:"
      ]
    },
    {
      "cell_type": "code",
      "execution_count": null,
      "metadata": {
        "id": "VGCawRPMdaJ0"
      },
      "outputs": [],
      "source": [
        "import subgroups.tests as st\n",
        "st.run_all_tests()"
      ]
    },
    {
      "attachments": {},
      "cell_type": "markdown",
      "metadata": {
        "id": "B0meDrcadgZx"
      },
      "source": [
        "## Running the algorithm\n",
        "\n",
        "To run the CN2SD algorithm on a dataset, the following steps are necessary:\n",
        "\n",
        "- Load the dataset into a Pandas `DataFrame` object and the target (column).\n",
        "- Create the CN2SD model with the desired parameters and run it.\n",
        "\n",
        "Below is an example of running this algorithm on a small dataset:\n"
      ]
    },
    {
      "cell_type": "code",
      "execution_count": null,
      "metadata": {
        "id": "aEFD5PtmeOD6"
      },
      "outputs": [],
      "source": [
        "from pandas import DataFrame\n",
        "from subgroups.algorithms.individual_subgroups.nominal_target.cn2sd import CN2SD\n",
        "\n",
        "input_dataframe = DataFrame({'bread': ['yes', 'yes', 'no', 'yes', 'yes', 'yes', 'yes'], 'milk': ['yes', 'no', 'yes', 'yes', 'yes', 'yes', 'yes'], 'beer': ['no', 'yes', 'yes', 'yes', 'no' ,'yes' ,'no'], 'coke': ['no', 'no', 'yes', 'no', 'yes', 'no', 'yes'], 'diaper' : ['no', 'yes', 'yes', 'yes', 'yes', 'yes','yes']})\n",
        "target = (\"diaper\")\n",
        "model = CN2SD(beam_width = 2, weighting_scheme = 'aditive',write_results_in_file=True,file_path=\"./results.txt\")\n",
        "binary_attributes = [\"bread\", \"milk\", \"beer\", \"coke\", \"diaper\"]\n",
        "result = model.fit(input_dataframe, target, binary_attributes)\n"
      ]
    },
    {
      "attachments": {},
      "cell_type": "markdown",
      "metadata": {
        "id": "S-RA5DN00wvD"
      },
      "source": []
    },
    {
      "attachments": {},
      "cell_type": "markdown",
      "metadata": {
        "id": "crSId3K5v_Oz"
      },
      "source": [
        "## Results\n",
        "\n",
        "Running the following cell, we get the output of the first subgroups found by the algorithm:\n",
        "\n",
        "```\n",
        "Description: [beer = 'no', coke = 'no'], Target: diaper = 'no' ; Quality Measure WRACC = 0.12244897959183673 ; tp = 1 ; fp = 0 ; TP = 1 ; FP = 6\n",
        "Description: [beer = 'no', coke = 'no'], Target: diaper = 'no' ; Quality Measure WRACC = 0.12244897959183673 ; tp = 1 ; fp = 0 ; TP = 1 ; FP = 6\n",
        "Description: [beer = 'no'], Target: diaper = 'no' ; Quality Measure WRACC = 0.04733727810650888 ; tp = 0.5 ; fp = 2 ; TP = 0.5 ; FP = 6\n",
        ".\n",
        ".\n",
        ".\n",
        "Description: [coke = 'yes'], Target: diaper = 'yes' ; Quality Measure WRACC = 0.16000000000000003 ; tp = 0.25 ; fp = 0 ; TP = 0.25 ; FP = 1\n",
        "Description: [coke = 'yes'], Target: diaper = 'yes' ; Quality Measure WRACC = 0.16000000000000003 ; tp = 0.25 ; fp = 0 ; TP = 0.25 ; FP = 1\n",
        "Description: [coke = 'yes'], Target: diaper = 'yes' ; Quality Measure WRACC = 0.1487603305785124 ; tp = 0.2222222222222222 ; fp = 0 ; TP = 0.2222222222222222 ; FP = 1\n",
        "Description: [coke = 'yes'], Target: diaper = 'yes' ; Quality Measure WRACC = 0.1487603305785124 ; tp = 0.2222222222222222 ; fp = 0 ; TP = 0.2222222222222222 ; FP = 1\n",
        "Description: [coke = 'yes'], Target: diaper = 'yes' ; Quality Measure WRACC = 0.1487603305785124 ; tp = 0.2222222222222222 ; fp =\n",
        "```\n",
        "Each of these lines represents a subgroup discovered by the algorithm. Taking the first result as an example, we have the following characteristics:\n",
        "- The subgroup is described by the condition `[beer = 'no', coke = 'no']`.\n",
        "- The target is the one we defined in the first place, i.e., `diaper`.\n",
        "- The quality of the subgroup is measured with the WRAcc measure, which has a value of 0.122...\n",
        "- The values of tp, fp, TP, and FP are as follows: tp = 1 ; fp = 0 ; TP = 1 ; FP = 6.\n",
        "\n",
        "These results have been verified in the output file of the execution of the CN2SD algorithm on a toy dataset.\n",
        "\n",
        "We can also access different statistics about the result:\n"
      ]
    },
    {
      "cell_type": "code",
      "execution_count": null,
      "metadata": {
        "id": "LTsqHtshwnfo"
      },
      "outputs": [],
      "source": [
        "print(model.selected_subgroups) # Number of selected subgroups\n",
        "print(model.unselected_subgroups) # # Number of unselected subgroups\n",
        "print(model.visited_nodes) # # Number of generated subgroups"
      ]
    },
    {
      "attachments": {},
      "cell_type": "markdown",
      "metadata": {
        "id": "gsZtosg001hM"
      },
      "source": [
        "## References\n",
        "<a id=\"1\">[1]</a>\n",
        "Clark, Peter & Niblett, Tim. (2000). Induction in Noisy Domains."
      ]
    }
  ],
  "metadata": {
    "colab": {
      "provenance": []
    },
    "kernelspec": {
      "display_name": "Python 3",
      "name": "python3"
    },
    "language_info": {
      "name": "python"
    }
  },
  "nbformat": 4,
  "nbformat_minor": 0
}
