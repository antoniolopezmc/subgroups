{
 "cells": [
  {
   "cell_type": "markdown",
   "id": "9743c907",
   "metadata": {},
   "source": [
    "# Example of using the SDIGA algoritm"
   ]
  },
  {
   "cell_type": "markdown",
   "id": "b64ef367",
   "metadata": {},
   "source": [
    "## About this document\n",
    "\n",
    "The purpose of this document is to provide a simple example of how to use the SDIGA algorithm.\n",
    "\n",
    "In the following sections, an introduction of the this algorithm will be presented, followed by instructions to install the subgroups library. Then, the execution process of the SDIGA algorithm will be described, including the necessary steps to consider. Finally, the results obtained from the application of this algorithm will be presented, highlighting the information obtained in the output file and the one that can be accessed through the model properties."
   ]
  },
  {
   "cell_type": "markdown",
   "id": "c6a392cf",
   "metadata": {},
   "source": [
    "## SDIGA algorithm\n",
    "\n",
    "SDIGA (Subgroup Discovery with Iterative Genetic Algorithms) is a subgroup discovery algorithm that uses an iterative genetic algorithm to find interesting subgroups in a dataset. It is designed to work with large datasets and can handle categorical results. The algorithm uses a fitness function to evaluate the quality of the discovered subgroups and iteratively refines the search space to find the most interesting subgroups, once the GA has converged, the algorithm will perform a local search to find the best subgroup."
   ]
  },
  {
   "cell_type": "markdown",
   "id": "89faf653",
   "metadata": {},
   "source": [
    "## Installing the `subgroups` library\n",
    "To install the `subgroups` library, you have to execute the following cell:"
   ]
  },
  {
   "cell_type": "code",
   "execution_count": 1,
   "id": "1fdc1846",
   "metadata": {
    "vscode": {
     "languageId": "plaintext"
    }
   },
   "outputs": [
    {
     "name": "stdout",
     "output_type": "stream",
     "text": [
      "Requirement already satisfied: subgroups in c:\\users\\almc\\anaconda3\\lib\\site-packages (0.1.11)\n",
      "Requirement already satisfied: pandas>=2.1.4 in c:\\users\\almc\\anaconda3\\lib\\site-packages (from subgroups) (2.2.3)\n",
      "Requirement already satisfied: bitarray>=3.0.0 in c:\\users\\almc\\anaconda3\\lib\\site-packages (from subgroups) (3.5.2)\n",
      "Requirement already satisfied: statsmodels>=0.14.0 in c:\\users\\almc\\anaconda3\\lib\\site-packages (from subgroups) (0.14.4)\n",
      "Requirement already satisfied: numpy>=1.26.0 in c:\\users\\almc\\anaconda3\\lib\\site-packages (from pandas>=2.1.4->subgroups) (2.1.3)\n",
      "Requirement already satisfied: python-dateutil>=2.8.2 in c:\\users\\almc\\anaconda3\\lib\\site-packages (from pandas>=2.1.4->subgroups) (2.9.0.post0)\n",
      "Requirement already satisfied: pytz>=2020.1 in c:\\users\\almc\\anaconda3\\lib\\site-packages (from pandas>=2.1.4->subgroups) (2024.1)\n",
      "Requirement already satisfied: tzdata>=2022.7 in c:\\users\\almc\\anaconda3\\lib\\site-packages (from pandas>=2.1.4->subgroups) (2025.2)\n",
      "Requirement already satisfied: six>=1.5 in c:\\users\\almc\\anaconda3\\lib\\site-packages (from python-dateutil>=2.8.2->pandas>=2.1.4->subgroups) (1.17.0)\n",
      "Requirement already satisfied: scipy!=1.9.2,>=1.8 in c:\\users\\almc\\anaconda3\\lib\\site-packages (from statsmodels>=0.14.0->subgroups) (1.15.3)\n",
      "Requirement already satisfied: patsy>=0.5.6 in c:\\users\\almc\\anaconda3\\lib\\site-packages (from statsmodels>=0.14.0->subgroups) (1.0.1)\n",
      "Requirement already satisfied: packaging>=21.3 in c:\\users\\almc\\anaconda3\\lib\\site-packages (from statsmodels>=0.14.0->subgroups) (24.2)\n"
     ]
    }
   ],
   "source": [
    "!pip install subgroups"
   ]
  },
  {
   "cell_type": "markdown",
   "id": "56ec3507",
   "metadata": {},
   "source": [
    "After that, to verify that the installation was successful, yo can run the following cell:"
   ]
  },
  {
   "cell_type": "code",
   "execution_count": 2,
   "id": "8dcfb393",
   "metadata": {
    "vscode": {
     "languageId": "plaintext"
    }
   },
   "outputs": [
    {
     "name": "stderr",
     "output_type": "stream",
     "text": [
      "test_Operator_evaluate_method (tests.core.test_operator.TestOperator.test_Operator_evaluate_method) ... ok\n",
      "test_Operator_evaluate_method_with_pandasSeries (tests.core.test_operator.TestOperator.test_Operator_evaluate_method_with_pandasSeries) ... ok\n",
      "test_Operator_generate_from_str_method (tests.core.test_operator.TestOperator.test_Operator_generate_from_str_method) ... ok\n",
      "test_Operator_string_representation (tests.core.test_operator.TestOperator.test_Operator_string_representation) ... ok\n",
      "test_Pattern_contains_method (tests.core.test_pattern.TestPattern.test_Pattern_contains_method) ... ok\n",
      "test_Pattern_general (tests.core.test_pattern.TestPattern.test_Pattern_general) ... ok\n",
      "test_Pattern_is_contained_method (tests.core.test_pattern.TestPattern.test_Pattern_is_contained_method) ... ok\n",
      "test_Pattern_is_refinement_method (tests.core.test_pattern.TestPattern.test_Pattern_is_refinement_method) ... ok\n",
      "test_Selector_attributes (tests.core.test_selector.TestSelector.test_Selector_attributes) ... ok\n",
      "test_Selector_comparisons (tests.core.test_selector.TestSelector.test_Selector_comparisons) ... ok\n",
      "test_Selector_creation_process (tests.core.test_selector.TestSelector.test_Selector_creation_process) ... ok\n",
      "test_Selector_deletion_process (tests.core.test_selector.TestSelector.test_Selector_deletion_process) ... ok\n",
      "test_Selector_generate_from_str_method (tests.core.test_selector.TestSelector.test_Selector_generate_from_str_method) ... ok\n",
      "test_Selector_match_method (tests.core.test_selector.TestSelector.test_Selector_match_method) ... ok\n",
      "test_Selector_same_value_different_type (tests.core.test_selector.TestSelector.test_Selector_same_value_different_type) ... ok\n",
      "test_Subgroup_filter (tests.core.test_subgroup.TestSubgroup.test_Subgroup_filter) ... ok\n",
      "test_Subgroup_general (tests.core.test_subgroup.TestSubgroup.test_Subgroup_general) ... ok\n",
      "test_Subgroup_is_refinement_method (tests.core.test_subgroup.TestSubgroup.test_Subgroup_is_refinement_method) ... ok\n",
      "\n",
      "----------------------------------------------------------------------\n",
      "Ran 18 tests in 0.028s\n",
      "\n",
      "OK\n",
      "test_quality_measures_compute (tests.quality_measures.test_quality_measures.TestQualityMeasures.test_quality_measures_compute) ... ok\n",
      "test_quality_measures_general (tests.quality_measures.test_quality_measures.TestQualityMeasures.test_quality_measures_general) ... ok\n",
      "test_quality_measures_value_of_class_variables (tests.quality_measures.test_quality_measures.TestQualityMeasures.test_quality_measures_value_of_class_variables) ... ok\n",
      "\n",
      "----------------------------------------------------------------------\n",
      "Ran 3 tests in 0.003s\n",
      "\n",
      "OK\n",
      "test_FPTreeForSDMap_build_tree_1 (tests.data_structures.test_fp_tree_for_sdmap.TestFPTreeForSDMap.test_FPTreeForSDMap_build_tree_1) ... ok\n",
      "test_FPTreeForSDMap_build_tree_2 (tests.data_structures.test_fp_tree_for_sdmap.TestFPTreeForSDMap.test_FPTreeForSDMap_build_tree_2) ... ok\n",
      "test_FPTreeForSDMap_build_tree_3 (tests.data_structures.test_fp_tree_for_sdmap.TestFPTreeForSDMap.test_FPTreeForSDMap_build_tree_3) ... ok\n",
      "test_FPTreeForSDMap_build_tree_4 (tests.data_structures.test_fp_tree_for_sdmap.TestFPTreeForSDMap.test_FPTreeForSDMap_build_tree_4) ... ok\n",
      "test_FPTreeForSDMap_generate_conditional_fp_tree_1 (tests.data_structures.test_fp_tree_for_sdmap.TestFPTreeForSDMap.test_FPTreeForSDMap_generate_conditional_fp_tree_1) ... ok\n",
      "test_FPTreeForSDMap_generate_conditional_fp_tree_2 (tests.data_structures.test_fp_tree_for_sdmap.TestFPTreeForSDMap.test_FPTreeForSDMap_generate_conditional_fp_tree_2) ... ok\n",
      "test_FPTreeForSDMap_generate_set_of_frequent_selectors_1 (tests.data_structures.test_fp_tree_for_sdmap.TestFPTreeForSDMap.test_FPTreeForSDMap_generate_set_of_frequent_selectors_1) ... ok\n",
      "test_FPTreeForSDMap_generate_set_of_frequent_selectors_2 (tests.data_structures.test_fp_tree_for_sdmap.TestFPTreeForSDMap.test_FPTreeForSDMap_generate_set_of_frequent_selectors_2) ... ok\n",
      "test_FPTreeForSDMap_generate_set_of_frequent_selectors_3 (tests.data_structures.test_fp_tree_for_sdmap.TestFPTreeForSDMap.test_FPTreeForSDMap_generate_set_of_frequent_selectors_3) ... ok\n",
      "test_FPTreeNode_general (tests.data_structures.test_fp_tree_node.TestFPTreeNode.test_FPTreeNode_general) ... ok\n",
      "test_subgroup_list_1 (tests.data_structures.test_subgroup_list.TestSubgroupList.test_subgroup_list_1) ... ok\n",
      "test_subgroup_list_2 (tests.data_structures.test_subgroup_list.TestSubgroupList.test_subgroup_list_2) ... ok\n",
      "test_subgroup_list_3 (tests.data_structures.test_subgroup_list.TestSubgroupList.test_subgroup_list_3) ... ok\n",
      "test_subgroup_list_4 (tests.data_structures.test_subgroup_list.TestSubgroupList.test_subgroup_list_4) ... ok\n",
      "test_subgroup_list_5 (tests.data_structures.test_subgroup_list.TestSubgroupList.test_subgroup_list_5) ... ok\n"
     ]
    },
    {
     "name": "stdout",
     "output_type": "stream",
     "text": [
      "\n",
      "\n",
      "##################################\n",
      "########## CORE PACKAGE ##########\n",
      "##################################\n",
      "\n",
      "\n",
      "##############################################\n",
      "########## QUALITY MEASURES PACKAGE ##########\n",
      "##############################################\n",
      "\n",
      "\n",
      "#############################################\n",
      "########## DATA STRUCTURES PACKAGE ##########\n",
      "#############################################\n"
     ]
    },
    {
     "name": "stderr",
     "output_type": "stream",
     "text": [
      "test_vertical_list_1 (tests.data_structures.test_vertical_list_with_bitsets.TestVerticalListWithBitsets.test_vertical_list_1) ... ok\n",
      "test_vertical_list_2 (tests.data_structures.test_vertical_list_with_bitsets.TestVerticalListWithBitsets.test_vertical_list_2) ... ok\n",
      "test_vertical_list_3 (tests.data_structures.test_vertical_list_with_bitsets.TestVerticalListWithBitsets.test_vertical_list_3) ... ok\n",
      "test_vertical_list_str_method (tests.data_structures.test_vertical_list_with_bitsets.TestVerticalListWithBitsets.test_vertical_list_str_method) ... ok\n",
      "test_vertical_list_1 (tests.data_structures.test_vertical_list_with_sets.TestVerticalListWithSets.test_vertical_list_1) ... ok\n",
      "test_vertical_list_2 (tests.data_structures.test_vertical_list_with_sets.TestVerticalListWithSets.test_vertical_list_2) ... ok\n",
      "test_vertical_list_3 (tests.data_structures.test_vertical_list_with_sets.TestVerticalListWithSets.test_vertical_list_3) ... ok\n",
      "test_vertical_list_str_method (tests.data_structures.test_vertical_list_with_sets.TestVerticalListWithSets.test_vertical_list_str_method) ... ok\n",
      "\n",
      "----------------------------------------------------------------------\n",
      "Ran 23 tests in 0.183s\n",
      "\n",
      "OK\n",
      "test_DSLM_compute_overlap_factor_function_1 (tests.algorithms.subgroup_lists.test_dslm.TestDSLM.test_DSLM_compute_overlap_factor_function_1) ... ok\n",
      "test_DSLM_compute_overlap_factor_function_2 (tests.algorithms.subgroup_lists.test_dslm.TestDSLM.test_DSLM_compute_overlap_factor_function_2) ... ok\n",
      "test_DSLM_compute_overlap_factor_function_3 (tests.algorithms.subgroup_lists.test_dslm.TestDSLM.test_DSLM_compute_overlap_factor_function_3) ... ok\n",
      "test_DSLM_counter_of_subgroups_1 (tests.algorithms.subgroup_lists.test_dslm.TestDSLM.test_DSLM_counter_of_subgroups_1) ... ok\n",
      "test_DSLM_counter_of_subgroups_2 (tests.algorithms.subgroup_lists.test_dslm.TestDSLM.test_DSLM_counter_of_subgroups_2) ... ok\n",
      "test_GMSL_fit_method_1 (tests.algorithms.subgroup_lists.test_gmsl.TestGMSL.test_GMSL_fit_method_1) ... ok\n",
      "test_GMSL_load_candidates_method_1 (tests.algorithms.subgroup_lists.test_gmsl.TestGMSL.test_GMSL_load_candidates_method_1) ... ok\n",
      "test_GMSL_load_candidates_method_2 (tests.algorithms.subgroup_lists.test_gmsl.TestGMSL.test_GMSL_load_candidates_method_2) ... ok\n",
      "test_GMSL_load_candidates_method_3 (tests.algorithms.subgroup_lists.test_gmsl.TestGMSL.test_GMSL_load_candidates_method_3) ... ok\n",
      "test_GMSL_load_candidates_method_4 (tests.algorithms.subgroup_lists.test_gmsl.TestGMSL.test_GMSL_load_candidates_method_4) ... ok\n",
      "test_GMSL_load_candidates_method_5 (tests.algorithms.subgroup_lists.test_gmsl.TestGMSL.test_GMSL_load_candidates_method_5) ... ok\n",
      "test_GMSL_mdl_functions_1 (tests.algorithms.subgroup_lists.test_gmsl.TestGMSL.test_GMSL_mdl_functions_1) ... ok\n",
      "test_GMSL_mdl_functions_2 (tests.algorithms.subgroup_lists.test_gmsl.TestGMSL.test_GMSL_mdl_functions_2) ... ok\n",
      "test_GMSL_mdl_functions_3 (tests.algorithms.subgroup_lists.test_gmsl.TestGMSL.test_GMSL_mdl_functions_3) ... "
     ]
    },
    {
     "name": "stdout",
     "output_type": "stream",
     "text": [
      "\n",
      "\n",
      "########################################\n",
      "########## ALGORITHMS PACKAGE ##########\n",
      "########################################\n"
     ]
    },
    {
     "name": "stderr",
     "output_type": "stream",
     "text": [
      "ok\n",
      "test_BSD_cardinality (tests.algorithms.subgroup_sets.test_bsd.TestBSD.test_BSD_cardinality) ... ok\n",
      "test_BSD_checkRel (tests.algorithms.subgroup_sets.test_bsd.TestBSD.test_BSD_checkRel) ... ok\n",
      "test_BSD_checkRelevancies (tests.algorithms.subgroup_sets.test_bsd.TestBSD.test_BSD_checkRelevancies) ... ok\n",
      "test_BSD_fit1 (tests.algorithms.subgroup_sets.test_bsd.TestBSD.test_BSD_fit1) ... ok\n",
      "test_BSD_fit2 (tests.algorithms.subgroup_sets.test_bsd.TestBSD.test_BSD_fit2) ... ok\n",
      "test_BSD_fit3 (tests.algorithms.subgroup_sets.test_bsd.TestBSD.test_BSD_fit3) ... ok\n",
      "test_BSD_fit4 (tests.algorithms.subgroup_sets.test_bsd.TestBSD.test_BSD_fit4) ... ok\n",
      "test_BSD_init_method (tests.algorithms.subgroup_sets.test_bsd.TestBSD.test_BSD_init_method) ... ok\n",
      "test_BSD_logicalAnd (tests.algorithms.subgroup_sets.test_bsd.TestBSD.test_BSD_logicalAnd) ... ok\n",
      "test_CBSD_checkRel (tests.algorithms.subgroup_sets.test_cbsd.TestCBSD.test_CBSD_checkRel) ... ok\n",
      "test_CBSD_checkRelevancies (tests.algorithms.subgroup_sets.test_cbsd.TestCBSD.test_CBSD_checkRelevancies) ... ok\n",
      "test_CBSD_fit1 (tests.algorithms.subgroup_sets.test_cbsd.TestCBSD.test_CBSD_fit1) ... ok\n",
      "test_CBSD_fit2 (tests.algorithms.subgroup_sets.test_cbsd.TestCBSD.test_CBSD_fit2) ... ok\n",
      "test_CBSD_fit3 (tests.algorithms.subgroup_sets.test_cbsd.TestCBSD.test_CBSD_fit3) ... ok\n",
      "test_CBSD_fit4 (tests.algorithms.subgroup_sets.test_cbsd.TestCBSD.test_CBSD_fit4) ... ok\n",
      "test_CBSD_init_method (tests.algorithms.subgroup_sets.test_cbsd.TestCBSD.test_CBSD_init_method) ... ok\n",
      "test_CPBSD_checkRel (tests.algorithms.subgroup_sets.test_cpbsd.TestCPBSD.test_CPBSD_checkRel) ... ok\n",
      "test_CPBSD_checkRelevancies (tests.algorithms.subgroup_sets.test_cpbsd.TestCPBSD.test_CPBSD_checkRelevancies) ... ok\n",
      "test_CPBSD_fit1 (tests.algorithms.subgroup_sets.test_cpbsd.TestCPBSD.test_CPBSD_fit1) ... ok\n",
      "test_CPBSD_fit2 (tests.algorithms.subgroup_sets.test_cpbsd.TestCPBSD.test_CPBSD_fit2) ... ok\n",
      "test_CPBSD_fit3 (tests.algorithms.subgroup_sets.test_cpbsd.TestCPBSD.test_CPBSD_fit3) ... ok\n",
      "test_CPBSD_fit4 (tests.algorithms.subgroup_sets.test_cpbsd.TestCPBSD.test_CPBSD_fit4) ... ok\n",
      "test_CPBSD_init_method (tests.algorithms.subgroup_sets.test_cpbsd.TestCPBSD.test_CPBSD_init_method) ... ok\n",
      "test_IDSD_compute_rank (tests.algorithms.subgroup_sets.test_idsd.TestIDSD.test_IDSD_compute_rank) ... ok\n",
      "test_IDSD_fit (tests.algorithms.subgroup_sets.test_idsd.TestIDSD.test_IDSD_fit) ... ok\n",
      "test_IDSD_generate_selectors (tests.algorithms.subgroup_sets.test_idsd.TestIDSD.test_IDSD_generate_selectors) ... ok\n",
      "test_IDSD_init_method1 (tests.algorithms.subgroup_sets.test_idsd.TestIDSD.test_IDSD_init_method1) ... ok\n",
      "test_IDSD_init_method2 (tests.algorithms.subgroup_sets.test_idsd.TestIDSD.test_IDSD_init_method2) ... ok\n",
      "test_IDSD_init_method3 (tests.algorithms.subgroup_sets.test_idsd.TestIDSD.test_IDSD_init_method3) ... ok\n",
      "test_IDSD_reduce_categories (tests.algorithms.subgroup_sets.test_idsd.TestIDSD.test_IDSD_reduce_categories) ... ok\n",
      "test_IDSD_redundant (tests.algorithms.subgroup_sets.test_idsd.TestIDSD.test_IDSD_redundant) ... ok\n",
      "test_IDSD_top_k_update1 (tests.algorithms.subgroup_sets.test_idsd.TestIDSD.test_IDSD_top_k_update1) ... ok\n",
      "test_IDSD_top_k_update2 (tests.algorithms.subgroup_sets.test_idsd.TestIDSD.test_IDSD_top_k_update2) ... ok\n",
      "test_IDSD_top_k_update3 (tests.algorithms.subgroup_sets.test_idsd.TestIDSD.test_IDSD_top_k_update3) ... ok\n",
      "test_QFinder_fit (tests.algorithms.subgroup_sets.test_qfinder.TestQFinder.test_QFinder_fit) ... ok\n",
      "test_QFinder_generate_candidate_patterns1 (tests.algorithms.subgroup_sets.test_qfinder.TestQFinder.test_QFinder_generate_candidate_patterns1) ... ok\n",
      "test_QFinder_generate_candidate_patterns2 (tests.algorithms.subgroup_sets.test_qfinder.TestQFinder.test_QFinder_generate_candidate_patterns2) ... ok\n",
      "test_QFinder_handle_individual_result (tests.algorithms.subgroup_sets.test_qfinder.TestQFinder.test_QFinder_handle_individual_result) ... ok\n",
      "test_QFinder_init_method1 (tests.algorithms.subgroup_sets.test_qfinder.TestQFinder.test_QFinder_init_method1) ... ok\n",
      "test_QFinder_init_method2 (tests.algorithms.subgroup_sets.test_qfinder.TestQFinder.test_QFinder_init_method2) ... ok\n",
      "test_SDIGA_decoding_method (tests.algorithms.subgroup_sets.test_sdiga.TestSDIGA.test_SDIGA_decoding_method) ... ok\n",
      "test_SDIGA_encoding_method (tests.algorithms.subgroup_sets.test_sdiga.TestSDIGA.test_SDIGA_encoding_method) ... ok\n",
      "test_SDIGA_filter_rows_method (tests.algorithms.subgroup_sets.test_sdiga.TestSDIGA.test_SDIGA_filter_rows_method) ... ok\n",
      "test_SDIGA_fit_method (tests.algorithms.subgroup_sets.test_sdiga.TestSDIGA.test_SDIGA_fit_method) ... ok\n",
      "test_SDIGA_get_tp_fp_method (tests.algorithms.subgroup_sets.test_sdiga.TestSDIGA.test_SDIGA_get_tp_fp_method) ... ok\n",
      "test_SDIGA_init_method (tests.algorithms.subgroup_sets.test_sdiga.TestSDIGA.test_SDIGA_init_method) ... ok\n",
      "test_SDIGA_init_method2 (tests.algorithms.subgroup_sets.test_sdiga.TestSDIGA.test_SDIGA_init_method2) ... ok\n",
      "test_SDMap_additional_parameters_in_fit_method (tests.algorithms.subgroup_sets.test_sdmap.TestSDMap.test_SDMap_additional_parameters_in_fit_method) ... ok\n",
      "test_SDMap_fit_method_1 (tests.algorithms.subgroup_sets.test_sdmap.TestSDMap.test_SDMap_fit_method_1) ... ok\n",
      "test_SDMap_fit_method_10 (tests.algorithms.subgroup_sets.test_sdmap.TestSDMap.test_SDMap_fit_method_10) ... ok\n",
      "test_SDMap_fit_method_11 (tests.algorithms.subgroup_sets.test_sdmap.TestSDMap.test_SDMap_fit_method_11) ... ok\n",
      "test_SDMap_fit_method_2 (tests.algorithms.subgroup_sets.test_sdmap.TestSDMap.test_SDMap_fit_method_2) ... ok\n",
      "test_SDMap_fit_method_3 (tests.algorithms.subgroup_sets.test_sdmap.TestSDMap.test_SDMap_fit_method_3) ... ok\n",
      "test_SDMap_fit_method_4 (tests.algorithms.subgroup_sets.test_sdmap.TestSDMap.test_SDMap_fit_method_4) ... ok\n",
      "test_SDMap_fit_method_5 (tests.algorithms.subgroup_sets.test_sdmap.TestSDMap.test_SDMap_fit_method_5) ... ok\n",
      "test_SDMap_fit_method_6 (tests.algorithms.subgroup_sets.test_sdmap.TestSDMap.test_SDMap_fit_method_6) ... ok\n",
      "test_SDMap_fit_method_7 (tests.algorithms.subgroup_sets.test_sdmap.TestSDMap.test_SDMap_fit_method_7) ... ok\n",
      "test_SDMap_fit_method_8 (tests.algorithms.subgroup_sets.test_sdmap.TestSDMap.test_SDMap_fit_method_8) ... ok\n",
      "test_SDMap_fit_method_9 (tests.algorithms.subgroup_sets.test_sdmap.TestSDMap.test_SDMap_fit_method_9) ... ok\n",
      "test_SDMap_fpgrowth_method_1 (tests.algorithms.subgroup_sets.test_sdmap.TestSDMap.test_SDMap_fpgrowth_method_1) ... ok\n",
      "test_SDMap_fpgrowth_method_2 (tests.algorithms.subgroup_sets.test_sdmap.TestSDMap.test_SDMap_fpgrowth_method_2) ... ok\n",
      "test_SDMap_fpgrowth_method_3 (tests.algorithms.subgroup_sets.test_sdmap.TestSDMap.test_SDMap_fpgrowth_method_3) ... ok\n",
      "test_SDMap_fpgrowth_method_4 (tests.algorithms.subgroup_sets.test_sdmap.TestSDMap.test_SDMap_fpgrowth_method_4) ... ok\n",
      "test_SDMap_init_method_1 (tests.algorithms.subgroup_sets.test_sdmap.TestSDMap.test_SDMap_init_method_1) ... ok\n",
      "test_SDMap_init_method_2 (tests.algorithms.subgroup_sets.test_sdmap.TestSDMap.test_SDMap_init_method_2) ... ok\n",
      "test_SDMap_unselected_and_selected_subgroups (tests.algorithms.subgroup_sets.test_sdmap.TestSDMap.test_SDMap_unselected_and_selected_subgroups) ... ok\n",
      "test_SDMapStar_additional_parameters_in_fit_method (tests.algorithms.subgroup_sets.test_sdmapstar.TestSDMapStar.test_SDMapStar_additional_parameters_in_fit_method) ... ok\n",
      "test_SDMapStar_fit_method_1 (tests.algorithms.subgroup_sets.test_sdmapstar.TestSDMapStar.test_SDMapStar_fit_method_1) ... ok\n",
      "test_SDMapStar_fit_method_10 (tests.algorithms.subgroup_sets.test_sdmapstar.TestSDMapStar.test_SDMapStar_fit_method_10) ... ok\n",
      "test_SDMapStar_fit_method_2 (tests.algorithms.subgroup_sets.test_sdmapstar.TestSDMapStar.test_SDMapStar_fit_method_2) ... ok\n",
      "test_SDMapStar_fit_method_3 (tests.algorithms.subgroup_sets.test_sdmapstar.TestSDMapStar.test_SDMapStar_fit_method_3) ... ok\n",
      "test_SDMapStar_fit_method_4 (tests.algorithms.subgroup_sets.test_sdmapstar.TestSDMapStar.test_SDMapStar_fit_method_4) ... ok\n",
      "test_SDMapStar_fit_method_5 (tests.algorithms.subgroup_sets.test_sdmapstar.TestSDMapStar.test_SDMapStar_fit_method_5) ... ok\n",
      "test_SDMapStar_fit_method_6 (tests.algorithms.subgroup_sets.test_sdmapstar.TestSDMapStar.test_SDMapStar_fit_method_6) ... ok\n",
      "test_SDMapStar_fit_method_7 (tests.algorithms.subgroup_sets.test_sdmapstar.TestSDMapStar.test_SDMapStar_fit_method_7) ... ok\n",
      "test_SDMapStar_fit_method_8 (tests.algorithms.subgroup_sets.test_sdmapstar.TestSDMapStar.test_SDMapStar_fit_method_8) ... ok\n",
      "test_SDMapStar_fit_method_9 (tests.algorithms.subgroup_sets.test_sdmapstar.TestSDMapStar.test_SDMapStar_fit_method_9) ... ok\n",
      "test_SDMapStar_fpgrowth_method_1 (tests.algorithms.subgroup_sets.test_sdmapstar.TestSDMapStar.test_SDMapStar_fpgrowth_method_1) ... ok\n",
      "test_SDMapStar_fpgrowth_method_2 (tests.algorithms.subgroup_sets.test_sdmapstar.TestSDMapStar.test_SDMapStar_fpgrowth_method_2) ... ok\n",
      "test_SDMapStar_fpgrowth_method_3 (tests.algorithms.subgroup_sets.test_sdmapstar.TestSDMapStar.test_SDMapStar_fpgrowth_method_3) ... ok\n",
      "test_SDMapStar_fpgrowth_method_4 (tests.algorithms.subgroup_sets.test_sdmapstar.TestSDMapStar.test_SDMapStar_fpgrowth_method_4) ... ok\n",
      "test_SDMapStar_init_method_1 (tests.algorithms.subgroup_sets.test_sdmapstar.TestSDMapStar.test_SDMapStar_init_method_1) ... ok\n",
      "test_SDMapStar_init_method_2 (tests.algorithms.subgroup_sets.test_sdmapstar.TestSDMapStar.test_SDMapStar_init_method_2) ... ok\n",
      "test_SDMapStar_unselected_and_selected_subgroups_1 (tests.algorithms.subgroup_sets.test_sdmapstar.TestSDMapStar.test_SDMapStar_unselected_and_selected_subgroups_1) ... ok\n",
      "test_SDMapStar_unselected_and_selected_subgroups_2 (tests.algorithms.subgroup_sets.test_sdmapstar.TestSDMapStar.test_SDMapStar_unselected_and_selected_subgroups_2) ... ok\n",
      "test_VLSD_additional_parameters_in_fit_method (tests.algorithms.subgroup_sets.test_vlsd.TestVLSD.test_VLSD_additional_parameters_in_fit_method) ... ok\n",
      "test_VLSD_fit_method_1 (tests.algorithms.subgroup_sets.test_vlsd.TestVLSD.test_VLSD_fit_method_1) ... ok\n",
      "test_VLSD_fit_method_2 (tests.algorithms.subgroup_sets.test_vlsd.TestVLSD.test_VLSD_fit_method_2) ... ok\n",
      "test_VLSD_fit_method_3 (tests.algorithms.subgroup_sets.test_vlsd.TestVLSD.test_VLSD_fit_method_3) ... ok\n",
      "test_VLSD_fit_method_4 (tests.algorithms.subgroup_sets.test_vlsd.TestVLSD.test_VLSD_fit_method_4) ... ok\n",
      "test_VLSD_fit_method_5 (tests.algorithms.subgroup_sets.test_vlsd.TestVLSD.test_VLSD_fit_method_5) ... ok\n",
      "test_VLSD_fit_method_6 (tests.algorithms.subgroup_sets.test_vlsd.TestVLSD.test_VLSD_fit_method_6) ... ok\n",
      "test_VLSD_fit_method_7 (tests.algorithms.subgroup_sets.test_vlsd.TestVLSD.test_VLSD_fit_method_7) ... ok\n",
      "test_VLSD_init_method_1 (tests.algorithms.subgroup_sets.test_vlsd.TestVLSD.test_VLSD_init_method_1) ... ok\n",
      "test_VLSD_init_method_2 (tests.algorithms.subgroup_sets.test_vlsd.TestVLSD.test_VLSD_init_method_2) ... ok\n",
      "\n",
      "----------------------------------------------------------------------\n",
      "Ran 109 tests in 2.093s\n",
      "\n",
      "OK\n",
      "test_dataframe_filters_general (tests.utils.test_dataframe_filters.TestDataFrameFilter.test_dataframe_filters_general) ... ok\n",
      "test_to_input_format_for_subgroup_list_algorithms_1 (tests.utils.test_file_format_transformations.TestToInputFormatForSubgroupListAlgorithms.test_to_input_format_for_subgroup_list_algorithms_1) ... ok\n",
      "test_to_input_format_for_subgroup_list_algorithms_2 (tests.utils.test_file_format_transformations.TestToInputFormatForSubgroupListAlgorithms.test_to_input_format_for_subgroup_list_algorithms_2) ... ok\n",
      "test_to_input_format_for_subgroup_list_algorithms_3 (tests.utils.test_file_format_transformations.TestToInputFormatForSubgroupListAlgorithms.test_to_input_format_for_subgroup_list_algorithms_3) ... ok\n",
      "\n",
      "----------------------------------------------------------------------\n",
      "Ran 4 tests in 0.057s\n",
      "\n",
      "OK\n"
     ]
    },
    {
     "name": "stdout",
     "output_type": "stream",
     "text": [
      "\n",
      "\n",
      "###################################\n",
      "########## UTILS PACKAGE ##########\n",
      "###################################\n"
     ]
    }
   ],
   "source": [
    "import subgroups.tests as st\n",
    "st.run_all_tests()"
   ]
  },
  {
   "cell_type": "markdown",
   "id": "2af70fa0",
   "metadata": {},
   "source": [
    "## Running the SDIGA algorithm\n",
    "\n",
    "To run the SDIGA algorithm on a dataset, it is necessary to follow these steps:\n",
    "\n",
    "- Load the dataset into a Pandas `DataFrame` object.\n",
    "- Set the target, which must be a tuple of the form (column_name, value).\n",
    "- Create the SDIGA model with the desired parameters and run it."
   ]
  },
  {
   "cell_type": "markdown",
   "id": "fb3ffd30",
   "metadata": {},
   "source": [
    "The following is an example of running this algorithm on a dataset:"
   ]
  },
  {
   "cell_type": "code",
   "execution_count": 3,
   "id": "54d3b2cd",
   "metadata": {
    "vscode": {
     "languageId": "plaintext"
    }
   },
   "outputs": [],
   "source": [
    "import pandas as pd\n",
    "from subgroups.algorithms import SDIGA\n",
    "\n",
    "dataset = pd.DataFrame(\n",
    "    {\n",
    "        'att1': ['v3', 'v2', 'v1'],\n",
    "        'att2': ['v1', 'v2', 'v3'],\n",
    "        'att3': ['v2', 'v1', 'v1'],\n",
    "        'class': ['no', 'yes', 'no']\n",
    "    }\n",
    ")\n",
    "\n",
    "target = ('class', 'yes')\n",
    "\n",
    "model = SDIGA(max_generation=10,population_size=5,crossover_prob=0.7,mutation_prob=0.01,\n",
    "              confidence_weight=0.4,support_weight=0.3,min_confidence=0.6,write_results_in_file=True, file_path = \"./sdiga_results.txt\")\n",
    "model.fit(dataset, target)"
   ]
  },
  {
   "cell_type": "markdown",
   "id": "15332754",
   "metadata": {},
   "source": [
    "## Results\n",
    "\n",
    "Running the following cell, we get the subgroups obtained by the algorithm:"
   ]
  },
  {
   "cell_type": "code",
   "execution_count": 4,
   "id": "dc8d9cea",
   "metadata": {
    "vscode": {
     "languageId": "plaintext"
    }
   },
   "outputs": [
    {
     "name": "stdout",
     "output_type": "stream",
     "text": [
      "Description: [att1 = 'v2', att2 = 'v2'], Target: class = 'yes' ; Quality Measure Fitness = 0.7142857142857143 ; tp = 1 ; fp = 0 ; TP = 1 ; FP = 2 ; unchecked_tp = 1 ; unchecked_fp = 0 ; TP_unchecked = 1 ; FP_unchecked = 2\n"
     ]
    }
   ],
   "source": [
    "with open(\"./sdiga_results.txt\", \"r\") as file:\n",
    "    for current_line in file:\n",
    "        print(current_line.strip())"
   ]
  },
  {
   "cell_type": "markdown",
   "id": "82683098",
   "metadata": {},
   "source": [
    "Each of these lines represents a subgroup discovered by the algorithm along with some of its characteristics. The output will have the following characteristics:\n",
    "\n",
    "- The subgroup found.\n",
    "- The target is the one we defined initially, i.e., `class = 'yes'`.\n",
    "- The quality of the subgroup is measured by the fitness measure.\n",
    "- The values of tp, fp, TP, and FP.\n",
    "- The values of unchecked tp, fp, TP, and FP.\n",
    "\n",
    "These results have been verified in the output file of the SDIGA algorithm run on a toy dataset."
   ]
  },
  {
   "cell_type": "markdown",
   "id": "c5f20622",
   "metadata": {},
   "source": [
    "We can also access different statistics about the result:"
   ]
  },
  {
   "cell_type": "code",
   "execution_count": 5,
   "id": "31557347",
   "metadata": {
    "vscode": {
     "languageId": "plaintext"
    }
   },
   "outputs": [
    {
     "name": "stdout",
     "output_type": "stream",
     "text": [
      "Selected subgroups:  1\n",
      "Unselected subgroups:  48\n"
     ]
    }
   ],
   "source": [
    "print(\"Selected subgroups: \", model.selected_subgroups) # Number of selected subgroups.\n",
    "print(\"Unselected subgroups: \", model.unselected_subgroups) # Number of unselected subgroups due to not meeting the minimum quality threshold."
   ]
  },
  {
   "cell_type": "markdown",
   "id": "9de09124",
   "metadata": {},
   "source": [
    "You can also access the unchecked dataset and encoded dictionary:"
   ]
  },
  {
   "cell_type": "code",
   "execution_count": 6,
   "id": "de9b8cc7",
   "metadata": {
    "vscode": {
     "languageId": "plaintext"
    }
   },
   "outputs": [
    {
     "name": "stdout",
     "output_type": "stream",
     "text": [
      "Encode Dictionary:  {'att1': ['v1', 'v2', 'v3'], 'att2': ['v1', 'v2', 'v3'], 'att3': ['v1', 'v2']}\n",
      "Unchecked Dataframe:     att1  att2  att3 class\n",
      "0     3     1     2    no\n",
      "2     1     3     1    no\n"
     ]
    }
   ],
   "source": [
    "print(\"Encode Dictionary: \", model.encoded_dict)\n",
    "print(\"Unchecked Dataframe: \", model.unchecked_dataframe)"
   ]
  },
  {
   "cell_type": "markdown",
   "id": "ce757a5d-60d4-4983-a5e0-9885b4c769ec",
   "metadata": {},
   "source": [
    "## Another example"
   ]
  },
  {
   "cell_type": "code",
   "execution_count": 7,
   "id": "0f260ad6-b333-440f-9bd1-9f38b0110fa7",
   "metadata": {},
   "outputs": [],
   "source": [
    "from subgroups import datasets\n",
    "\n",
    "dataset_car = datasets.load_car_evaluation_csv()\n",
    "target_car = ('class', 'good')\n",
    "\n",
    "model_car = SDIGA(max_generation=25,population_size=1000,crossover_prob=0.9,mutation_prob=0.01,\n",
    "                       confidence_weight=0.4,support_weight=0.3,min_confidence=0.9,write_results_in_file=True, file_path = \"./sdiga_result_car.txt\")\n",
    "model_car.fit(dataset_car, target_car)"
   ]
  },
  {
   "cell_type": "code",
   "execution_count": 8,
   "id": "2bda590a-2e6f-4d37-bc08-f8df37b18792",
   "metadata": {},
   "outputs": [
    {
     "name": "stdout",
     "output_type": "stream",
     "text": [
      "Description: [buying = 'low', doors = '5more', lug_boot = 'med', maint = 'low', persons = '4', safety = 'med'], Target: class = 'good' ; Quality Measure Fitness = 0.5716765873015874 ; tp = 1 ; fp = 0 ; TP = 69 ; FP = 1659 ; unchecked_tp = 1 ; unchecked_fp = 0 ; TP_unchecked = 69 ; FP_unchecked = 1659\n",
      "Description: [buying = 'low', lug_boot = 'small', maint = 'low', persons = '4', safety = 'high'], Target: class = 'good' ; Quality Measure Fitness = 0.5724212093638846 ; tp = 4 ; fp = 0 ; TP = 69 ; FP = 1659 ; unchecked_tp = 4 ; unchecked_fp = 0 ; TP_unchecked = 68 ; FP_unchecked = 1659\n",
      "Description: [buying = 'med', lug_boot = 'big', maint = 'low', persons = 'more', safety = 'med'], Target: class = 'good' ; Quality Measure Fitness = 0.5724235138048256 ; tp = 4 ; fp = 0 ; TP = 69 ; FP = 1659 ; unchecked_tp = 4 ; unchecked_fp = 0 ; TP_unchecked = 64 ; FP_unchecked = 1659\n",
      "Description: [buying = 'low', doors = '4', lug_boot = 'med', maint = 'low', persons = 'more', safety = 'med'], Target: class = 'good' ; Quality Measure Fitness = 0.5716778858140115 ; tp = 1 ; fp = 0 ; TP = 69 ; FP = 1659 ; unchecked_tp = 1 ; unchecked_fp = 0 ; TP_unchecked = 60 ; FP_unchecked = 1659\n",
      "Description: [buying = 'low', lug_boot = 'big', maint = 'low', persons = 'more', safety = 'med'], Target: class = 'good' ; Quality Measure Fitness = 0.5724264094462 ; tp = 4 ; fp = 0 ; TP = 69 ; FP = 1659 ; unchecked_tp = 4 ; unchecked_fp = 0 ; TP_unchecked = 59 ; FP_unchecked = 1659\n",
      "Description: [buying = 'low', doors = '5more', lug_boot = 'med', maint = 'low', persons = 'more', safety = 'med'], Target: class = 'good' ; Quality Measure Fitness = 0.5716786131021837 ; tp = 1 ; fp = 0 ; TP = 69 ; FP = 1659 ; unchecked_tp = 1 ; unchecked_fp = 0 ; TP_unchecked = 55 ; FP_unchecked = 1659\n",
      "Description: [buying = 'med', lug_boot = 'small', maint = 'low', persons = '4', safety = 'high'], Target: class = 'good' ; Quality Measure Fitness = 0.5724293219914937 ; tp = 4 ; fp = 0 ; TP = 69 ; FP = 1659 ; unchecked_tp = 4 ; unchecked_fp = 0 ; TP_unchecked = 54 ; FP_unchecked = 1659\n",
      "Description: [buying = 'low', doors = '3', lug_boot = 'med', maint = 'low', persons = '4', safety = 'high'], Target: class = 'good' ; Quality Measure Fitness = 0.5716793446459919 ; tp = 1 ; fp = 0 ; TP = 69 ; FP = 1659 ; unchecked_tp = 1 ; unchecked_fp = 0 ; TP_unchecked = 50 ; FP_unchecked = 1659\n",
      "Description: [buying = 'low', doors = '3', lug_boot = 'med', maint = 'med', persons = 'more', safety = 'med'], Target: class = 'good' ; Quality Measure Fitness = 0.5716794914687187 ; tp = 1 ; fp = 0 ; TP = 69 ; FP = 1659 ; unchecked_tp = 1 ; unchecked_fp = 0 ; TP_unchecked = 49 ; FP_unchecked = 1659\n",
      "Description: [buying = 'low', lug_boot = 'big', maint = 'low', persons = '4', safety = 'med'], Target: class = 'good' ; Quality Measure Fitness = 0.5724328395681647 ; tp = 4 ; fp = 0 ; TP = 69 ; FP = 1659 ; unchecked_tp = 4 ; unchecked_fp = 0 ; TP_unchecked = 48 ; FP_unchecked = 1659\n",
      "Description: [buying = 'low', lug_boot = 'big', maint = 'med', persons = '4', safety = 'med'], Target: class = 'good' ; Quality Measure Fitness = 0.5724351983893969 ; tp = 4 ; fp = 0 ; TP = 69 ; FP = 1659 ; unchecked_tp = 4 ; unchecked_fp = 0 ; TP_unchecked = 44 ; FP_unchecked = 1659\n",
      "Description: [buying = 'med', lug_boot = 'big', maint = 'low', persons = '4', safety = 'med'], Target: class = 'good' ; Quality Measure Fitness = 0.5724375683174978 ; tp = 4 ; fp = 0 ; TP = 69 ; FP = 1659 ; unchecked_tp = 4 ; unchecked_fp = 0 ; TP_unchecked = 40 ; FP_unchecked = 1659\n",
      "Description: [buying = 'low', doors = '2', lug_boot = 'med', maint = 'med', persons = 'more', safety = 'high'], Target: class = 'good' ; Quality Measure Fitness = 0.5716814159292035 ; tp = 1 ; fp = 0 ; TP = 69 ; FP = 1659 ; unchecked_tp = 1 ; unchecked_fp = 0 ; TP_unchecked = 36 ; FP_unchecked = 1659\n",
      "Description: [buying = 'low', doors = '5more', lug_boot = 'small', maint = 'low', persons = 'more', safety = 'high'], Target: class = 'good' ; Quality Measure Fitness = 0.5716815651880588 ; tp = 1 ; fp = 0 ; TP = 69 ; FP = 1659 ; unchecked_tp = 1 ; unchecked_fp = 0 ; TP_unchecked = 35 ; FP_unchecked = 1659\n",
      "Description: [buying = 'low', lug_boot = 'small', maint = 'med', persons = '4', safety = 'high'], Target: class = 'good' ; Quality Measure Fitness = 0.5724411442072399 ; tp = 4 ; fp = 0 ; TP = 69 ; FP = 1659 ; unchecked_tp = 4 ; unchecked_fp = 0 ; TP_unchecked = 34 ; FP_unchecked = 1659\n",
      "Description: [buying = 'med', doors = '4', lug_boot = 'small', maint = 'low', persons = 'more', safety = 'high'], Target: class = 'good' ; Quality Measure Fitness = 0.5716823141334687 ; tp = 1 ; fp = 0 ; TP = 69 ; FP = 1659 ; unchecked_tp = 1 ; unchecked_fp = 0 ; TP_unchecked = 30 ; FP_unchecked = 1659\n",
      "Description: [buying = 'low', doors = '5more', lug_boot = 'med', maint = 'med', persons = '4', safety = 'med'], Target: class = 'good' ; Quality Measure Fitness = 0.5716824644549764 ; tp = 1 ; fp = 0 ; TP = 69 ; FP = 1659 ; unchecked_tp = 1 ; unchecked_fp = 0 ; TP_unchecked = 29 ; FP_unchecked = 1659\n",
      "Description: [buying = 'low', doors = '3', lug_boot = 'med', maint = 'med', persons = '4', safety = 'high'], Target: class = 'good' ; Quality Measure Fitness = 0.5716826149546956 ; tp = 1 ; fp = 0 ; TP = 69 ; FP = 1659 ; unchecked_tp = 1 ; unchecked_fp = 0 ; TP_unchecked = 28 ; FP_unchecked = 1659\n",
      "Description: [buying = 'low', doors = '4', lug_boot = 'small', maint = 'med', persons = 'more', safety = 'high'], Target: class = 'good' ; Quality Measure Fitness = 0.5716827656329436 ; tp = 1 ; fp = 0 ; TP = 69 ; FP = 1659 ; unchecked_tp = 1 ; unchecked_fp = 0 ; TP_unchecked = 27 ; FP_unchecked = 1659\n",
      "Description: [buying = 'med', doors = '3', lug_boot = 'small', maint = 'low', persons = 'more', safety = 'high'], Target: class = 'good' ; Quality Measure Fitness = 0.5716829164900382 ; tp = 1 ; fp = 0 ; TP = 69 ; FP = 1659 ; unchecked_tp = 1 ; unchecked_fp = 0 ; TP_unchecked = 26 ; FP_unchecked = 1659\n",
      "Description: [buying = 'low', doors = '4', lug_boot = 'med', maint = 'low', persons = '4', safety = 'med'], Target: class = 'good' ; Quality Measure Fitness = 0.5716830675262979 ; tp = 1 ; fp = 0 ; TP = 69 ; FP = 1659 ; unchecked_tp = 1 ; unchecked_fp = 0 ; TP_unchecked = 25 ; FP_unchecked = 1659\n",
      "Description: [buying = 'med', doors = '5more', lug_boot = 'med', maint = 'low', persons = '4', safety = 'med'], Target: class = 'good' ; Quality Measure Fitness = 0.5716832187420423 ; tp = 1 ; fp = 0 ; TP = 69 ; FP = 1659 ; unchecked_tp = 1 ; unchecked_fp = 0 ; TP_unchecked = 24 ; FP_unchecked = 1659\n",
      "Description: [buying = 'low', doors = '3', lug_boot = 'small', maint = 'low', persons = 'more', safety = 'high'], Target: class = 'good' ; Quality Measure Fitness = 0.5716833701375914 ; tp = 1 ; fp = 0 ; TP = 69 ; FP = 1659 ; unchecked_tp = 1 ; unchecked_fp = 0 ; TP_unchecked = 23 ; FP_unchecked = 1659\n",
      "Description: [buying = 'low', doors = '2', lug_boot = 'med', maint = 'med', persons = '4', safety = 'high'], Target: class = 'good' ; Quality Measure Fitness = 0.571683521713266 ; tp = 1 ; fp = 0 ; TP = 69 ; FP = 1659 ; unchecked_tp = 1 ; unchecked_fp = 0 ; TP_unchecked = 22 ; FP_unchecked = 1659\n",
      "Description: [buying = 'low', lug_boot = 'big', maint = 'med', persons = 'more', safety = 'med'], Target: class = 'good' ; Quality Measure Fitness = 0.5724489795918368 ; tp = 4 ; fp = 0 ; TP = 69 ; FP = 1659 ; unchecked_tp = 4 ; unchecked_fp = 0 ; TP_unchecked = 21 ; FP_unchecked = 1659\n",
      "Description: [buying = 'low', doors = '5more', lug_boot = 'med', maint = 'med', persons = 'more', safety = 'med'], Target: class = 'good' ; Quality Measure Fitness = 0.5716842823048074 ; tp = 1 ; fp = 0 ; TP = 69 ; FP = 1659 ; unchecked_tp = 1 ; unchecked_fp = 0 ; TP_unchecked = 17 ; FP_unchecked = 1659\n",
      "Description: [buying = 'low', doors = '2', lug_boot = 'med', maint = 'low', persons = 'more', safety = 'high'], Target: class = 'good' ; Quality Measure Fitness = 0.5716844349680171 ; tp = 1 ; fp = 0 ; TP = 69 ; FP = 1659 ; unchecked_tp = 1 ; unchecked_fp = 0 ; TP_unchecked = 16 ; FP_unchecked = 1659\n",
      "Description: [buying = 'med', doors = '2', lug_boot = 'med', maint = 'low', persons = '4', safety = 'high'], Target: class = 'good' ; Quality Measure Fitness = 0.5716845878136201 ; tp = 1 ; fp = 0 ; TP = 69 ; FP = 1659 ; unchecked_tp = 1 ; unchecked_fp = 0 ; TP_unchecked = 15 ; FP_unchecked = 1659\n",
      "Description: [buying = 'med', doors = '3', lug_boot = 'med', maint = 'low', persons = 'more', safety = 'med'], Target: class = 'good' ; Quality Measure Fitness = 0.5716847408419435 ; tp = 1 ; fp = 0 ; TP = 69 ; FP = 1659 ; unchecked_tp = 1 ; unchecked_fp = 0 ; TP_unchecked = 14 ; FP_unchecked = 1659\n",
      "Description: [buying = 'med', doors = '5more', lug_boot = 'med', maint = 'low', persons = 'more', safety = 'med'], Target: class = 'good' ; Quality Measure Fitness = 0.5716848940533151 ; tp = 1 ; fp = 0 ; TP = 69 ; FP = 1659 ; unchecked_tp = 1 ; unchecked_fp = 0 ; TP_unchecked = 13 ; FP_unchecked = 1659\n",
      "Description: [buying = 'med', doors = '4', lug_boot = 'med', maint = 'low', persons = '4', safety = 'med'], Target: class = 'good' ; Quality Measure Fitness = 0.5716850474480636 ; tp = 1 ; fp = 0 ; TP = 69 ; FP = 1659 ; unchecked_tp = 1 ; unchecked_fp = 0 ; TP_unchecked = 12 ; FP_unchecked = 1659\n",
      "Description: [buying = 'med', doors = '2', lug_boot = 'med', maint = 'low', persons = 'more', safety = 'high'], Target: class = 'good' ; Quality Measure Fitness = 0.5716852010265184 ; tp = 1 ; fp = 0 ; TP = 69 ; FP = 1659 ; unchecked_tp = 1 ; unchecked_fp = 0 ; TP_unchecked = 11 ; FP_unchecked = 1659\n",
      "Description: [buying = 'low', doors = '3', lug_boot = 'med', maint = 'low', persons = 'more', safety = 'med'], Target: class = 'good' ; Quality Measure Fitness = 0.5716853547890097 ; tp = 1 ; fp = 0 ; TP = 69 ; FP = 1659 ; unchecked_tp = 1 ; unchecked_fp = 0 ; TP_unchecked = 10 ; FP_unchecked = 1659\n",
      "Description: [buying = 'med', doors = '5more', lug_boot = 'small', maint = 'low', persons = 'more', safety = 'high'], Target: class = 'good' ; Quality Measure Fitness = 0.5716855087358685 ; tp = 1 ; fp = 0 ; TP = 69 ; FP = 1659 ; unchecked_tp = 1 ; unchecked_fp = 0 ; TP_unchecked = 9 ; FP_unchecked = 1659\n",
      "Description: [buying = 'low', doors = '5more', lug_boot = 'small', maint = 'med', persons = 'more', safety = 'high'], Target: class = 'good' ; Quality Measure Fitness = 0.5716856628674266 ; tp = 1 ; fp = 0 ; TP = 69 ; FP = 1659 ; unchecked_tp = 1 ; unchecked_fp = 0 ; TP_unchecked = 8 ; FP_unchecked = 1659\n"
     ]
    }
   ],
   "source": [
    "with open(\"./sdiga_result_car.txt\", \"r\") as file:\n",
    "    for current_line in file:\n",
    "        print(current_line.strip())"
   ]
  },
  {
   "cell_type": "code",
   "execution_count": 9,
   "id": "3b77bc2d-3060-4b24-8a2c-a1891673a314",
   "metadata": {},
   "outputs": [
    {
     "name": "stdout",
     "output_type": "stream",
     "text": [
      "Selected subgroups:  35\n",
      "Unselected subgroups:  37764\n"
     ]
    }
   ],
   "source": [
    "print(\"Selected subgroups: \", model_car.selected_subgroups) # Number of selected subgroups.\n",
    "print(\"Unselected subgroups: \", model_car.unselected_subgroups) # Number of unselected subgroups due to not meeting the minimum quality threshold."
   ]
  },
  {
   "cell_type": "code",
   "execution_count": 10,
   "id": "f4ea187c-aa50-4b5a-9954-63053272955d",
   "metadata": {},
   "outputs": [
    {
     "name": "stdout",
     "output_type": "stream",
     "text": [
      "Encode Dictionary:  {'buying': ['high', 'low', 'med', 'vhigh'], 'maint': ['high', 'low', 'med', 'vhigh'], 'doors': ['2', '3', '4', '5more'], 'persons': ['2', '4', 'more'], 'lug_boot': ['big', 'med', 'small'], 'safety': ['high', 'low', 'med']}\n",
      "Unchecked Dataframe:        buying  maint  doors  persons  lug_boot  safety  class\n",
      "0          4      4      1        1         3       2  unacc\n",
      "1          4      4      1        1         3       3  unacc\n",
      "2          4      4      1        1         3       1  unacc\n",
      "3          4      4      1        1         2       2  unacc\n",
      "4          4      4      1        1         2       3  unacc\n",
      "...      ...    ...    ...      ...       ...     ...    ...\n",
      "1720       2      2      4        3         3       3    acc\n",
      "1722       2      2      4        3         2       2  unacc\n",
      "1724       2      2      4        3         2       1  vgood\n",
      "1725       2      2      4        3         1       2  unacc\n",
      "1727       2      2      4        3         1       1  vgood\n",
      "\n",
      "[1666 rows x 7 columns]\n"
     ]
    }
   ],
   "source": [
    "print(\"Encode Dictionary: \", model_car.encoded_dict)\n",
    "print(\"Unchecked Dataframe: \", model_car.unchecked_dataframe)"
   ]
  },
  {
   "cell_type": "markdown",
   "id": "2e829855",
   "metadata": {},
   "source": [
    "## References\n",
    "<a id=\"1\">[1]</a>\n",
    "Carmona, C.J., González, P., del Jesus, M.J. and Herrera, F. (2014) - Overview on evolutionary subgroup discovery: analysis of the suitability and potential of the search performed by evolutionary algorithms. WIREs Data Mining Knowl Discov, 4: 87-103. https://doi.org/10.1002/widm.1118\n",
    "\n",
    "<a id=\"2\">[2]</a> \n",
    "Del Jesus, María José & González, Pedro & Herrera, Francisco & Mesonero, Mikel. (2007) - Evolutionary Fuzzy Rule Induction Process for Subgroup Discovery: A Case Study in Marketing. Fuzzy Systems, IEEE Transactions on. 15. 578 - 592. 10.1109/TFUZZ.2006.890662. "
   ]
  }
 ],
 "metadata": {
  "kernelspec": {
   "display_name": "Python 3 (ipykernel)",
   "language": "python",
   "name": "python3"
  },
  "language_info": {
   "codemirror_mode": {
    "name": "ipython",
    "version": 3
   },
   "file_extension": ".py",
   "mimetype": "text/x-python",
   "name": "python",
   "nbconvert_exporter": "python",
   "pygments_lexer": "ipython3",
   "version": "3.13.5"
  }
 },
 "nbformat": 4,
 "nbformat_minor": 5
}
