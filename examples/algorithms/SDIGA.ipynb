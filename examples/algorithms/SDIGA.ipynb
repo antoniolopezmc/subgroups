{
 "cells": [
  {
   "cell_type": "markdown",
   "id": "9743c907",
   "metadata": {},
   "source": [
    "# Example of using the SDMap algorithm"
   ]
  },
  {
   "cell_type": "markdown",
   "id": "b64ef367",
   "metadata": {},
   "source": [
    "## About this document\n",
    "\n",
    "The purpose of this document is to show an example of using the SDIGA algorithm.\n",
    "\n",
    "In the following sections, an introduction of the this algorithm will be presented, followed by instructions to install the `subgroups` library. Then, the execution process of the SDIGA algorithm will be described, including the necessary steps to consider. Finally, the results obtained from the application of this algorithm will be presented, highlighting the information obtained in the output file and the one that can be accessed through the model properties."
   ]
  },
  {
   "cell_type": "markdown",
   "id": "c6a392cf",
   "metadata": {},
   "source": [
    "## SDIGA algorithm\n",
    "The SDIGA algorithm is a subgroup discovery algorithm that uses a genetic algorithm to discover subgroups in a dataset; the genetic algorithm will run for a specified number of generations. The algorithm will find subgroups until the stopping criteria are met, which can be not enough quality of the subgroups or discovering subgrups that have already been found. It is designed to find interesting subgroups that are statistically significant and have a high predictive power."
   ]
  },
  {
   "cell_type": "markdown",
   "id": "89faf653",
   "metadata": {},
   "source": [
    "## Installing the `subgroups` library\n",
    "To install the `subgroups` library, you have to execute the following cell:"
   ]
  },
  {
   "cell_type": "code",
   "execution_count": null,
   "id": "1fdc1846",
   "metadata": {
    "vscode": {
     "languageId": "plaintext"
    }
   },
   "outputs": [],
   "source": [
    "!pip install subgroups"
   ]
  },
  {
   "cell_type": "markdown",
   "id": "56ec3507",
   "metadata": {},
   "source": [
    "After that, to verify that the installation was successful, yo can run the following cell:"
   ]
  },
  {
   "cell_type": "code",
   "execution_count": null,
   "id": "8dcfb393",
   "metadata": {
    "vscode": {
     "languageId": "plaintext"
    }
   },
   "outputs": [],
   "source": [
    "import subgroups.tests as st\n",
    "st.run_all_tests()"
   ]
  },
  {
   "cell_type": "markdown",
   "id": "2af70fa0",
   "metadata": {},
   "source": [
    "## Running the SDIGA algorithm\n",
    "\n",
    "To run the SDIGA algorithm on a dataset, it is necessary to follow these steps:\n",
    "\n",
    "- Load the dataset into a Pandas `DataFrame` object.\n",
    "- Set the target, which must be a tuple of the form (column_name, value).\n",
    "- Create the SDIGA model with the desired parameters and run it."
   ]
  },
  {
   "cell_type": "markdown",
   "id": "fb3ffd30",
   "metadata": {},
   "source": [
    "The following is an example of running this algorithm on a dataset:"
   ]
  },
  {
   "cell_type": "code",
   "execution_count": null,
   "id": "54d3b2cd",
   "metadata": {
    "vscode": {
     "languageId": "plaintext"
    }
   },
   "outputs": [],
   "source": [
    "import pandas as pd\n",
    "from subgroups.algorithms import SDIGA\n",
    "\n",
    "dataset = pd.DataFrame(\n",
    "    {\n",
    "        'att1': ['v3', 'v2', 'v1'],\n",
    "        'att2': ['v1', 'v2', 'v3'],\n",
    "        'att3': ['v2', 'v1', 'v1'],\n",
    "        'class': ['no', 'yes', 'no']\n",
    "    }\n",
    ")\n",
    "\n",
    "target = ('class', 'yes')\n",
    "\n",
    "model = SDIGA(max_generation=10,population_size=5,crossover_prob=0.7,mutation_prob=0.01,\n",
    "              confidence_weight=0.4,support_weight=0.3,min_confidence=0.6,write_results_in_file=True, file_path = \"./sdiga_results.txt\")\n",
    "model.fit(dataset, target)"
   ]
  },
  {
   "cell_type": "markdown",
   "id": "15332754",
   "metadata": {},
   "source": [
    "## Results\n",
    "\n",
    "Running the following cell, we get the subgroups obtained by the algorithm:"
   ]
  },
  {
   "cell_type": "code",
   "execution_count": null,
   "id": "dc8d9cea",
   "metadata": {
    "vscode": {
     "languageId": "plaintext"
    }
   },
   "outputs": [],
   "source": [
    "with open(\"./sdiga_results.txt\", \"r\") as file:\n",
    "    for current_line in file:\n",
    "        print(current_line.strip())"
   ]
  },
  {
   "cell_type": "markdown",
   "id": "82683098",
   "metadata": {},
   "source": [
    "Each of these lines represents a subgroup discovered by the algorithm along with some of its characteristics. The output will have the following characteristics:\n",
    "\n",
    "- The subgroup is described by the pattern `[att1 = 'v3']`.\n",
    "- The target is the one we defined initially, i.e., `class = 'yes'`.\n",
    "- The quality of the subgroup is measured by the fitness measure.\n",
    "- The values of tp, fp, TP, and FP.\n",
    "- The values of unchecked tp, fp, TP, and FP.\n",
    "\n",
    "These results have been verified in the output file of the SDIGA algorithm run on a toy dataset."
   ]
  },
  {
   "cell_type": "markdown",
   "id": "c5f20622",
   "metadata": {},
   "source": [
    "We can also access different statistics about the result:"
   ]
  },
  {
   "cell_type": "code",
   "execution_count": null,
   "id": "31557347",
   "metadata": {
    "vscode": {
     "languageId": "plaintext"
    }
   },
   "outputs": [],
   "source": [
    "print(\"Selected subgroups: \", model.selected_subgroups) # Number of selected subgroups\n",
    "print(\"Unselected subgroups: \", model.unselected_subgroups) # Number of unselected subgroups due to not meeting the minimum quality threshold\n",
    "print(\"Visited nodes: \", model.visited_nodes) # Number of nodes (subgroups) visited from the search space"
   ]
  },
  {
   "cell_type": "markdown",
   "id": "9de09124",
   "metadata": {},
   "source": [
    "You can also access the unchecked dataset and encoded dictionary:"
   ]
  },
  {
   "cell_type": "code",
   "execution_count": null,
   "id": "de9b8cc7",
   "metadata": {
    "vscode": {
     "languageId": "plaintext"
    }
   },
   "outputs": [],
   "source": [
    "print(\"Encode Dictionary: \", model.encoded_dict)\n",
    "print(\"Unchecked Dataframe: \", model.unchecked_dataframe)"
   ]
  },
  {
   "cell_type": "markdown",
   "id": "2e829855",
   "metadata": {},
   "source": [
    "## References\n",
    "<a id=\"1\">[1]</a>\n",
    "Carmona, C.J., González, P., del Jesus, M.J. and Herrera, F. (2014) - Overview on evolutionary subgroup discovery: analysis of the suitability and potential of the search performed by evolutionary algorithms. WIREs Data Mining Knowl Discov, 4: 87-103. https://doi.org/10.1002/widm.1118\n",
    "\n",
    "<a id=\"2\">[2]</a> \n",
    "Del Jesus, María José & González, Pedro & Herrera, Francisco & Mesonero, Mikel. (2007) - Evolutionary Fuzzy Rule Induction Process for Subgroup Discovery: A Case Study in Marketing. Fuzzy Systems, IEEE Transactions on. 15. 578 - 592. 10.1109/TFUZZ.2006.890662. "
   ]
  }
 ],
 "metadata": {
  "language_info": {
   "name": "python"
  }
 },
 "nbformat": 4,
 "nbformat_minor": 5
}
